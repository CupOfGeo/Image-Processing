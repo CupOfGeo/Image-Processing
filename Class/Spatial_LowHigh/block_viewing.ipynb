{
 "cells": [
  {
   "cell_type": "markdown",
   "metadata": {},
   "source": [
    "# Block-wise viewing of an Image\n",
    "Stough, DIP\n",
    "\n",
    "Through spatial filtering we have been looking at ways of understanding the local neighborhood of a pixel. We saw that a low-pass spatial filter such as a Gaussian can give us some kind of weighted average of the local neighborhood, while the high-pass (e.g., Laplacian) tells us the degree to which a pixel is on an edge, or the edginess of the neighborhood. \n",
    "\n",
    "## Block Transforms\n",
    "To simplify our studies, we're going to start splitting up the image into non-overlapping square blocks. That way, instead of having a different local neighborhood for each pixel, we'll now have every pixel within a block sharing the local neighborhood. Let's see what we mean.\n",
    "\n",
    "- [View as blocks](https://scikit-image.org/docs/dev/api/skimage.util.html#skimage.util.view_as_blocks)\n",
    "- [Montage](https://scikit-image.org/docs/0.7.0/api/skimage.util.montage.html#)\n",
    "- [Online example of usage](https://scikit-image.org/docs/dev/auto_examples/numpy_operations/plot_view_as_blocks.html)"
   ]
  },
  {
   "cell_type": "code",
   "execution_count": 1,
   "metadata": {},
   "outputs": [],
   "source": [
    "%matplotlib widget\n",
    "import matplotlib.pyplot as plt\n",
    "import numpy as np\n",
    "from skimage.util import view_as_blocks\n",
    "from skimage.util import montage"
   ]
  },
  {
   "cell_type": "code",
   "execution_count": 2,
   "metadata": {},
   "outputs": [],
   "source": [
    "def normImage(I):\n",
    "    I = I.copy() - I.min()\n",
    "    I = I/I.max()\n",
    "    return I\n",
    "\n",
    "def arrInfo(I):\n",
    "    return I.shape, I.min(), I.max(), I.dtype"
   ]
  },
  {
   "cell_type": "code",
   "execution_count": 3,
   "metadata": {},
   "outputs": [
    {
     "data": {
      "text/plain": [
       "((800, 1200, 3), 0.0, 1.0, dtype('float32'))"
      ]
     },
     "execution_count": 3,
     "metadata": {},
     "output_type": "execute_result"
    }
   ],
   "source": [
    "# Load an image\n",
    "I = plt.imread('candy.png')\n",
    "arrInfo(I)"
   ]
  },
  {
   "cell_type": "markdown",
   "metadata": {},
   "source": [
    "&nbsp;\n",
    "## Split the image into 8x8x3 blocks"
   ]
  },
  {
   "cell_type": "code",
   "execution_count": 4,
   "metadata": {},
   "outputs": [],
   "source": [
    "block_shape = (8, 8, 3)\n",
    "view = view_as_blocks(I, block_shape=block_shape)"
   ]
  },
  {
   "cell_type": "code",
   "execution_count": 5,
   "metadata": {},
   "outputs": [
    {
     "data": {
      "text/plain": [
       "(100, 150, 1, 8, 8, 3)"
      ]
     },
     "execution_count": 5,
     "metadata": {},
     "output_type": "execute_result"
    }
   ],
   "source": [
    "view.shape"
   ]
  },
  {
   "cell_type": "code",
   "execution_count": 6,
   "metadata": {},
   "outputs": [
    {
     "name": "stdout",
     "output_type": "stream",
     "text": [
      "(15000, 8, 8, 3)\n"
     ]
    }
   ],
   "source": [
    "# We'll reshape the view so we can process the blocks in a single dimension.\n",
    "view = np.squeeze(view)\n",
    "\n",
    "blockView = view.reshape([view.shape[0]*view.shape[1]] + list(view.shape[2:]))\n",
    "print(blockView.shape)"
   ]
  },
  {
   "cell_type": "markdown",
   "metadata": {},
   "source": [
    "&nbsp;\n",
    "\n",
    "## Let's replace each block with its mean color\n",
    "Study the below loop. I know I said we'd avoid looping over pixels, but I kind of lied. Here, we're looping over 8x8 blocks, which is okay :-P\n",
    "\n",
    "Think about how we can compute almost anything about a block inside this loop, "
   ]
  },
  {
   "cell_type": "code",
   "execution_count": 7,
   "metadata": {},
   "outputs": [],
   "source": [
    "newImageBlocks = np.zeros(blockView.shape)\n",
    "\n",
    "for i, block in enumerate(blockView):\n",
    "    bT = np.mean(block, axis=(0,1)) # Some transform of the block\n",
    "    # bT is a (3,) array of the average color of the block\n",
    "    # This line sets each of the 8x8 pixels to be the (1,1,3) version of the bT\n",
    "    newImageBlocks[i][:] = np.reshape(bT, (1,1,3)) "
   ]
  },
  {
   "cell_type": "code",
   "execution_count": 8,
   "metadata": {},
   "outputs": [],
   "source": [
    "# Use montage to put the blocks back together.\n",
    "I_mean = montage(newImageBlocks, grid_shape=[view.shape[0], view.shape[1]], multichannel=True)"
   ]
  },
  {
   "cell_type": "code",
   "execution_count": 9,
   "metadata": {},
   "outputs": [
    {
     "data": {
      "text/plain": [
       "((800, 1200, 3), 0.05061276629567146, 0.9792894721031189, dtype('float64'))"
      ]
     },
     "execution_count": 9,
     "metadata": {},
     "output_type": "execute_result"
    }
   ],
   "source": [
    "arrInfo(I_mean)"
   ]
  },
  {
   "cell_type": "markdown",
   "metadata": {},
   "source": [
    "&nbsp;\n",
    "\n",
    "## Visualize the image and its mean reconstruction"
   ]
  },
  {
   "cell_type": "code",
   "execution_count": 10,
   "metadata": {},
   "outputs": [
    {
     "data": {
      "application/vnd.jupyter.widget-view+json": {
       "model_id": "7fa54034a86743cdb163e3d05f5bde91",
       "version_major": 2,
       "version_minor": 0
      },
      "text/plain": [
       "Canvas(toolbar=Toolbar(toolitems=[('Home', 'Reset original view', 'home', 'home'), ('Back', 'Back to previous …"
      ]
     },
     "metadata": {},
     "output_type": "display_data"
    }
   ],
   "source": [
    "f, ax = plt.subplots(1,2, figsize=(7,3), sharex=True, sharey=True)\n",
    "ax[0].imshow(I)\n",
    "ax[0].set_title('Original Image')\n",
    "ax[1].imshow(I_mean)\n",
    "ax[1].set_title('Mean Reconstruction')\n",
    "plt.tight_layout()"
   ]
  },
  {
   "cell_type": "markdown",
   "metadata": {},
   "source": [
    "&nbsp;\n",
    "\n",
    "## Characterizing the information in a block \n",
    "In the above we've replaced the 64 colors within a block with just one color. But then, if you don't zoom in too much, notice that we didn't lose a lot of what matters about the image. In fact, if you could keep just one piece of information about a block, you could do a lot worse than the mean. \n",
    "\n",
    "In fact what we just did is 64:1 lossy compression of the image. That's great, but with quite a bit of loss. Maybe we could keep more information in places where it matters, and less in places where it doesn't."
   ]
  },
  {
   "cell_type": "code",
   "execution_count": 11,
   "metadata": {},
   "outputs": [
    {
     "data": {
      "text/plain": [
       "1"
      ]
     },
     "execution_count": 11,
     "metadata": {},
     "output_type": "execute_result"
    }
   ],
   "source": [
    "(1,1)[0]"
   ]
  },
  {
   "cell_type": "code",
   "execution_count": 12,
   "metadata": {},
   "outputs": [],
   "source": [
    "'''\n",
    "myFucntion takes an image I and a block_shape which is a tuple (8,8)\n",
    "and will return a lossy compression of the image using the blocks mean\n",
    "'''\n",
    "def myFunction(I, block_shape):\n",
    "    block_shape = (block_shape[0], block_shape[1], 3)\n",
    "    view = view_as_blocks(I, block_shape=block_shape)\n",
    "    # We'll reshape the view so we can process the blocks in a single dimension.\n",
    "    view = np.squeeze(view)\n",
    "\n",
    "    blockView = view.reshape([view.shape[0]*view.shape[1]] + list(view.shape[2:]))\n",
    "    print(blockView.shape)\n",
    "    \n",
    "    newImageBlocks = np.zeros(blockView.shape)\n",
    "\n",
    "    for i, block in enumerate(blockView):\n",
    "        bT = np.mean(block, axis=(0,1)) # Some transform of the block\n",
    "        # bT is a (3,) array of the average color of the block\n",
    "        # This line sets each of the 8x8 pixels to be the (1,1,3) version of the bT\n",
    "        newImageBlocks[i][:] = np.reshape(bT, (1,1,3)) \n",
    "    I_mean = montage(newImageBlocks, grid_shape=[view.shape[0], view.shape[1]], multichannel=True)\n",
    "    return I_mean"
   ]
  },
  {
   "cell_type": "code",
   "execution_count": 13,
   "metadata": {},
   "outputs": [
    {
     "ename": "NameError",
     "evalue": "name 'M' is not defined",
     "output_type": "error",
     "traceback": [
      "\u001b[0;31m---------------------------------------------------------------------------\u001b[0m",
      "\u001b[0;31mNameError\u001b[0m                                 Traceback (most recent call last)",
      "\u001b[0;32m<ipython-input-13-492941a34a54>\u001b[0m in \u001b[0;36m<module>\u001b[0;34m\u001b[0m\n\u001b[0;32m----> 1\u001b[0;31m \u001b[0mM\u001b[0m \u001b[0;34m=\u001b[0m \u001b[0mmyFunction\u001b[0m\u001b[0;34m(\u001b[0m\u001b[0mM\u001b[0m\u001b[0;34m,\u001b[0m \u001b[0;34m(\u001b[0m\u001b[0;36m8\u001b[0m\u001b[0;34m,\u001b[0m\u001b[0;36m8\u001b[0m\u001b[0;34m)\u001b[0m\u001b[0;34m)\u001b[0m\u001b[0;34m\u001b[0m\u001b[0;34m\u001b[0m\u001b[0m\n\u001b[0m\u001b[1;32m      2\u001b[0m \u001b[0;31m#arrInfo(M)\u001b[0m\u001b[0;34m\u001b[0m\u001b[0;34m\u001b[0m\u001b[0;34m\u001b[0m\u001b[0m\n\u001b[1;32m      3\u001b[0m \u001b[0mplt\u001b[0m\u001b[0;34m.\u001b[0m\u001b[0mfigure\u001b[0m\u001b[0;34m(\u001b[0m\u001b[0;34m)\u001b[0m\u001b[0;34m\u001b[0m\u001b[0;34m\u001b[0m\u001b[0m\n\u001b[1;32m      4\u001b[0m \u001b[0mplt\u001b[0m\u001b[0;34m.\u001b[0m\u001b[0mimshow\u001b[0m\u001b[0;34m(\u001b[0m\u001b[0mM\u001b[0m\u001b[0;34m)\u001b[0m\u001b[0;34m\u001b[0m\u001b[0;34m\u001b[0m\u001b[0m\n",
      "\u001b[0;31mNameError\u001b[0m: name 'M' is not defined"
     ]
    }
   ],
   "source": [
    "M = myFunction(M, (8,8))\n",
    "#arrInfo(M)\n",
    "plt.figure()\n",
    "plt.imshow(M)"
   ]
  },
  {
   "cell_type": "code",
   "execution_count": null,
   "metadata": {},
   "outputs": [],
   "source": []
  },
  {
   "cell_type": "code",
   "execution_count": 14,
   "metadata": {},
   "outputs": [],
   "source": [
    "def block_transform(I, block_shape,transform='mean'):\n",
    "    block_shape = (block_shape[0], block_shape[1], 3)\n",
    "    view = view_as_blocks(I, block_shape=block_shape)\n",
    "    # We'll reshape the view so we can process the blocks in a single dimension.\n",
    "    view = np.squeeze(view)\n",
    "\n",
    "    blockView = view.reshape([view.shape[0]*view.shape[1]] + list(view.shape[2:]))\n",
    "    print(blockView.shape)\n",
    "    \n",
    "    newImageBlocks = np.zeros(blockView.shape)\n",
    "\n",
    "    for i, block in enumerate(blockView):\n",
    "        if(transform=='mean'):\n",
    "            bT = np.mean(block, axis=(0,1)) # Mean transform of the block\n",
    "        elif(transform == 'max'):\n",
    "            bT = np.max(block, axis=(0,1)) # Some transform of the block\n",
    "        elif(transform ==\"median\"):\n",
    "            bT = np.median(block, axis=(0,1))\n",
    "        elif(transform == \"min\"):\n",
    "             bT= np.min(block,axis=(0,1))\n",
    "        else:\n",
    "            print(\"Unknown transform returning -1\")\n",
    "            return -1\n",
    "        # bT is a (3,) array of the average color of the block\n",
    "        # This line sets each of the 8x8 pixels to be the (1,1,3) version of the bT\n",
    "        newImageBlocks[i][:] = np.reshape(bT, (1,1,3)) \n",
    "    I_max = montage(newImageBlocks, grid_shape=[view.shape[0], view.shape[1]], multichannel=True)\n",
    "    return I_max"
   ]
  },
  {
   "cell_type": "code",
   "execution_count": 15,
   "metadata": {},
   "outputs": [
    {
     "data": {
      "application/vnd.jupyter.widget-view+json": {
       "model_id": "75741d1e020b47a9be63a34e0e82709c",
       "version_major": 2,
       "version_minor": 0
      },
      "text/plain": [
       "Canvas(toolbar=Toolbar(toolitems=[('Home', 'Reset original view', 'home', 'home'), ('Back', 'Back to previous …"
      ]
     },
     "metadata": {},
     "output_type": "display_data"
    },
    {
     "name": "stdout",
     "output_type": "stream",
     "text": [
      "(15000, 8, 8, 3)\n",
      "(15000, 8, 8, 3)\n",
      "(15000, 8, 8, 3)\n"
     ]
    },
    {
     "data": {
      "text/plain": [
       "Text(0.5, 1.0, 'Min')"
      ]
     },
     "execution_count": 15,
     "metadata": {},
     "output_type": "execute_result"
    }
   ],
   "source": [
    "\n",
    "f, ax = plt.subplots(1,4, sharex=True, sharey=True)\n",
    "ax[0].imshow(I)\n",
    "ax[0].set_title(\"Original\")\n",
    "ax[1].imshow(block_transform(I,(8,8),\"median\"))\n",
    "ax[1].set_title(\"Median\")\n",
    "ax[2].imshow(block_transform(I,(8,8),\"max\"))\n",
    "ax[2].set_title(\"Max\")\n",
    "ax[3].imshow(block_transform(I,(8,8),\"min\"))\n",
    "ax[3].set_title(\"Min\")\n"
   ]
  },
  {
   "cell_type": "code",
   "execution_count": 16,
   "metadata": {},
   "outputs": [
    {
     "data": {
      "application/vnd.jupyter.widget-view+json": {
       "model_id": "427b750308f545e88e136ac4b509a254",
       "version_major": 2,
       "version_minor": 0
      },
      "text/plain": [
       "Canvas(toolbar=Toolbar(toolitems=[('Home', 'Reset original view', 'home', 'home'), ('Back', 'Back to previous …"
      ]
     },
     "metadata": {},
     "output_type": "display_data"
    },
    {
     "name": "stdout",
     "output_type": "stream",
     "text": [
      "(15000, 8, 8, 3)\n",
      "(60000, 4, 4, 3)\n"
     ]
    },
    {
     "data": {
      "text/plain": [
       "Text(0.5, 1.0, '4x4 mean')"
      ]
     },
     "execution_count": 16,
     "metadata": {},
     "output_type": "execute_result"
    }
   ],
   "source": [
    "f, ax = plt.subplots(1,3, sharex=True, sharey=True)\n",
    "ax[0].imshow(I)\n",
    "ax[0].set_title(\"Original\")\n",
    "ax[1].imshow(block_transform(I,(8,8),\"mean\"))\n",
    "ax[1].set_title(\"8x8 mean\")\n",
    "ax[2].imshow(block_transform(I,(4,4),\"mean\"))\n",
    "ax[2].set_title(\"4x4 mean\")\n"
   ]
  },
  {
   "cell_type": "code",
   "execution_count": null,
   "metadata": {},
   "outputs": [],
   "source": []
  }
 ],
 "metadata": {
  "kernelspec": {
   "display_name": "Python 3",
   "language": "python",
   "name": "python3"
  },
  "language_info": {
   "codemirror_mode": {
    "name": "ipython",
    "version": 3
   },
   "file_extension": ".py",
   "mimetype": "text/x-python",
   "name": "python",
   "nbconvert_exporter": "python",
   "pygments_lexer": "ipython3",
   "version": "3.7.6"
  }
 },
 "nbformat": 4,
 "nbformat_minor": 4
}
