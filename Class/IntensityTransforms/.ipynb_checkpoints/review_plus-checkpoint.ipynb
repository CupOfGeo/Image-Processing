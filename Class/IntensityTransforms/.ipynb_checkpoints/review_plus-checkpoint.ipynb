{
 "cells": [
  {
   "cell_type": "code",
   "execution_count": 1,
   "metadata": {},
   "outputs": [
    {
     "data": {
      "text/markdown": [
       "# Brief review of images, color, sampling, quantization, windowing\n",
       "Joshua Stough, DIP 365\n",
       "\n",
       "Through [Gonzalez/Woods](http://www.imageprocessingplace.com/index.htm) 2.6 + into 3\n",
       "\n",
       "During this module we learned about the following concepts:\n",
       "- histograms and contrast: \n",
       "- uniform and gaussian probability distributions:\n",
       "- \n"
      ],
      "text/plain": [
       "<IPython.core.display.Markdown object>"
      ]
     },
     "metadata": {},
     "output_type": "display_data"
    }
   ],
   "source": [
    "%%markdown\n",
    "# Brief review of images, color, sampling, quantization, windowing\n",
    "Joshua Stough, DIP 365\n",
    "\n",
    "Through [Gonzalez/Woods](http://www.imageprocessingplace.com/index.htm) 2.6 + into 3\n",
    "\n",
    "During this module we learned about the following concepts:\n",
    "- histograms and contrast: \n",
    "- uniform and gaussian probability distributions:\n",
    "- "
   ]
  },
  {
   "cell_type": "code",
   "execution_count": 2,
   "metadata": {},
   "outputs": [],
   "source": [
    "%matplotlib widget\n",
    "# %matplotlib inline\n",
    "import matplotlib.pyplot as plt\n",
    "import numpy as np\n",
    "import numpy.random as random"
   ]
  },
  {
   "cell_type": "code",
   "execution_count": 3,
   "metadata": {},
   "outputs": [],
   "source": [
    "IU = np.concatenate([random.rand(100,100,1) for x in range(3)], axis = 2)\n",
    "IN = np.concatenate([random.randn(100,100,1) for x in range(3)], axis = 2)\n",
    "IN = IN - IN.ravel().min() #Make the minimum 0\n",
    "IN = IN/IN.ravel().max()  #Make max 1"
   ]
  },
  {
   "cell_type": "code",
   "execution_count": 4,
   "metadata": {},
   "outputs": [
    {
     "data": {
      "application/vnd.jupyter.widget-view+json": {
       "model_id": "64bc83cd86aa4619804d94bcaad51d01",
       "version_major": 2,
       "version_minor": 0
      },
      "text/plain": [
       "Canvas(toolbar=Toolbar(toolitems=[('Home', 'Reset original view', 'home', 'home'), ('Back', 'Back to previous …"
      ]
     },
     "metadata": {},
     "output_type": "display_data"
    },
    {
     "data": {
      "text/plain": [
       "Text(0.5, 1.0, 'Normal Random Image')"
      ]
     },
     "execution_count": 4,
     "metadata": {},
     "output_type": "execute_result"
    }
   ],
   "source": [
    "f, axarr = plt.subplots(1,2, figsize=(10, 3))\n",
    "axarr[0].imshow(IU)\n",
    "axarr[0].set_title('Uniform Random Image')\n",
    "axarr[1].imshow(IN)\n",
    "axarr[1].set_title('Normal Random Image')"
   ]
  },
  {
   "cell_type": "code",
   "execution_count": null,
   "metadata": {},
   "outputs": [],
   "source": []
  },
  {
   "cell_type": "code",
   "execution_count": null,
   "metadata": {},
   "outputs": [],
   "source": []
  }
 ],
 "metadata": {
  "kernelspec": {
   "display_name": "Python 3",
   "language": "python",
   "name": "python3"
  },
  "language_info": {
   "codemirror_mode": {
    "name": "ipython",
    "version": 3
   },
   "file_extension": ".py",
   "mimetype": "text/x-python",
   "name": "python",
   "nbconvert_exporter": "python",
   "pygments_lexer": "ipython3",
   "version": "3.7.6"
  }
 },
 "nbformat": 4,
 "nbformat_minor": 4
}
