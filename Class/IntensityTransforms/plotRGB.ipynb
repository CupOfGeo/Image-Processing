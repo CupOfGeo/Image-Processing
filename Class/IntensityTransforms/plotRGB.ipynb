{
 "cells": [
  {
   "cell_type": "code",
   "execution_count": 1,
   "metadata": {},
   "outputs": [],
   "source": [
    "%matplotlib widget\n",
    "import matplotlib.pyplot as plt\n",
    "from mpl_toolkits.mplot3d import Axes3D\n",
    "import numpy as np"
   ]
  },
  {
   "cell_type": "code",
   "execution_count": 2,
   "metadata": {},
   "outputs": [
    {
     "data": {
      "application/vnd.jupyter.widget-view+json": {
       "model_id": "9f5ecece5d7b4a72a5268623412b8f35",
       "version_major": 2,
       "version_minor": 0
      },
      "text/plain": [
       "Canvas(toolbar=Toolbar(toolitems=[('Home', 'Reset original view', 'home', 'home'), ('Back', 'Back to previous …"
      ]
     },
     "metadata": {},
     "output_type": "display_data"
    }
   ],
   "source": [
    "NUMPOINTS = 5000\n",
    "\n",
    "fig = plt.figure()\n",
    "ax = fig.add_subplot(111, projection='3d')\n",
    "\n",
    "I = plt.imread('bellagio.jpg')"
   ]
  },
  {
   "cell_type": "code",
   "execution_count": 3,
   "metadata": {},
   "outputs": [
    {
     "data": {
      "application/vnd.jupyter.widget-view+json": {
       "model_id": "340713e044714015b90143613b72023a",
       "version_major": 2,
       "version_minor": 0
      },
      "text/plain": [
       "Canvas(toolbar=Toolbar(toolitems=[('Home', 'Reset original view', 'home', 'home'), ('Back', 'Back to previous …"
      ]
     },
     "metadata": {},
     "output_type": "display_data"
    },
    {
     "data": {
      "text/plain": [
       "<matplotlib.image.AxesImage at 0x7f311c116cd0>"
      ]
     },
     "execution_count": 3,
     "metadata": {},
     "output_type": "execute_result"
    }
   ],
   "source": [
    "plt.figure()\n",
    "plt.imshow(I)"
   ]
  },
  {
   "cell_type": "code",
   "execution_count": 4,
   "metadata": {},
   "outputs": [
    {
     "data": {
      "text/plain": [
       "Text(0.5, 0, 'Blue')"
      ]
     },
     "execution_count": 4,
     "metadata": {},
     "output_type": "execute_result"
    }
   ],
   "source": [
    "#X is the N*M x 3 version of the image.\n",
    "X = np.concatenate([np.expand_dims(IC, axis = 1) for IC in\n",
    "                    [I[...,0].ravel(), I[...,1].ravel(), I[...,2].ravel()]], axis = 1)\n",
    "\n",
    "#https://docs.scipy.org/doc/numpy/reference/generated/numpy.random.choice.html\n",
    "randomInds = np.random.choice(np.arange(X.shape[0]), NUMPOINTS, replace=False)\n",
    "\n",
    "#Now plot those pixels in the 3d space.\n",
    "ax.scatter(X[randomInds,0], X[randomInds,1], X[randomInds,2], c=X[randomInds, :])\n",
    "\n",
    "#Label the axes.\n",
    "ax.set_xlabel('Red')\n",
    "ax.set_ylabel('Green')\n",
    "ax.set_zlabel('Blue')"
   ]
  },
  {
   "cell_type": "code",
   "execution_count": null,
   "metadata": {},
   "outputs": [],
   "source": []
  },
  {
   "cell_type": "code",
   "execution_count": 5,
   "metadata": {},
   "outputs": [
    {
     "data": {
      "application/vnd.jupyter.widget-view+json": {
       "model_id": "fec2f65c168e40c3b687eca3cf2251b7",
       "version_major": 2,
       "version_minor": 0
      },
      "text/plain": [
       "Canvas(toolbar=Toolbar(toolitems=[('Home', 'Reset original view', 'home', 'home'), ('Back', 'Back to previous …"
      ]
     },
     "metadata": {},
     "output_type": "display_data"
    },
    {
     "data": {
      "application/vnd.jupyter.widget-view+json": {
       "model_id": "f2a5877b6da5460094303e717b9d6ba0",
       "version_major": 2,
       "version_minor": 0
      },
      "text/plain": [
       "Canvas(toolbar=Toolbar(toolitems=[('Home', 'Reset original view', 'home', 'home'), ('Back', 'Back to previous …"
      ]
     },
     "metadata": {},
     "output_type": "display_data"
    }
   ],
   "source": [
    "\"\"\"\n",
    "Joshua Stough\n",
    "DIP\n",
    "\n",
    "This example looks at an image with a very dark area, and\n",
    "performs a log transform to increase contrast in the dark and\n",
    "compressing the light. Then, we create an image that either\n",
    "uses the log transformed intensities for the dark area, or\n",
    "the original intensity for the bright.\n",
    "\"\"\"\n",
    "\n",
    "\"\"\"\n",
    "This example computes histograms using the sf image.\n",
    "\"\"\"\n",
    "\n",
    "import matplotlib.pyplot as plt\n",
    "import numpy as np\n",
    "\n",
    "\n",
    "I = plt.imread('underExposed.jpg')\n",
    "#I = plt.imread('mic.jpg')\n",
    "\n",
    "allbins = np.unique(I.ravel())\n",
    "\n",
    "f, axarr = plt.subplots(1,2, figsize=(10, 3))\n",
    "\n",
    "axarr[0].imshow(I) #https://matplotlib.org/api/_as_gen/matplotlib.pyplot.imshow.html\n",
    "axarr[0].set_title('Image')\n",
    "\n",
    "axarr[1].hist(I[...,0].ravel(), allbins, alpha = .6, label = 'red', color = 'r')\n",
    "axarr[1].hist(I[...,1].ravel(), allbins, alpha = .6, label = 'green', color = 'g')\n",
    "axarr[1].hist(I[...,2].ravel(), allbins, alpha = .6, label = 'blue', color = 'b')\n",
    "axarr[1].legend(loc = 'upper right')\n",
    "plt.show()\n",
    "\n",
    "\n",
    "\n",
    "Ic = I.copy().astype(float)\n",
    "Ilog = np.log2(Ic+2)\n",
    "Ilog = Ilog/Ilog.ravel().max()\n",
    "\n",
    "newbins = np.unique(Ilog.ravel())\n",
    "\n",
    "f2, axarr2 = plt.subplots(1,2, figsize=(10, 3))\n",
    "\n",
    "axarr2[0].imshow(Ilog) #https://matplotlib.org/api/_as_gen/matplotlib.pyplot.imshow.html\n",
    "axarr2[0].set_title('Image')\n",
    "\n",
    "axarr2[1].hist(Ilog[...,0].ravel(), newbins, alpha = .6, label = 'red', color = 'r')\n",
    "axarr2[1].hist(Ilog[...,1].ravel(), newbins, alpha = .6, label = 'green', color = 'g')\n",
    "axarr2[1].hist(Ilog[...,2].ravel(), newbins, alpha = .6, label = 'blue', color = 'b')\n",
    "axarr2[1].legend(loc = 'upper right')\n",
    "plt.show()\n",
    "\n",
    "\n",
    "\n",
    "\n",
    "#Hard coded cutoff in this example.\n",
    "\n",
    "Inew = np.zeros(Ic.shape)\n",
    "blueThresh = I[...,2] > 60 #50\n",
    "\n",
    "Ic = Ic/Ic.ravel().max() #place Ic in [0,1] like Ilog.\n",
    "\n",
    "for c in range(3): #Use original if intensity was bright enough.\n",
    "    Inew[blueThresh, c] = Ic[blueThresh, c]\n",
    "\n",
    "for c in range(3): #Use log transformed if too dark.\n",
    "    Inew[~blueThresh, c] = Ilog[~blueThresh, c]\n",
    "\n"
   ]
  },
  {
   "cell_type": "code",
   "execution_count": 6,
   "metadata": {},
   "outputs": [
    {
     "data": {
      "application/vnd.jupyter.widget-view+json": {
       "model_id": "7e27909a7f9447c1852fff38318ffcda",
       "version_major": 2,
       "version_minor": 0
      },
      "text/plain": [
       "Canvas(toolbar=Toolbar(toolitems=[('Home', 'Reset original view', 'home', 'home'), ('Back', 'Back to previous …"
      ]
     },
     "metadata": {},
     "output_type": "display_data"
    },
    {
     "data": {
      "text/plain": [
       "Text(0.5, 1.0, 'Half and Half')"
      ]
     },
     "execution_count": 6,
     "metadata": {},
     "output_type": "execute_result"
    }
   ],
   "source": [
    "f, axarr3 = plt.subplots(2,2, figsize=(8,8),sharex=True, sharey=True)\n",
    "axarr3[0,0].imshow(I)\n",
    "axarr3[0,0].set_title('Original')\n",
    "\n",
    "axarr3[0,1].imshow(Ilog)\n",
    "axarr3[0,1].set_title('Log Transformed')\n",
    "\n",
    "axarr3[1,0].imshow(blueThresh.astype(float))\n",
    "axarr3[1,0].set_title('Threshold Mask')\n",
    "\n",
    "axarr3[1,1].imshow(Inew)\n",
    "axarr3[1,1].set_title('Half and Half')\n",
    "axarr3[1,1].set_title('Half and Half')"
   ]
  },
  {
   "cell_type": "code",
   "execution_count": null,
   "metadata": {},
   "outputs": [],
   "source": []
  }
 ],
 "metadata": {
  "kernelspec": {
   "display_name": "Python 3",
   "language": "python",
   "name": "python3"
  },
  "language_info": {
   "codemirror_mode": {
    "name": "ipython",
    "version": 3
   },
   "file_extension": ".py",
   "mimetype": "text/x-python",
   "name": "python",
   "nbconvert_exporter": "python",
   "pygments_lexer": "ipython3",
   "version": "3.7.6"
  }
 },
 "nbformat": 4,
 "nbformat_minor": 4
}
