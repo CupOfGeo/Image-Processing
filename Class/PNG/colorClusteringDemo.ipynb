{
 "cells": [
  {
   "cell_type": "markdown",
   "metadata": {},
   "source": [
    "# Color clustering using k-means.\n",
    "Joshua Stough\n",
    "DIP\n",
    "\n",
    "Some color clustering using k-means...\n",
    "https://en.wikipedia.org/wiki/K-means_clustering\n",
    "https://www.datascience.com/blog/k-means-clustering\n",
    "https://sites.google.com/site/dataclusteringalgorithms/k-means-clustering-algorithm"
   ]
  },
  {
   "cell_type": "code",
   "execution_count": 1,
   "metadata": {},
   "outputs": [],
   "source": [
    "%matplotlib widget\n",
    "#from scipy.cluster.vq import kmeans2\n",
    "import scipy.cluster.vq as vq\n",
    "import matplotlib.pyplot as plt\n",
    "import numpy as np"
   ]
  },
  {
   "cell_type": "code",
   "execution_count": 2,
   "metadata": {},
   "outputs": [],
   "source": [
    "COLORS = 256\n",
    "\n",
    "I = plt.imread('skyandsea.jpg')\n",
    "#I is NxMx3\n",
    "\n",
    "X = np.concatenate([np.expand_dims(IC, axis = 1) for IC in\n",
    "                    [I[...,0].ravel(), I[...,1].ravel(), I[...,2].ravel()]], axis = 1)\n",
    "#X is N*Mx3\n",
    "\n",
    "#Needs floating point data to work with, we'll translate back.\n",
    "Xf = X.copy().astype('float')\n",
    "\n",
    "# Xf = vq.whiten(Xf)\n",
    "# The kmeans documentation asks for this, but results seem easier to deal with\n",
    "# if I don't use it."
   ]
  },
  {
   "cell_type": "code",
   "execution_count": 3,
   "metadata": {},
   "outputs": [
    {
     "name": "stderr",
     "output_type": "stream",
     "text": [
      "/usr/remote/anaconda-3.7-2020-01-14/lib/python3.7/site-packages/scipy/cluster/vq.py:579: UserWarning: One of the clusters is empty. Re-run kmeans with a different initialization.\n",
      "  warnings.warn(\"One of the clusters is empty. \"\n"
     ]
    },
    {
     "data": {
      "application/vnd.jupyter.widget-view+json": {
       "model_id": "64a4af8f7d294f26ad0e693c8de45872",
       "version_major": 2,
       "version_minor": 0
      },
      "text/plain": [
       "Canvas(toolbar=Toolbar(toolitems=[('Home', 'Reset original view', 'home', 'home'), ('Back', 'Back to previous …"
      ]
     },
     "metadata": {},
     "output_type": "display_data"
    },
    {
     "name": "stdout",
     "output_type": "stream",
     "text": [
      "Original image has 126383 unique colors, versus 233 in the cluster colored image.\n"
     ]
    }
   ],
   "source": [
    "#Ask kmeans to get us 256 colors.\n",
    "[centers, labels] = vq.kmeans2(Xf, COLORS)\n",
    "centersUint = centers.copy().astype('uint8')\n",
    "#uint8 versions of the centers will clip to 0-255 for us, just in case.\n",
    "\n",
    "\n",
    "\n",
    "#centers is 256x3 representative colors from the image, while\n",
    "#labels is I.size indexes that tells which row of centers best\n",
    "#represents (is closest to) each and every pixel of the image.\n",
    "\n",
    "#Now, make an image consisting of the colors that each pixel got mapped to.\n",
    "Ir = np.zeros(I.shape)\n",
    "Ir[...,0] = np.reshape(centersUint[labels, 0], I.shape[:2])\n",
    "Ir[...,1] = np.reshape(centersUint[labels, 1], I.shape[:2])\n",
    "Ir[...,2] = np.reshape(centersUint[labels, 2], I.shape[:2])\n",
    "\n",
    "#Somehow, Ir is still floating point, so the imshow colormap will be weird.\n",
    "#We'll just cast it to uint8\n",
    "Ir = Ir.astype('uint8')\n",
    "\n",
    "\n",
    "#Visualize\n",
    "f, ax = plt.subplots(1,3, figsize=(12,3), sharex=True, sharey=True)\n",
    "ax[0].imshow(I)\n",
    "ax[0].set_title('Original')\n",
    "\n",
    "ax[1].imshow(Ir)\n",
    "ax[1].set_title('Reconstructed with %d Colors' % COLORS)\n",
    "\n",
    "\n",
    "#Get and display an error image. We'll use scipy.cluster.vq\n",
    "#https://docs.scipy.org/doc/scipy/reference/generated/scipy.cluster.vq.vq.html\n",
    "color_codes, dist = vq.vq(Xf, centersUint)\n",
    "\n",
    "#color_codes should be equal to labels.\n",
    "pic = ax[2].imshow(np.reshape(dist, I.shape[:2]))\n",
    "f.colorbar(pic, ax=ax[2])\n",
    "ax[2].set_title('Reconstruction Error')\n",
    "\n",
    "\n",
    "\n",
    "\n",
    "#And just to prove it, look at unique.\n",
    "#with numpy 1.13, you can send an axis to unique.\n",
    "#https://stackoverflow.com/questions/16970982/find-unique-rows-in-numpy-array\n",
    "#But I'll write it more generally.\n",
    "origvals = I[...,0].ravel() + 256*I[...,1].ravel() + 256**2*I[...,2].ravel()\n",
    "newvals = Ir[...,0].ravel() + 256*Ir[...,1].ravel() + 256**2*Ir[...,2].ravel()\n",
    "\n",
    "print('Original image has %d unique colors, versus %d in the cluster colored image.' %\n",
    "      (len(np.unique(origvals)), len(np.unique(newvals))))"
   ]
  }
 ],
 "metadata": {
  "kernelspec": {
   "display_name": "Python 3",
   "language": "python",
   "name": "python3"
  },
  "language_info": {
   "codemirror_mode": {
    "name": "ipython",
    "version": 3
   },
   "file_extension": ".py",
   "mimetype": "text/x-python",
   "name": "python",
   "nbconvert_exporter": "python",
   "pygments_lexer": "ipython3",
   "version": "3.7.6"
  }
 },
 "nbformat": 4,
 "nbformat_minor": 4
}
