{
 "cells": [
  {
   "cell_type": "markdown",
   "metadata": {},
   "source": [
    "# Testing the LZW compression code.\n",
    "Stough\n",
    "DIP 8.2.4 on LZW encoding\n",
    "\n",
    "- [Duke site on LZW](https://www2.cs.duke.edu/csed/curious/compression/lzw.html)\n",
    "- [Nice demo codes](http://rosettacode.org/wiki/LZW_compression#Python)"
   ]
  },
  {
   "cell_type": "code",
   "execution_count": 12,
   "metadata": {},
   "outputs": [],
   "source": [
    "%matplotlib widget\n",
    "import matplotlib.pyplot as plt\n",
    "import numpy as np\n",
    "\n",
    "from LZWUtil import *\n",
    "\n",
    "import time\n",
    "\n",
    "BITS = 10"
   ]
  },
  {
   "cell_type": "code",
   "execution_count": 13,
   "metadata": {},
   "outputs": [
    {
     "name": "stdout",
     "output_type": "stream",
     "text": [
      "loadHuffableImage: input is multi-channel, using grayscale.\n",
      "I original size 1024.500KB, LZ encoded size 976.007KB.\n",
      "Encoding time takes     2.5085.\n",
      "Decoding time takes     1.9993.\n"
     ]
    },
    {
     "data": {
      "application/vnd.jupyter.widget-view+json": {
       "model_id": "5cee49a96f5c46ae829ca8f8fe2135fe",
       "version_major": 2,
       "version_minor": 0
      },
      "text/plain": [
       "FigureCanvasNbAgg()"
      ]
     },
     "metadata": {},
     "output_type": "display_data"
    },
    {
     "name": "stdout",
     "output_type": "stream",
     "text": [
      "At this point you can even view the table that encoding produced. Try estream.table.\n"
     ]
    }
   ],
   "source": [
    "I = loadHuffableImage('skyandsea.jpg')\n",
    "I1d = I.ravel()\n",
    "\n",
    "starttime = time.clock()\n",
    "\n",
    "estream = LZWCompress(I1d, bits=BITS)\n",
    "\n",
    "encodedSize = sum(1 for x in estream)\n",
    "\n",
    "endtime = time.clock()\n",
    "\n",
    "print('I original size %6.3fKB, LZ encoded size %6.3fKB.' %\n",
    "      (I.size/1024, encodedSize*BITS/(8*1024)))\n",
    "\n",
    "print('Encoding time takes %10.4f.' % (endtime - starttime))\n",
    "\n",
    "\n",
    "starttime = time.clock()\n",
    "\n",
    "decomp = LZWDecompress(estream, bits=BITS)\n",
    "recI1d = np.zeros(I1d.shape)\n",
    "for i, x in enumerate(decomp):\n",
    "    recI1d[i] = x\n",
    "\n",
    "endtime = time.clock()\n",
    "\n",
    "print('Decoding time takes %10.4f.' % (endtime - starttime))\n",
    "\n",
    "\n",
    "Ir = recI1d.reshape(I.shape)\n",
    "\n",
    "f, ax = plt.subplots(1,2, figsize=(10,3), sharex=True, sharey=True)\n",
    "ax[0].imshow(I, cmap='gray')\n",
    "ax[0].set_title('Original %6.3fKB' % (I.size/1024))\n",
    "\n",
    "ax[1].imshow(Ir, cmap='gray')\n",
    "ax[1].set_title('LZ Compressed %6.3fKB' % (encodedSize*BITS/(8*1024)))\n",
    "\n",
    "\n",
    "print('At this point you can even view the table that '\n",
    "      'encoding produced. Try estream.table.')\n",
    "\n",
    "\n",
    "#\n",
    "# I = [0 0 1 2 3 0 0 2 3 0 0 1 2 3]\n",
    "# estream = LZWCompress(I)"
   ]
  },
  {
   "cell_type": "code",
   "execution_count": null,
   "metadata": {},
   "outputs": [],
   "source": []
  }
 ],
 "metadata": {
  "kernelspec": {
   "display_name": "Python 3",
   "language": "python",
   "name": "python3"
  },
  "language_info": {
   "codemirror_mode": {
    "name": "ipython",
    "version": 3
   },
   "file_extension": ".py",
   "mimetype": "text/x-python",
   "name": "python",
   "nbconvert_exporter": "python",
   "pygments_lexer": "ipython3",
   "version": "3.7.6"
  }
 },
 "nbformat": 4,
 "nbformat_minor": 4
}
