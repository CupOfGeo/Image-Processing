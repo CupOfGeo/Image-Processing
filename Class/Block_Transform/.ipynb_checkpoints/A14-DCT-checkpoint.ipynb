{
 "cells": [
  {
   "cell_type": "markdown",
   "metadata": {},
   "source": [
    "# A14 - DCT studies.\n",
    "Stough, DIP\n",
    "In conjunction with the [paper activity](https://docs.google.com/document/d/1fZOkp1fE5Q0Z64qmcuveyZX86h0T9McICnlsdeqWha8/edit?usp=sharing)."
   ]
  },
  {
   "cell_type": "code",
   "execution_count": 1,
   "metadata": {},
   "outputs": [],
   "source": [
    "%matplotlib widget\n",
    "import matplotlib.pyplot as plt\n",
    "import numpy as np\n",
    "\n",
    "from waveletUtil import (makeStandardMatrix,\n",
    "                         makeHaarMatrix,\n",
    "                         makeDCTMatrix,\n",
    "                         makeRandomBasis,\n",
    "                         makeKLTBasis)"
   ]
  },
  {
   "cell_type": "code",
   "execution_count": 2,
   "metadata": {},
   "outputs": [],
   "source": [
    "def arrInfo(arr):\n",
    "    return arr.shape, arr.min(), arr.max(), arr.dtype"
   ]
  },
  {
   "cell_type": "code",
   "execution_count": 3,
   "metadata": {},
   "outputs": [
    {
     "data": {
      "text/plain": [
       "((512, 512, 3), 0.003921569, 1.0, dtype('float32'))"
      ]
     },
     "execution_count": 3,
     "metadata": {},
     "output_type": "execute_result"
    }
   ],
   "source": [
    "I = plt.imread('shamokin.png')[...,:3] #remove alpha chan\n",
    "arrInfo(I)\n"
   ]
  },
  {
   "cell_type": "code",
   "execution_count": 4,
   "metadata": {},
   "outputs": [
    {
     "data": {
      "application/vnd.jupyter.widget-view+json": {
       "model_id": "81e1507d2b444886a5ce0e96e1f2c560",
       "version_major": 2,
       "version_minor": 0
      },
      "text/plain": [
       "Canvas(toolbar=Toolbar(toolitems=[('Home', 'Reset original view', 'home', 'home'), ('Back', 'Back to previous …"
      ]
     },
     "metadata": {},
     "output_type": "display_data"
    }
   ],
   "source": [
    "plt.figure(figsize=(4,4))\n",
    "plt.imshow(I);"
   ]
  },
  {
   "cell_type": "code",
   "execution_count": 5,
   "metadata": {},
   "outputs": [
    {
     "name": "stdout",
     "output_type": "stream",
     "text": [
      "((512, 512), -0.06249970586309854, 0.06249970586309854, dtype('float64'))\n",
      "((512, 512, 3), 0.003921569, 1.0, dtype('float32'))\n",
      "((512, 512, 3), -25.365031308369595, 267.5650407434223, dtype('float64'))\n"
     ]
    },
    {
     "data": {
      "application/vnd.jupyter.widget-view+json": {
       "model_id": "c3b8ba24e9a140afbdb286ffbb7f6e59",
       "version_major": 2,
       "version_minor": 0
      },
      "text/plain": [
       "Canvas(toolbar=Toolbar(toolitems=[('Home', 'Reset original view', 'home', 'home'), ('Back', 'Back to previous …"
      ]
     },
     "metadata": {},
     "output_type": "display_data"
    },
    {
     "data": {
      "text/plain": [
       "<matplotlib.image.AxesImage at 0x62299cbd0>"
      ]
     },
     "execution_count": 5,
     "metadata": {},
     "output_type": "execute_result"
    }
   ],
   "source": [
    "DCT = makeDCTMatrix(512)\n",
    "I = plt.imread('shamokin.png')[...,:3] #remove alpha chan\n",
    "print(arrInfo(DCT))\n",
    "print(arrInfo(I))\n",
    "T = np.zeros(I.shape[:2] + (3,))\n",
    "for chan in range(3):\n",
    "    T[...,chan] = np.matmul(DCT, np.matmul(I[..., chan], DCT.transpose()))\n",
    "print(arrInfo(T))\n",
    "plt.figure()\n",
    "plt.imshow(DCT)\n"
   ]
  },
  {
   "cell_type": "code",
   "execution_count": null,
   "metadata": {},
   "outputs": [],
   "source": []
  },
  {
   "cell_type": "code",
   "execution_count": null,
   "metadata": {},
   "outputs": [],
   "source": []
  },
  {
   "cell_type": "code",
   "execution_count": 6,
   "metadata": {},
   "outputs": [
    {
     "data": {
      "application/vnd.jupyter.widget-view+json": {
       "model_id": "9784ebf091f64b97acec2cd7eba2d3d2",
       "version_major": 2,
       "version_minor": 0
      },
      "text/plain": [
       "Canvas(toolbar=Toolbar(toolitems=[('Home', 'Reset original view', 'home', 'home'), ('Back', 'Back to previous …"
      ]
     },
     "metadata": {},
     "output_type": "display_data"
    },
    {
     "name": "stdout",
     "output_type": "stream",
     "text": [
      "((512, 512, 3), -25.365031308369595, 267.5650407434223, dtype('float64'))\n"
     ]
    }
   ],
   "source": [
    "plt.figure()\n",
    "plt.hist(T[...,0].ravel(),np.arange(-2,2,.01))\n",
    "print(arrInfo(T))\n",
    "plt.show()"
   ]
  },
  {
   "cell_type": "code",
   "execution_count": 22,
   "metadata": {},
   "outputs": [],
   "source": [
    "from __future__ import print_function\n",
    "from ipywidgets import interact, interactive, fixed, interact_manual\n",
    "import ipywidgets as widgets\n",
    "\n",
    "\n",
    "def lossly(keep=50):\n",
    "    Tc = np.zeros(T.shape)\n",
    "    DCT = makeDCTMatrix(512)\n",
    "    Tr = np.zeros(T.shape)\n",
    "\n",
    "    for chan in range(3):\n",
    "        cutoff = np.percentile(np.abs(T[...,chan].ravel()), keep)\n",
    "        mask = (np.abs(T[...,0]) >= cutoff)\n",
    "        Tc[mask,chan] = T[mask,chan]\n",
    "    \n",
    "    \n",
    "  \n",
    "    for chan in range(3):\n",
    "        Tr[...,chan] = np.matmul(DCT.T, np.matmul(Tc[..., chan], DCT))\n",
    "\n",
    "    print(arrInfo(Tr))\n",
    "    plt.clf()\n",
    "    plt.imshow(np.clip(Tr,0,1))\n",
    "    print((~mask).sum()) # Falses\n",
    "    print((mask).sum()) # Trues"
   ]
  },
  {
   "cell_type": "code",
   "execution_count": 23,
   "metadata": {},
   "outputs": [],
   "source": [
    "#DCT.shape\n",
    "##print(arrInfo(Tc))\n",
    "#print(cutoff)\n",
    "#print((~mask).sum()) # Falses\n",
    "#print((mask).sum()) # Trues"
   ]
  },
  {
   "cell_type": "code",
   "execution_count": 24,
   "metadata": {},
   "outputs": [
    {
     "data": {
      "application/vnd.jupyter.widget-view+json": {
       "model_id": "a902184c28d246e5ae9d0d5a2d4fdc90",
       "version_major": 2,
       "version_minor": 0
      },
      "text/plain": [
       "Canvas(toolbar=Toolbar(toolitems=[('Home', 'Reset original view', 'home', 'home'), ('Back', 'Back to previous …"
      ]
     },
     "metadata": {},
     "output_type": "display_data"
    },
    {
     "data": {
      "application/vnd.jupyter.widget-view+json": {
       "model_id": "1dd948e155c246bbaa5a636c2b49930f",
       "version_major": 2,
       "version_minor": 0
      },
      "text/plain": [
       "interactive(children=(IntSlider(value=50, description='keep'), Output()), _dom_classes=('widget-interact',))"
      ]
     },
     "metadata": {},
     "output_type": "display_data"
    },
    {
     "data": {
      "text/plain": [
       "<function __main__.lossly(keep=50)>"
      ]
     },
     "execution_count": 24,
     "metadata": {},
     "output_type": "execute_result"
    }
   ],
   "source": [
    "plt.figure()\n",
    "interact(lossly, keep=(0,100))"
   ]
  },
  {
   "cell_type": "code",
   "execution_count": null,
   "metadata": {},
   "outputs": [],
   "source": []
  },
  {
   "cell_type": "code",
   "execution_count": null,
   "metadata": {},
   "outputs": [],
   "source": []
  },
  {
   "cell_type": "code",
   "execution_count": null,
   "metadata": {},
   "outputs": [],
   "source": []
  }
 ],
 "metadata": {
  "kernelspec": {
   "display_name": "Python 3",
   "language": "python",
   "name": "python3"
  },
  "language_info": {
   "codemirror_mode": {
    "name": "ipython",
    "version": 3
   },
   "file_extension": ".py",
   "mimetype": "text/x-python",
   "name": "python",
   "nbconvert_exporter": "python",
   "pygments_lexer": "ipython3",
   "version": "3.7.6"
  }
 },
 "nbformat": 4,
 "nbformat_minor": 4
}
