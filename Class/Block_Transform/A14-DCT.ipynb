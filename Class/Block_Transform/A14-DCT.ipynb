{
 "cells": [
  {
   "cell_type": "markdown",
   "metadata": {},
   "source": [
    "# A14 - DCT studies.\n",
    "Stough, DIP\n",
    "In conjunction with the [paper activity](https://docs.google.com/document/d/1fZOkp1fE5Q0Z64qmcuveyZX86h0T9McICnlsdeqWha8/edit?usp=sharing)."
   ]
  },
  {
   "cell_type": "code",
   "execution_count": 1,
   "metadata": {},
   "outputs": [],
   "source": [
    "%matplotlib widget\n",
    "import matplotlib.pyplot as plt\n",
    "import numpy as np\n",
    "\n",
    "from waveletUtil import (makeStandardMatrix,\n",
    "                         makeHaarMatrix,\n",
    "                         makeDCTMatrix,\n",
    "                         makeRandomBasis,\n",
    "                         makeKLTBasis)"
   ]
  },
  {
   "cell_type": "code",
   "execution_count": 2,
   "metadata": {},
   "outputs": [],
   "source": [
    "def arrInfo(arr):\n",
    "    return arr.shape, arr.min(), arr.max(), arr.dtype"
   ]
  },
  {
   "cell_type": "code",
   "execution_count": 44,
   "metadata": {},
   "outputs": [
    {
     "data": {
      "text/plain": [
       "((512, 512, 3), 0.003921569, 1.0, dtype('float32'))"
      ]
     },
     "execution_count": 44,
     "metadata": {},
     "output_type": "execute_result"
    }
   ],
   "source": [
    "I = plt.imread('shamokin.png')[...,:3] #remove alpha chan\n",
    "arrInfo(I)"
   ]
  },
  {
   "cell_type": "code",
   "execution_count": 4,
   "metadata": {},
   "outputs": [
    {
     "data": {
      "application/vnd.jupyter.widget-view+json": {
       "model_id": "9e54aec194604a68a5ab229fc283d1c2",
       "version_major": 2,
       "version_minor": 0
      },
      "text/plain": [
       "Canvas(toolbar=Toolbar(toolitems=[('Home', 'Reset original view', 'home', 'home'), ('Back', 'Back to previous …"
      ]
     },
     "metadata": {},
     "output_type": "display_data"
    }
   ],
   "source": [
    "plt.figure(figsize=(4,4))\n",
    "plt.imshow(I);"
   ]
  },
  {
   "cell_type": "code",
   "execution_count": 16,
   "metadata": {},
   "outputs": [],
   "source": [
    "DCT = makeDCTMatrix(512)\n",
    "\n",
    "T = np.zeros(I.shape[:2] + (3,))\n",
    "for chan in range(3):\n",
    "    T[...,chan] = np.matmul(DCT, np.matmul(I[..., chan], DCT.transpose()))"
   ]
  },
  {
   "cell_type": "code",
   "execution_count": 17,
   "metadata": {},
   "outputs": [
    {
     "data": {
      "text/plain": [
       "((512, 512, 3), -25.36503130836961, 267.5650407434223, dtype('float64'))"
      ]
     },
     "execution_count": 17,
     "metadata": {},
     "output_type": "execute_result"
    }
   ],
   "source": [
    "arrInfo(T)"
   ]
  },
  {
   "cell_type": "code",
   "execution_count": 18,
   "metadata": {},
   "outputs": [
    {
     "data": {
      "text/plain": [
       "\"\\nT = T - T.min()\\nI = T/T.ravel().max()\\n\\n\\n#The histogram bins are just let's say 256 bins in [0,1]\\nbins = np.arange(256)/256\\n\\nf, axarr = plt.subplots(1,2, figsize=(10, 3))\\n\\naxarr[0].imshow(I) #https://matplotlib.org/api/_as_gen/matplotlib.pyplot.imshow.html\\naxarr[0].set_title('Washed Out Image')\\naxarr[1].imshow(T) \\n#axarr[1].hist(I[...,0].ravel(), bins, alpha = .6, label = 'red', color = 'r')\\n#axarr[1].hist(I[...,1].ravel(), bins, alpha = .6, label = 'green', color = 'g')\\n#axarr[1].hist(I[...,2].ravel(), bins, alpha = .6, label = 'blue', color = 'b')\\n#axarr[1].legend(loc = 'upper right')\\n\""
      ]
     },
     "execution_count": 18,
     "metadata": {},
     "output_type": "execute_result"
    }
   ],
   "source": [
    "'''\n",
    "T = T - T.min()\n",
    "I = T/T.ravel().max()\n",
    "\n",
    "\n",
    "#The histogram bins are just let's say 256 bins in [0,1]\n",
    "bins = np.arange(256)/256\n",
    "\n",
    "f, axarr = plt.subplots(1,2, figsize=(10, 3))\n",
    "\n",
    "axarr[0].imshow(I) #https://matplotlib.org/api/_as_gen/matplotlib.pyplot.imshow.html\n",
    "axarr[0].set_title('Washed Out Image')\n",
    "axarr[1].imshow(T) \n",
    "#axarr[1].hist(I[...,0].ravel(), bins, alpha = .6, label = 'red', color = 'r')\n",
    "#axarr[1].hist(I[...,1].ravel(), bins, alpha = .6, label = 'green', color = 'g')\n",
    "#axarr[1].hist(I[...,2].ravel(), bins, alpha = .6, label = 'blue', color = 'b')\n",
    "#axarr[1].legend(loc = 'upper right')\n",
    "'''"
   ]
  },
  {
   "cell_type": "code",
   "execution_count": 19,
   "metadata": {},
   "outputs": [
    {
     "data": {
      "application/vnd.jupyter.widget-view+json": {
       "model_id": "226bb401cd164ea090bd2d20c04dbe45",
       "version_major": 2,
       "version_minor": 0
      },
      "text/plain": [
       "Canvas(toolbar=Toolbar(toolitems=[('Home', 'Reset original view', 'home', 'home'), ('Back', 'Back to previous …"
      ]
     },
     "metadata": {},
     "output_type": "display_data"
    }
   ],
   "source": [
    "plt.figure()\n",
    "plt.hist(T[...,0].ravel(),np.arange(-2,2,.01))\n",
    "plt.show()"
   ]
  },
  {
   "cell_type": "code",
   "execution_count": 40,
   "metadata": {},
   "outputs": [],
   "source": [
    "Tc = np.zeros(T.shape)\n",
    "\n",
    "for chan in range(3):\n",
    "    cutoff = np.percentile(np.abs(T[...,chan].ravel()), 90)\n",
    "    mask = np.abs(T[...,0]) >= cutoff\n",
    "    Tc[mask,chan] = T[mask,chan]"
   ]
  },
  {
   "cell_type": "code",
   "execution_count": 41,
   "metadata": {},
   "outputs": [
    {
     "data": {
      "text/plain": [
       "((512, 512, 3), -25.36503130836961, 267.5650407434223, dtype('float64'))"
      ]
     },
     "execution_count": 41,
     "metadata": {},
     "output_type": "execute_result"
    }
   ],
   "source": [
    "arrInfo(Tc)"
   ]
  },
  {
   "cell_type": "code",
   "execution_count": 42,
   "metadata": {},
   "outputs": [
    {
     "data": {
      "text/plain": [
       "((512, 512, 3), -0.04695678187432143, 1.0952985925347507, dtype('float64'))"
      ]
     },
     "execution_count": 42,
     "metadata": {},
     "output_type": "execute_result"
    }
   ],
   "source": [
    "DCT = makeDCTMatrix(512)\n",
    "\n",
    "Tr = np.zeros(T.shape)\n",
    "for chan in range(3):\n",
    "    Tr[...,chan] = np.matmul(DCT.T, np.matmul(Tc[..., chan], DCT))\n",
    "\n",
    "arrInfo(Tr)"
   ]
  },
  {
   "cell_type": "code",
   "execution_count": 43,
   "metadata": {},
   "outputs": [
    {
     "data": {
      "application/vnd.jupyter.widget-view+json": {
       "model_id": "628d1845eb0d45b3a5750eee0ad6fbbc",
       "version_major": 2,
       "version_minor": 0
      },
      "text/plain": [
       "Canvas(toolbar=Toolbar(toolitems=[('Home', 'Reset original view', 'home', 'home'), ('Back', 'Back to previous …"
      ]
     },
     "metadata": {},
     "output_type": "display_data"
    },
    {
     "name": "stderr",
     "output_type": "stream",
     "text": [
      "Clipping input data to the valid range for imshow with RGB data ([0..1] for floats or [0..255] for integers).\n"
     ]
    },
    {
     "data": {
      "text/plain": [
       "<matplotlib.image.AxesImage at 0x7f407878b490>"
      ]
     },
     "execution_count": 43,
     "metadata": {},
     "output_type": "execute_result"
    }
   ],
   "source": [
    "plt.figure()\n",
    "plt.imshow(Tr)"
   ]
  },
  {
   "cell_type": "code",
   "execution_count": null,
   "metadata": {},
   "outputs": [],
   "source": []
  }
 ],
 "metadata": {
  "kernelspec": {
   "display_name": "Python 3",
   "language": "python",
   "name": "python3"
  },
  "language_info": {
   "codemirror_mode": {
    "name": "ipython",
    "version": 3
   },
   "file_extension": ".py",
   "mimetype": "text/x-python",
   "name": "python",
   "nbconvert_exporter": "python",
   "pygments_lexer": "ipython3",
   "version": "3.7.6"
  }
 },
 "nbformat": 4,
 "nbformat_minor": 4
}
