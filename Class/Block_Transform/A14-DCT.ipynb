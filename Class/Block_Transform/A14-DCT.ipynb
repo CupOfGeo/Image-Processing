{
 "cells": [
  {
   "cell_type": "markdown",
   "metadata": {},
   "source": [
    "# A14 - DCT studies.\n",
    "Stough, DIP\n",
    "In conjunction with the [paper activity](https://docs.google.com/document/d/1fZOkp1fE5Q0Z64qmcuveyZX86h0T9McICnlsdeqWha8/edit?usp=sharing)."
   ]
  },
  {
   "cell_type": "code",
   "execution_count": 14,
   "metadata": {},
   "outputs": [],
   "source": [
    "%matplotlib widget\n",
    "import matplotlib.pyplot as plt\n",
    "import numpy as np\n",
    "\n",
    "from waveletUtil import (makeStandardMatrix,\n",
    "                         makeHaarMatrix,\n",
    "                         makeDCTMatrix,\n",
    "                         makeRandomBasis,\n",
    "                         makeKLTBasis)"
   ]
  },
  {
   "cell_type": "code",
   "execution_count": 15,
   "metadata": {},
   "outputs": [],
   "source": [
    "def arrInfo(arr):\n",
    "    return arr.shape, arr.min(), arr.max(), arr.dtype"
   ]
  },
  {
   "cell_type": "code",
   "execution_count": 16,
   "metadata": {},
   "outputs": [
    {
     "data": {
      "text/plain": [
       "((512, 512, 3), 0.003921569, 1.0, dtype('float32'))"
      ]
     },
     "execution_count": 16,
     "metadata": {},
     "output_type": "execute_result"
    }
   ],
   "source": [
    "I = plt.imread('shamokin.png')[...,:3] #remove alpha chan\n",
    "arrInfo(I)\n"
   ]
  },
  {
   "cell_type": "code",
   "execution_count": 17,
   "metadata": {},
   "outputs": [
    {
     "data": {
      "application/vnd.jupyter.widget-view+json": {
       "model_id": "ba9b6bd81c604ff9ac3ebbea78cc71b0",
       "version_major": 2,
       "version_minor": 0
      },
      "text/plain": [
       "Canvas(toolbar=Toolbar(toolitems=[('Home', 'Reset original view', 'home', 'home'), ('Back', 'Back to previous …"
      ]
     },
     "metadata": {},
     "output_type": "display_data"
    }
   ],
   "source": [
    "plt.figure(figsize=(4,4))\n",
    "plt.imshow(I);"
   ]
  },
  {
   "cell_type": "code",
   "execution_count": 18,
   "metadata": {},
   "outputs": [
    {
     "name": "stdout",
     "output_type": "stream",
     "text": [
      "((225, 225), -0.09428090415820634, 0.09428090415820634, dtype('float64'))\n",
      "((225, 225, 3), 0.0, 1.0, dtype('float32'))\n",
      "((225, 225, 3), -27.96842197770711, 175.1670942238466, dtype('float64'))\n"
     ]
    },
    {
     "data": {
      "application/vnd.jupyter.widget-view+json": {
       "model_id": "4c94f42f78e54ee29a61b37837c0d452",
       "version_major": 2,
       "version_minor": 0
      },
      "text/plain": [
       "Canvas(toolbar=Toolbar(toolitems=[('Home', 'Reset original view', 'home', 'home'), ('Back', 'Back to previous …"
      ]
     },
     "metadata": {},
     "output_type": "display_data"
    },
    {
     "data": {
      "text/plain": [
       "<matplotlib.image.AxesImage at 0x7f9594fc5350>"
      ]
     },
     "execution_count": 18,
     "metadata": {},
     "output_type": "execute_result"
    }
   ],
   "source": [
    "DCT = makeDCTMatrix(225)\n",
    "I = plt.imread('index.png')[...,:3] #remove alpha chan\n",
    "print(arrInfo(DCT))\n",
    "print(arrInfo(I))\n",
    "T = np.zeros(I.shape[:2] + (3,))\n",
    "for chan in range(3):\n",
    "    T[...,chan] = np.matmul(DCT, np.matmul(I[..., chan], DCT.transpose()))\n",
    "print(arrInfo(T))\n",
    "plt.figure()\n",
    "plt.imshow(DCT)\n"
   ]
  },
  {
   "cell_type": "code",
   "execution_count": null,
   "metadata": {},
   "outputs": [],
   "source": []
  },
  {
   "cell_type": "code",
   "execution_count": null,
   "metadata": {},
   "outputs": [],
   "source": []
  },
  {
   "cell_type": "code",
   "execution_count": 19,
   "metadata": {},
   "outputs": [
    {
     "data": {
      "application/vnd.jupyter.widget-view+json": {
       "model_id": "e8da524ae3464bfcbda63699c1c50c06",
       "version_major": 2,
       "version_minor": 0
      },
      "text/plain": [
       "Canvas(toolbar=Toolbar(toolitems=[('Home', 'Reset original view', 'home', 'home'), ('Back', 'Back to previous …"
      ]
     },
     "metadata": {},
     "output_type": "display_data"
    },
    {
     "name": "stdout",
     "output_type": "stream",
     "text": [
      "((225, 225, 3), -27.96842197770711, 175.1670942238466, dtype('float64'))\n"
     ]
    }
   ],
   "source": [
    "plt.figure()\n",
    "plt.hist(T[...,0].ravel(),np.arange(-2,2,.01))\n",
    "print(arrInfo(T))\n",
    "plt.show()"
   ]
  },
  {
   "cell_type": "code",
   "execution_count": 20,
   "metadata": {},
   "outputs": [],
   "source": [
    "from __future__ import print_function\n",
    "from ipywidgets import interact, interactive, fixed, interact_manual\n",
    "import ipywidgets as widgets\n",
    "\n",
    "\n",
    "def lossly(keep=50):\n",
    "    Tc = np.zeros(T.shape)\n",
    "    DCT = makeDCTMatrix(225)\n",
    "    Tr = np.zeros(T.shape)\n",
    "\n",
    "    for chan in range(3):\n",
    "        cutoff = np.percentile(np.abs(T[...,chan].ravel()), keep)\n",
    "        mask = (np.abs(T[...,0]) >= cutoff)\n",
    "        Tc[mask,chan] = T[mask,chan]\n",
    "    \n",
    "    \n",
    "  \n",
    "    for chan in range(3):\n",
    "        Tr[...,chan] = np.matmul(DCT.T, np.matmul(Tc[..., chan], DCT))\n",
    "\n",
    "    print(arrInfo(Tr))\n",
    "    ax[0].cla()\n",
    "    ax[0].imshow(np.clip(Tr,0,1))\n",
    "    ax[1].cla()\n",
    "    ax[1].imshow(np.clip(I-Tr,0,1))\n",
    "    print((~mask).sum()) # Falses\n",
    "    print((mask).sum()) # Trues"
   ]
  },
  {
   "cell_type": "code",
   "execution_count": 21,
   "metadata": {},
   "outputs": [],
   "source": [
    "#DCT.shape\n",
    "##print(arrInfo(Tc))\n",
    "#print(cutoff)\n",
    "#print((~mask).sum()) # Falses\n",
    "#print((mask).sum()) # Trues"
   ]
  },
  {
   "cell_type": "code",
   "execution_count": 22,
   "metadata": {},
   "outputs": [
    {
     "data": {
      "application/vnd.jupyter.widget-view+json": {
       "model_id": "7f266422ddf34cf89ead2965a07b61fa",
       "version_major": 2,
       "version_minor": 0
      },
      "text/plain": [
       "Canvas(toolbar=Toolbar(toolitems=[('Home', 'Reset original view', 'home', 'home'), ('Back', 'Back to previous …"
      ]
     },
     "metadata": {},
     "output_type": "display_data"
    },
    {
     "data": {
      "application/vnd.jupyter.widget-view+json": {
       "model_id": "cb3701ad4c0c49818d35b89280a0a8f3",
       "version_major": 2,
       "version_minor": 0
      },
      "text/plain": [
       "interactive(children=(IntSlider(value=50, description='keep'), Output()), _dom_classes=('widget-interact',))"
      ]
     },
     "metadata": {},
     "output_type": "display_data"
    },
    {
     "data": {
      "text/plain": [
       "<function __main__.lossly(keep=50)>"
      ]
     },
     "execution_count": 22,
     "metadata": {},
     "output_type": "execute_result"
    }
   ],
   "source": [
    "f, ax = plt.subplots(1,2, figsize=(10,3),sharex=True,sharey=True)\n",
    "\n",
    "interact(lossly, keep=(0,100))"
   ]
  },
  {
   "cell_type": "code",
   "execution_count": 23,
   "metadata": {},
   "outputs": [],
   "source": [
    "\n",
    "\n",
    "def DCTfun(block, keep):\n",
    "    Q = np.zeros((8,8)).astype(int)\n",
    "    Q[0] = [16,11,10,16,24,40,51,61]\n",
    "    Q[1] = [12,12,14,19,26,58,60,55]\n",
    "    Q[2] = [14,13,16,24,40,57,69,56]\n",
    "    Q[3] = [14,17,22,29,51,87,80,62]\n",
    "    Q[4] = [18,22,37,56,68,109,103,77]\n",
    "    Q[5] = [24,35,55,64,81,104,113,92]\n",
    "    Q[6] = [49,64,78,87,103,121,120,101]\n",
    "    Q[7] = [72,92,95,98,112,100,103,99]\n",
    "    \n",
    "    \n",
    "    \n",
    "    DCT = makeDCTMatrix(block.shape[0])    \n",
    "    I = block\n",
    "    T = np.zeros(I.shape[:2] + (3,))\n",
    "    B = np.zeros(block.shape)\n",
    "    for chan in range(3):\n",
    "        T[...,chan] = np.matmul(DCT, np.matmul(I[..., chan], DCT.transpose())) # getting cooefficents\n",
    "        \n",
    "        B[...,chan] = np.round(T[...,chan]/Q) #quntization TODO Q*keep as factor add bool button to change between the Q and the percentile\n",
    "        B[...,chan] = B[...,chan]*Q\n",
    "    Tr = np.zeros(T.shape)\n",
    "    Tc = np.zeros(T.shape)\n",
    "    Bc = np.zeros(T.shape)\n",
    "    \n",
    "    \n",
    "    \n",
    "\n",
    "    for chan in range(3):\n",
    "        Bc[...,chan] = B[...,chan]\n",
    "        \n",
    "        cutoff = np.percentile(np.abs(T[...,chan].ravel()), keep)\n",
    "        mask = (np.abs(T[...,0]) >= cutoff)\n",
    "        Tc[mask,chan] = T[mask,chan]\n",
    "    \n",
    "    if(keep==0):\n",
    "        Tc = Bc  \n",
    "    \n",
    "  \n",
    "    for chan in range(3):\n",
    "        Tr[...,chan] = np.matmul(DCT.T, np.matmul(Tc[..., chan], DCT)) #rebuilding\n",
    " \n",
    "    return Tr"
   ]
  },
  {
   "cell_type": "code",
   "execution_count": 32,
   "metadata": {},
   "outputs": [],
   "source": [
    "from skimage.util import *\n",
    "Ir = (plt.imread('eye.png')[...,:3])[:-1,:-1,:] #remove alpha chan\n",
    "Ir = Ir\n",
    "def Jpeg(drop,useQ=False):\n",
    "    '''\n",
    "    sizelist = []\n",
    "    for i in range(1, Ir.shape[0] + 1):\n",
    "        if Ir.shape[0] % i == 0:\n",
    "            sizelist.append(i)\n",
    "    blocksize= sizelist[blocksize]\n",
    "    '''\n",
    "    blocksize =8\n",
    "    \n",
    "    DCT = makeDCTMatrix(blocksize)\n",
    "    I = (plt.imread('eye.png')[...,:3])[:-1,:-1,:] #remove alpha chan\n",
    "    \n",
    "    I = I *255\n",
    "    print(arrInfo(I))\n",
    "    \n",
    "    \n",
    "    block_shape = (blocksize,blocksize,3)\n",
    "\n",
    "    view = view_as_blocks(I, block_shape=block_shape)\n",
    "    view = np.squeeze(view)\n",
    "    blockView = view.reshape([view.shape[0]*view.shape[1]] + list(view.shape[2:]))\n",
    "    newImgBlock1 = np.zeros(blockView.shape)\n",
    "    \n",
    "    \n",
    "    for i, block in enumerate(blockView):\n",
    "        #bT = np.mean(block, axis=(0,1)) \n",
    "        newImgBlock1[i][:] = DCTfun(block,useQ)# -128 because wiki says so\n",
    "\n",
    "    IComp = montage(newImgBlock1, grid_shape=[view.shape[0], view.shape[1]], multichannel=True)\n",
    "    IComp = IComp -IComp.min()\n",
    "    IComp = IComp/IComp.max()\n",
    "    plt.imshow(IComp)\n",
    "    print(blocksize)\n",
    "    print(drop)\n",
    "    print(arrInfo(IComp))"
   ]
  },
  {
   "cell_type": "code",
   "execution_count": 33,
   "metadata": {},
   "outputs": [
    {
     "data": {
      "application/vnd.jupyter.widget-view+json": {
       "model_id": "2b238c8dd7e4426ab5b7a40f6ddb02f7",
       "version_major": 2,
       "version_minor": 0
      },
      "text/plain": [
       "Canvas(toolbar=Toolbar(toolitems=[('Home', 'Reset original view', 'home', 'home'), ('Back', 'Back to previous …"
      ]
     },
     "metadata": {},
     "output_type": "display_data"
    },
    {
     "data": {
      "application/vnd.jupyter.widget-view+json": {
       "model_id": "6392301f74a74759ae3a20499e317db6",
       "version_major": 2,
       "version_minor": 0
      },
      "text/plain": [
       "interactive(children=(IntSlider(value=50, description='drop'), Checkbox(value=True, description='useQ'), Outpu…"
      ]
     },
     "metadata": {},
     "output_type": "display_data"
    },
    {
     "data": {
      "text/plain": [
       "<function __main__.Jpeg(drop, useQ=False)>"
      ]
     },
     "execution_count": 33,
     "metadata": {},
     "output_type": "execute_result"
    }
   ],
   "source": [
    "plt.figure()\n",
    "interact(Jpeg, drop=(0,100),useQ=True)"
   ]
  },
  {
   "cell_type": "code",
   "execution_count": null,
   "metadata": {},
   "outputs": [],
   "source": []
  },
  {
   "cell_type": "code",
   "execution_count": null,
   "metadata": {},
   "outputs": [],
   "source": []
  },
  {
   "cell_type": "code",
   "execution_count": null,
   "metadata": {},
   "outputs": [],
   "source": []
  },
  {
   "cell_type": "code",
   "execution_count": null,
   "metadata": {},
   "outputs": [],
   "source": []
  },
  {
   "cell_type": "code",
   "execution_count": null,
   "metadata": {},
   "outputs": [],
   "source": []
  },
  {
   "cell_type": "code",
   "execution_count": null,
   "metadata": {},
   "outputs": [],
   "source": []
  },
  {
   "cell_type": "code",
   "execution_count": 4,
   "metadata": {},
   "outputs": [],
   "source": [
    "Q = np.zeros((8,8)).astype(int)\n",
    "Q[0] = [16,11,10,16,24,40,51,61]\n",
    "Q[1] = [12,12,14,19,26,58,60,55]\n",
    "Q[2] = [14,13,16,24,40,57,69,56]\n",
    "Q[3] = [14,17,22,29,51,87,80,62]\n",
    "Q[4] = [18,22,37,56,68,109,103,77]\n",
    "Q[5] = [24,35,55,64,81,104,113,92]\n",
    "Q[6] = [49,64,78,87,103,121,120,101]\n",
    "Q[7] = [72,92,95,98,112,100,103,99]"
   ]
  },
  {
   "cell_type": "code",
   "execution_count": 13,
   "metadata": {},
   "outputs": [
    {
     "ename": "AttributeError",
     "evalue": "module 'numpy' has no attribute 'mutmul'",
     "output_type": "error",
     "traceback": [
      "\u001b[0;31m---------------------------------------------------------------------------\u001b[0m",
      "\u001b[0;31mAttributeError\u001b[0m                            Traceback (most recent call last)",
      "\u001b[0;32m<ipython-input-13-bc5db8541269>\u001b[0m in \u001b[0;36m<module>\u001b[0;34m\u001b[0m\n\u001b[1;32m      5\u001b[0m \u001b[0;34m\u001b[0m\u001b[0m\n\u001b[1;32m      6\u001b[0m \u001b[0;32mfor\u001b[0m \u001b[0mc\u001b[0m \u001b[0;32min\u001b[0m \u001b[0mrange\u001b[0m\u001b[0;34m(\u001b[0m\u001b[0;36m3\u001b[0m\u001b[0;34m)\u001b[0m\u001b[0;34m:\u001b[0m\u001b[0;34m\u001b[0m\u001b[0;34m\u001b[0m\u001b[0m\n\u001b[0;32m----> 7\u001b[0;31m     \u001b[0mCT\u001b[0m\u001b[0;34m[\u001b[0m\u001b[0;34m...\u001b[0m\u001b[0;34m,\u001b[0m\u001b[0mc\u001b[0m\u001b[0;34m]\u001b[0m \u001b[0;34m=\u001b[0m \u001b[0mnp\u001b[0m\u001b[0;34m.\u001b[0m\u001b[0mmutmul\u001b[0m\u001b[0;34m(\u001b[0m\u001b[0mH\u001b[0m\u001b[0;34m,\u001b[0m \u001b[0mnp\u001b[0m\u001b[0;34m.\u001b[0m\u001b[0mmatmul\u001b[0m\u001b[0;34m(\u001b[0m\u001b[0mI\u001b[0m\u001b[0;34m,\u001b[0m \u001b[0mnp\u001b[0m\u001b[0;34m.\u001b[0m\u001b[0mmatmul\u001b[0m\u001b[0;34m(\u001b[0m\u001b[0mI\u001b[0m\u001b[0;34m[\u001b[0m\u001b[0;34m...\u001b[0m\u001b[0;34m,\u001b[0m\u001b[0mc\u001b[0m\u001b[0;34m]\u001b[0m\u001b[0;34m,\u001b[0m \u001b[0mH\u001b[0m\u001b[0;34m.\u001b[0m\u001b[0mtranspose\u001b[0m\u001b[0;34m(\u001b[0m\u001b[0;34m)\u001b[0m\u001b[0;34m)\u001b[0m\u001b[0;34m)\u001b[0m\u001b[0;34m)\u001b[0m\u001b[0;34m\u001b[0m\u001b[0;34m\u001b[0m\u001b[0m\n\u001b[0m\u001b[1;32m      8\u001b[0m \u001b[0;34m\u001b[0m\u001b[0m\n",
      "\u001b[0;31mAttributeError\u001b[0m: module 'numpy' has no attribute 'mutmul'"
     ]
    }
   ],
   "source": [
    "I = plt.imread(\"shamokin.png\")[...,:3]\n",
    "CT = np.zeros(I.shape)\n",
    "\n",
    "H = makeDCTMatrix(8)    \n",
    "\n",
    "for c in range(3):\n",
    "    CT[...,c] = np.mutmul(H, np.matmul(I, np.matmul(I[...,c], H.transpose())))\n",
    "    \n"
   ]
  },
  {
   "cell_type": "code",
   "execution_count": 10,
   "metadata": {},
   "outputs": [
    {
     "data": {
      "application/vnd.jupyter.widget-view+json": {
       "model_id": "",
       "version_major": 2,
       "version_minor": 0
      },
      "text/plain": [
       "Canvas(toolbar=Toolbar(toolitems=[('Home', 'Reset original view', 'home', 'home'), ('Back', 'Back to previous …"
      ]
     },
     "metadata": {},
     "output_type": "display_data"
    },
    {
     "data": {
      "text/plain": [
       "<matplotlib.image.AxesImage at 0x7f95950a8e50>"
      ]
     },
     "execution_count": 10,
     "metadata": {},
     "output_type": "execute_result"
    }
   ],
   "source": [
    "plt.figure()\n",
    "plt.imshow(T)"
   ]
  },
  {
   "cell_type": "code",
   "execution_count": null,
   "metadata": {},
   "outputs": [],
   "source": []
  },
  {
   "cell_type": "code",
   "execution_count": null,
   "metadata": {},
   "outputs": [],
   "source": []
  }
 ],
 "metadata": {
  "kernelspec": {
   "display_name": "Python 3",
   "language": "python",
   "name": "python3"
  },
  "language_info": {
   "codemirror_mode": {
    "name": "ipython",
    "version": 3
   },
   "file_extension": ".py",
   "mimetype": "text/x-python",
   "name": "python",
   "nbconvert_exporter": "python",
   "pygments_lexer": "ipython3",
   "version": "3.7.6"
  }
 },
 "nbformat": 4,
 "nbformat_minor": 4
}
