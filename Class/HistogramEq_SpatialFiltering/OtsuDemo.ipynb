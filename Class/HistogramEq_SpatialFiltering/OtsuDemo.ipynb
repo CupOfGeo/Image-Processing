{
 "cells": [
  {
   "cell_type": "markdown",
   "metadata": {},
   "source": [
    "# Otsu thresholding.\n",
    "Joshua Stough\n",
    "DIP\n",
    "\n",
    "Short example demonstrating Otsu's method for image foreground\n",
    "background thresholding. Simply put, the goal is to choose the\n",
    "threshold that maximizes the between class variance.\n",
    "Ref: Gonzalez/Woods, DIP. Section 10.3\n",
    "[Wiki](https://en.wikipedia.org/wiki/Otsu%27s_method)"
   ]
  },
  {
   "cell_type": "code",
   "execution_count": 1,
   "metadata": {},
   "outputs": [],
   "source": [
    "%matplotlib widget\n",
    "import matplotlib.pyplot as plt\n",
    "import numpy as np"
   ]
  },
  {
   "cell_type": "code",
   "execution_count": 2,
   "metadata": {},
   "outputs": [],
   "source": [
    "#I = plt.imread('rice.png') #Popular example image\n",
    "I = plt.imread('germanOtsuWiki.jpg') #Wiki example\n",
    "#I = plt.imread('underExposed.jpg')\n",
    "\n",
    "\n",
    "#If it's a multi-channel image, try to get it in [0,255]\n",
    "if (len(I.shape) > 2):\n",
    "    Ig = 0.2989 * I[..., 0] + 0.5870 * I[..., 1] + 0.1140 * I[..., 2]\n",
    "    I = Ig\n",
    "\n",
    "    I = I/I.ravel().max()\n",
    "    I = 255*I\n",
    "    I = np.round(I)\n",
    "    I[I>255] = 255\n",
    "    I = I.copy().astype('uint8')"
   ]
  },
  {
   "cell_type": "code",
   "execution_count": 3,
   "metadata": {},
   "outputs": [
    {
     "data": {
      "application/vnd.jupyter.widget-view+json": {
       "model_id": "931e9445c2a941d089c6ffe3d045b4e6",
       "version_major": 2,
       "version_minor": 0
      },
      "text/plain": [
       "Canvas(toolbar=Toolbar(toolitems=[('Home', 'Reset original view', 'home', 'home'), ('Back', 'Back to previous …"
      ]
     },
     "metadata": {},
     "output_type": "display_data"
    },
    {
     "data": {
      "application/vnd.jupyter.widget-view+json": {
       "model_id": "30c34468d787495984a5affd6a68f8bd",
       "version_major": 2,
       "version_minor": 0
      },
      "text/plain": [
       "Canvas(toolbar=Toolbar(toolitems=[('Home', 'Reset original view', 'home', 'home'), ('Back', 'Back to previous …"
      ]
     },
     "metadata": {},
     "output_type": "display_data"
    },
    {
     "data": {
      "text/plain": [
       "Text(0.5, 1.0, 'Foreground Image\\nSeparability 0.782')"
      ]
     },
     "execution_count": 3,
     "metadata": {},
     "output_type": "execute_result"
    }
   ],
   "source": [
    "\n",
    "#Using the nomenclature of the book:\n",
    "hist, bins = np.histogram(I.ravel(), np.arange(257))\n",
    "\n",
    "p = hist/sum(hist)  #probability density, 10-48\n",
    "P_1 = np.cumsum(p)    #cumulative sum 10-49\n",
    "\n",
    "#intermediate, intensity times prob, i*p_i\n",
    "ip = np.multiply(bins[:-1], p)\n",
    "\n",
    "#m(k), the cumulative mean up to k, for all k. 10-53\n",
    "mk = np.cumsum(ip)\n",
    "\n",
    "#m_G, global mean intensity, 10-54\n",
    "#should be equivalent to I.ravel().mean()\n",
    "m_G = ip.sum()\n",
    "\n",
    "#We're going to compute the between class variance\n",
    "#as a function of every possible threshold value.\n",
    "numerator = np.square(m_G*P_1 - mk)\n",
    "denom = np.multiply(P_1, 1.0 - P_1)\n",
    "\n",
    "#This would possibly allow division by zero.\n",
    "#sig_B = np.divide(numerator, denom)\n",
    "#so\n",
    "\n",
    "sig_B = np.zeros(len(mk))\n",
    "eps = np.finfo(float).eps #pretty much zero\n",
    "#10-62\n",
    "sig_B[denom > eps] = np.divide(numerator[denom>eps], denom[denom>eps])\n",
    "\n",
    "\n",
    "#Get the max\n",
    "opt = np.argmax(sig_B)\n",
    "\n",
    "f, ax = plt.subplots(1,4, figsize=(15,3))\n",
    "\n",
    "ax[0].imshow(I, cmap = 'gray')\n",
    "ax[0].set_title('Original Image')\n",
    "\n",
    "ax[1].bar(bins[:-1], hist)\n",
    "ax[1].set_title('Image Histogram')\n",
    "\n",
    "ax[2].plot(bins[:-1], sig_B)\n",
    "ax[2].set_title('Inter-Class Variance')\n",
    "\n",
    "F = I>opt #Which pixels are above the threshold.\n",
    "ax[3].imshow(F.astype(float))\n",
    "ax[3].set_title('Threshold=%d' % opt)\n",
    "\n",
    "\n",
    "#Compute the separability, eta. 10-61\n",
    "sig_G = np.multiply(np.square(bins[:-1]-m_G), p).sum()  #10-58\n",
    "etaOpt = sig_B[opt]/sig_G   #10-61\n",
    "\n",
    "\n",
    "#Image with just foreground.\n",
    "If = I.copy()\n",
    "If[~F] = 0\n",
    "\n",
    "f, ax2 = plt.subplots(1,2, figsize=(10,5), sharex=True, sharey=True)\n",
    "ax2[0].imshow(I, cmap = 'gray')\n",
    "ax2[0].set_title('Original Image')\n",
    "\n",
    "ax2[1].imshow(If, cmap = 'gray')\n",
    "ax2[1].set_title('Foreground Image\\nSeparability %5.3f' % etaOpt)"
   ]
  },
  {
   "cell_type": "code",
   "execution_count": null,
   "metadata": {},
   "outputs": [],
   "source": []
  },
  {
   "cell_type": "code",
   "execution_count": 4,
   "metadata": {},
   "outputs": [],
   "source": [
    "import scipy.ndimage as spi\n",
    "#I = plt.imread('b.jpg')\n",
    "\n",
    "#plt.figure()\n",
    "#newI = spi.correlate(I,np.ones((3,3,3)))\n",
    "#plt.imshow(newI)"
   ]
  },
  {
   "cell_type": "code",
   "execution_count": 35,
   "metadata": {},
   "outputs": [
    {
     "data": {
      "text/plain": [
       "array([[[ 1,  1,  1],\n",
       "        [ 0,  0,  0],\n",
       "        [-1, -1, -1]],\n",
       "\n",
       "       [[ 1,  1,  1],\n",
       "        [ 0,  0,  0],\n",
       "        [-1, -1, -1]],\n",
       "\n",
       "       [[ 1,  1,  1],\n",
       "        [ 0,  0,  0],\n",
       "        [-1, -1, -1]]])"
      ]
     },
     "execution_count": 35,
     "metadata": {},
     "output_type": "execute_result"
    }
   ],
   "source": [
    "weights = np.ones((3,3,3))\n",
    "#weights[1] = np.zeros((3,3,3))\n",
    "#weights[0] = np.zeros((3,3,3))\n",
    "weights =np.array([[[1,1,1],[0,0,0],[-1,-1,-1]],[[1,1,1],[0,0,0],[-1,-1,-1]],[[1,1,1],[0,0,0],[-1,-1,-1]]])\n",
    "#weights**2 + weights.T**2"
   ]
  },
  {
   "cell_type": "code",
   "execution_count": 50,
   "metadata": {},
   "outputs": [
    {
     "data": {
      "application/vnd.jupyter.widget-view+json": {
       "model_id": "cc5f9e5a70cc4ecb8aced29c55f180a9",
       "version_major": 2,
       "version_minor": 0
      },
      "text/plain": [
       "Canvas(toolbar=Toolbar(toolitems=[('Home', 'Reset original view', 'home', 'home'), ('Back', 'Back to previous …"
      ]
     },
     "metadata": {},
     "output_type": "display_data"
    },
    {
     "data": {
      "text/plain": [
       "<matplotlib.image.AxesImage at 0x12cb05a50>"
      ]
     },
     "execution_count": 50,
     "metadata": {},
     "output_type": "execute_result"
    }
   ],
   "source": [
    "newIx = spi.correlate(I,weights)\n",
    "newIy = spi.correlate(I,weights.T)\n",
    "newI = np.sqrt(newIx**2+newIy**2)\n",
    "newI= newI - newI.min()\n",
    "newI = newI/newI.max()\n",
    "plt.figure()\n",
    "plt.imshow(newI.astype(float))"
   ]
  },
  {
   "cell_type": "code",
   "execution_count": 47,
   "metadata": {},
   "outputs": [
    {
     "name": "stdout",
     "output_type": "stream",
     "text": [
      "1.0\n"
     ]
    }
   ],
   "source": [
    "print(newI.max())\n",
    "h = np.array([[-1,0,-1],[-2,0,2],[-1,0,1]])\n",
    "H = np.stack([h,h,h])"
   ]
  },
  {
   "cell_type": "code",
   "execution_count": 8,
   "metadata": {},
   "outputs": [],
   "source": [
    "I = plt.imread('canyon.jpg').astype(float)\n",
    "I = I-I.min()\n",
    "I = I/I.max()"
   ]
  },
  {
   "cell_type": "code",
   "execution_count": 9,
   "metadata": {},
   "outputs": [
    {
     "data": {
      "application/vnd.jupyter.widget-view+json": {
       "model_id": "3ba637c59323479ebaf85f261bd3886c",
       "version_major": 2,
       "version_minor": 0
      },
      "text/plain": [
       "Canvas(toolbar=Toolbar(toolitems=[('Home', 'Reset original view', 'home', 'home'), ('Back', 'Back to previous …"
      ]
     },
     "metadata": {},
     "output_type": "display_data"
    },
    {
     "data": {
      "text/plain": [
       "<matplotlib.image.AxesImage at 0x11eaa59d0>"
      ]
     },
     "execution_count": 9,
     "metadata": {},
     "output_type": "execute_result"
    }
   ],
   "source": [
    "Im = I[...,0]\n",
    "fig, ax = plt.subplots(1,4,sharex=True, sharey=True, figsize=(20,20))\n",
    "gx = spi.correlate(Im,h)\n",
    "ax[0].imshow(gx, cmap =\"hot\")\n",
    "gy = spi.correlate(Im,h.T)\n",
    "ax[1].imshow(gy, cmap =\"hot\")\n",
    "gm = gy**2 + gx**2\n",
    "ax[2].imshow(gm, cmap =\"hot\")\n",
    "ax[3].imshow(Im)"
   ]
  },
  {
   "cell_type": "code",
   "execution_count": 10,
   "metadata": {},
   "outputs": [
    {
     "name": "stderr",
     "output_type": "stream",
     "text": [
      "/opt/anaconda3/envs/imgpro/lib/python3.7/site-packages/PIL/Image.py:2860: UserWarning: image file could not be identified because WEBP support not installed\n",
      "  warnings.warn(message)\n"
     ]
    },
    {
     "ename": "UnidentifiedImageError",
     "evalue": "cannot identify image file 'b.jpg'",
     "output_type": "error",
     "traceback": [
      "\u001b[0;31m---------------------------------------------------------------------------\u001b[0m",
      "\u001b[0;31mUnidentifiedImageError\u001b[0m                    Traceback (most recent call last)",
      "\u001b[0;32m<ipython-input-10-0b33d8a5695b>\u001b[0m in \u001b[0;36m<module>\u001b[0;34m\u001b[0m\n\u001b[0;32m----> 1\u001b[0;31m \u001b[0mI\u001b[0m \u001b[0;34m=\u001b[0m \u001b[0mplt\u001b[0m\u001b[0;34m.\u001b[0m\u001b[0mimread\u001b[0m\u001b[0;34m(\u001b[0m\u001b[0;34m'b.jpg'\u001b[0m\u001b[0;34m)\u001b[0m\u001b[0;34m\u001b[0m\u001b[0;34m\u001b[0m\u001b[0m\n\u001b[0m",
      "\u001b[0;32m/opt/anaconda3/envs/imgpro/lib/python3.7/site-packages/matplotlib/pyplot.py\u001b[0m in \u001b[0;36mimread\u001b[0;34m(fname, format)\u001b[0m\n\u001b[1;32m   2133\u001b[0m \u001b[0;34m@\u001b[0m\u001b[0mdocstring\u001b[0m\u001b[0;34m.\u001b[0m\u001b[0mcopy\u001b[0m\u001b[0;34m(\u001b[0m\u001b[0mmatplotlib\u001b[0m\u001b[0;34m.\u001b[0m\u001b[0mimage\u001b[0m\u001b[0;34m.\u001b[0m\u001b[0mimread\u001b[0m\u001b[0;34m)\u001b[0m\u001b[0;34m\u001b[0m\u001b[0;34m\u001b[0m\u001b[0m\n\u001b[1;32m   2134\u001b[0m \u001b[0;32mdef\u001b[0m \u001b[0mimread\u001b[0m\u001b[0;34m(\u001b[0m\u001b[0mfname\u001b[0m\u001b[0;34m,\u001b[0m \u001b[0mformat\u001b[0m\u001b[0;34m=\u001b[0m\u001b[0;32mNone\u001b[0m\u001b[0;34m)\u001b[0m\u001b[0;34m:\u001b[0m\u001b[0;34m\u001b[0m\u001b[0;34m\u001b[0m\u001b[0m\n\u001b[0;32m-> 2135\u001b[0;31m     \u001b[0;32mreturn\u001b[0m \u001b[0mmatplotlib\u001b[0m\u001b[0;34m.\u001b[0m\u001b[0mimage\u001b[0m\u001b[0;34m.\u001b[0m\u001b[0mimread\u001b[0m\u001b[0;34m(\u001b[0m\u001b[0mfname\u001b[0m\u001b[0;34m,\u001b[0m \u001b[0mformat\u001b[0m\u001b[0;34m)\u001b[0m\u001b[0;34m\u001b[0m\u001b[0;34m\u001b[0m\u001b[0m\n\u001b[0m\u001b[1;32m   2136\u001b[0m \u001b[0;34m\u001b[0m\u001b[0m\n\u001b[1;32m   2137\u001b[0m \u001b[0;34m\u001b[0m\u001b[0m\n",
      "\u001b[0;32m/opt/anaconda3/envs/imgpro/lib/python3.7/site-packages/matplotlib/image.py\u001b[0m in \u001b[0;36mimread\u001b[0;34m(fname, format)\u001b[0m\n\u001b[1;32m   1415\u001b[0m                              \u001b[0;34m'with Pillow installed matplotlib can handle '\u001b[0m\u001b[0;34m\u001b[0m\u001b[0;34m\u001b[0m\u001b[0m\n\u001b[1;32m   1416\u001b[0m                              'more images' % list(handlers))\n\u001b[0;32m-> 1417\u001b[0;31m         \u001b[0;32mwith\u001b[0m \u001b[0mImage\u001b[0m\u001b[0;34m.\u001b[0m\u001b[0mopen\u001b[0m\u001b[0;34m(\u001b[0m\u001b[0mfname\u001b[0m\u001b[0;34m)\u001b[0m \u001b[0;32mas\u001b[0m \u001b[0mimage\u001b[0m\u001b[0;34m:\u001b[0m\u001b[0;34m\u001b[0m\u001b[0;34m\u001b[0m\u001b[0m\n\u001b[0m\u001b[1;32m   1418\u001b[0m             \u001b[0;32mreturn\u001b[0m \u001b[0mpil_to_array\u001b[0m\u001b[0;34m(\u001b[0m\u001b[0mimage\u001b[0m\u001b[0;34m)\u001b[0m\u001b[0;34m\u001b[0m\u001b[0;34m\u001b[0m\u001b[0m\n\u001b[1;32m   1419\u001b[0m \u001b[0;34m\u001b[0m\u001b[0m\n",
      "\u001b[0;32m/opt/anaconda3/envs/imgpro/lib/python3.7/site-packages/PIL/Image.py\u001b[0m in \u001b[0;36mopen\u001b[0;34m(fp, mode)\u001b[0m\n\u001b[1;32m   2860\u001b[0m         \u001b[0mwarnings\u001b[0m\u001b[0;34m.\u001b[0m\u001b[0mwarn\u001b[0m\u001b[0;34m(\u001b[0m\u001b[0mmessage\u001b[0m\u001b[0;34m)\u001b[0m\u001b[0;34m\u001b[0m\u001b[0;34m\u001b[0m\u001b[0m\n\u001b[1;32m   2861\u001b[0m     raise UnidentifiedImageError(\n\u001b[0;32m-> 2862\u001b[0;31m         \u001b[0;34m\"cannot identify image file %r\"\u001b[0m \u001b[0;34m%\u001b[0m \u001b[0;34m(\u001b[0m\u001b[0mfilename\u001b[0m \u001b[0;32mif\u001b[0m \u001b[0mfilename\u001b[0m \u001b[0;32melse\u001b[0m \u001b[0mfp\u001b[0m\u001b[0;34m)\u001b[0m\u001b[0;34m\u001b[0m\u001b[0;34m\u001b[0m\u001b[0m\n\u001b[0m\u001b[1;32m   2863\u001b[0m     )\n\u001b[1;32m   2864\u001b[0m \u001b[0;34m\u001b[0m\u001b[0m\n",
      "\u001b[0;31mUnidentifiedImageError\u001b[0m: cannot identify image file 'b.jpg'"
     ]
    }
   ],
   "source": [
    "I = plt.imread('b.jpg')"
   ]
  },
  {
   "cell_type": "code",
   "execution_count": null,
   "metadata": {},
   "outputs": [],
   "source": []
  },
  {
   "cell_type": "code",
   "execution_count": null,
   "metadata": {},
   "outputs": [],
   "source": []
  }
 ],
 "metadata": {
  "kernelspec": {
   "display_name": "Python 3",
   "language": "python",
   "name": "python3"
  },
  "language_info": {
   "codemirror_mode": {
    "name": "ipython",
    "version": 3
   },
   "file_extension": ".py",
   "mimetype": "text/x-python",
   "name": "python",
   "nbconvert_exporter": "python",
   "pygments_lexer": "ipython3",
   "version": "3.7.6"
  }
 },
 "nbformat": 4,
 "nbformat_minor": 4
}
