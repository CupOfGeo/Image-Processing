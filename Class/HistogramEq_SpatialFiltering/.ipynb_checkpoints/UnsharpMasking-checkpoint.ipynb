{
 "cells": [
  {
   "cell_type": "markdown",
   "metadata": {},
   "source": [
    "# Unsharp masking: using blur to sharpen an image?\n",
    "Joshua Stough\n",
    "DIP\n",
    "\n",
    "Using generic filter in [scipy.ndimage](https://docs.scipy.org/doc/scipy-0.16.1/reference/generated/scipy.ndimage.filters.generic_filter.html) to blur and other things an input image.\n"
   ]
  },
  {
   "cell_type": "code",
   "execution_count": null,
   "metadata": {},
   "outputs": [],
   "source": [
    "%matplotlib widget\n",
    "import matplotlib.pyplot as plt\n",
    "import scipy.ndimage as ndimage\n",
    "import numpy as np"
   ]
  },
  {
   "cell_type": "code",
   "execution_count": null,
   "metadata": {},
   "outputs": [],
   "source": [
    "#simple blur\n",
    "def myfunc(x):\n",
    "    return x.mean()\n",
    "\n",
    "\n",
    "I = plt.imread('canyon.jpg').astype(float)\n",
    "I = I/I.max()\n",
    "\n",
    "Ib = np.zeros(I.shape)\n",
    "Out = np.zeros(I.shape[:2])\n",
    "\n",
    "for chan in range(3):\n",
    "    ndimage.generic_filter(I[:, :, chan], function=myfunc, size=5, output=Out, mode='reflect')\n",
    "    Ib[...,chan] = Out.copy();\n",
    "\n",
    "f, axarr = plt.subplots(1,2, figsize=(10, 3), sharex=True, sharey=True)\n",
    "axarr[0].imshow(I)\n",
    "axarr[0].set_title('Original')\n",
    "\n",
    "axarr[1].imshow(Ib)\n",
    "axarr[1].set_title('Blurred')"
   ]
  },
  {
   "cell_type": "code",
   "execution_count": null,
   "metadata": {},
   "outputs": [],
   "source": [
    "#Now sharpen\n",
    "D = I - Ib\n",
    "Isharp = I + D\n",
    "Isharp[Isharp < 0] = 0\n",
    "Isharp[Isharp > 1] = 1\n",
    "\n",
    "f, axarr = plt.subplots(1,3, figsize=(10, 3), sharex=True, sharey=True)\n",
    "\n",
    "#normalize to [0,1] the difference image, for display.\n",
    "D = D - D.min()\n",
    "D = D/D.max()\n",
    "\n",
    "axarr[0].imshow(I)\n",
    "axarr[0].set_title('Original')\n",
    "\n",
    "axarr[1].imshow(D)\n",
    "axarr[1].set_title('Orginal-Blurred (D)')\n",
    "\n",
    "axarr[2].imshow(Isharp)\n",
    "axarr[2].set_title('Sharped (Original + D)');"
   ]
  },
  {
   "cell_type": "code",
   "execution_count": null,
   "metadata": {},
   "outputs": [],
   "source": []
  }
 ],
 "metadata": {
  "kernelspec": {
   "display_name": "Python 3",
   "language": "python",
   "name": "python3"
  },
  "language_info": {
   "codemirror_mode": {
    "name": "ipython",
    "version": 3
   },
   "file_extension": ".py",
   "mimetype": "text/x-python",
   "name": "python",
   "nbconvert_exporter": "python",
   "pygments_lexer": "ipython3",
   "version": "3.7.6"
  }
 },
 "nbformat": 4,
 "nbformat_minor": 4
}
