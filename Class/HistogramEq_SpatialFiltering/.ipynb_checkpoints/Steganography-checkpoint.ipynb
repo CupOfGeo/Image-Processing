{
 "cells": [
  {
   "cell_type": "markdown",
   "metadata": {},
   "source": [
    "# Steganography example, hiding content in the low order bits.\n",
    "Joshua Stough\n",
    "DIP\n",
    "\n",
    "Bit slicing visualization, and steganography example.\n"
   ]
  },
  {
   "cell_type": "code",
   "execution_count": null,
   "metadata": {},
   "outputs": [],
   "source": [
    "%matplotlib widget \n",
    "import matplotlib.pyplot as plt\n",
    "import numpy as np"
   ]
  },
  {
   "cell_type": "code",
   "execution_count": null,
   "metadata": {},
   "outputs": [],
   "source": [
    "I = plt.imread('roadforest.jpg').astype(float)\n",
    "I = I - I.ravel().min()\n",
    "I = 255*(I/I.ravel().max())\n",
    "\n",
    "if (len(I.shape) > 2):\n",
    "    Ig = 0.2989 * I[..., 0] + 0.5870 * I[..., 1] + 0.1140 * I[..., 2]\n",
    "    I = Ig\n",
    "\n",
    "I = np.round(I)\n",
    "I[I>255] = 255\n",
    "\n",
    "Ic = I.copy().astype('uint8')\n",
    "\n",
    "#plt.figure()\n",
    "#plt.imshow(Ic, cmap = 'gray')\n",
    "\n",
    "\n",
    "\n",
    "#Load the message image\n",
    "Im = plt.imread('happy1BitPad.png')[...,0]\n",
    "Im = Im.astype('uint8')\n",
    "\n",
    "#plt.figure()\n",
    "#plt.imshow(Im, cmap = 'gray')"
   ]
  },
  {
   "cell_type": "code",
   "execution_count": null,
   "metadata": {},
   "outputs": [],
   "source": [
    "f, ax = plt.subplots(1,2, figsize=(10,3), sharex=True, sharey=True)\n",
    "ax[0].imshow(Ic, cmap='gray')\n",
    "ax[1].imshow(Im, cmap='gray');"
   ]
  },
  {
   "cell_type": "code",
   "execution_count": null,
   "metadata": {},
   "outputs": [],
   "source": [
    "Ic.shape, Ic.min(), Ic.max(), Ic.dtype"
   ]
  },
  {
   "cell_type": "code",
   "execution_count": null,
   "metadata": {},
   "outputs": [],
   "source": [
    "# Use bit-wise and (&0b) to view each plane of the image.\n",
    "\n",
    "plt.figure(figsize=(6,3))\n",
    "plt.imshow(Ic, cmap='gray')"
   ]
  },
  {
   "cell_type": "code",
   "execution_count": null,
   "metadata": {},
   "outputs": [],
   "source": []
  }
 ],
 "metadata": {
  "kernelspec": {
   "display_name": "Python 3",
   "language": "python",
   "name": "python3"
  },
  "language_info": {
   "codemirror_mode": {
    "name": "ipython",
    "version": 3
   },
   "file_extension": ".py",
   "mimetype": "text/x-python",
   "name": "python",
   "nbconvert_exporter": "python",
   "pygments_lexer": "ipython3",
   "version": "3.7.6"
  }
 },
 "nbformat": 4,
 "nbformat_minor": 4
}
