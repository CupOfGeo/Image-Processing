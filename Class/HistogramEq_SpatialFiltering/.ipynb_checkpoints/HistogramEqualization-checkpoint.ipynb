{
 "cells": [
  {
   "cell_type": "markdown",
   "metadata": {},
   "source": [
    "# Histogram Equalization\n",
    "Joshua Stough\n",
    "DIP\n",
    "\n",
    "Showing histogram equalization both through application of an intensity transform, and empirically with the histogram.\n",
    "Shown on the Gaussian normal color random image."
   ]
  },
  {
   "cell_type": "code",
   "execution_count": null,
   "metadata": {},
   "outputs": [],
   "source": [
    "%matplotlib widget\n",
    "# %matplotlib inline\n",
    "import matplotlib.pyplot as plt\n",
    "from mpl_toolkits.mplot3d import Axes3D\n",
    "import numpy as np\n",
    "import numpy.random as random"
   ]
  },
  {
   "cell_type": "markdown",
   "metadata": {},
   "source": [
    "### Make Gausisan and Uniform Random Images\n",
    "\n",
    "See how the uniform has better contrast, see what that means\n",
    "in the histograms"
   ]
  },
  {
   "cell_type": "code",
   "execution_count": null,
   "metadata": {},
   "outputs": [],
   "source": [
    "IU = np.concatenate([random.rand(100,100,1) for x in range(3)], axis = 2)\n",
    "IN = np.concatenate([random.randn(100,100,1) for x in range(3)], axis = 2)\n",
    "IN = IN - IN.ravel().min() #Make the minimum 0\n",
    "IN = IN/IN.ravel().max()  #Make max 1"
   ]
  },
  {
   "cell_type": "code",
   "execution_count": null,
   "metadata": {},
   "outputs": [],
   "source": [
    "f, axarr = plt.subplots(1,2, figsize=(8, 3))\n",
    "axarr[0].imshow(IU)\n",
    "axarr[0].set_title('Uniform Random Image')\n",
    "axarr[1].imshow(IN)\n",
    "axarr[1].set_title('Normal Random Image')\n",
    "\n",
    "f, ax = plt.subplots(1,2, figsize=(8,3))\n",
    "ax[0].hist(IU.ravel(), bins=256);\n",
    "ax[1].hist(IN.ravel(), bins=256);"
   ]
  },
  {
   "cell_type": "markdown",
   "metadata": {},
   "source": [
    "### Visualize the two images in the color cube.\n",
    "Some complicated code you should understand. \n",
    "Notice how the uniform distribution is better spread in the color cube."
   ]
  },
  {
   "cell_type": "code",
   "execution_count": null,
   "metadata": {},
   "outputs": [],
   "source": [
    "'''\n",
    "visCube(I): visualize the image I within the color cube.\n",
    "'''\n",
    "def visCube(I, numpoints = 5000):\n",
    "\n",
    "    fig = plt.figure(figsize=(5,4))\n",
    "    ax = fig.add_subplot(111, projection='3d')\n",
    "\n",
    "    #X is the N*M x 3 version of the image.\n",
    "    X = np.concatenate([np.expand_dims(Ichan, axis = 1) for Ichan in\n",
    "                        [I[...,0].ravel(), I[...,1].ravel(), I[...,2].ravel()]], axis = 1)\n",
    "\n",
    "    #https://docs.scipy.org/doc/numpy/reference/generated/numpy.random.choice.html\n",
    "    randomInds = np.random.choice(np.arange(X.shape[0]), numpoints, replace=False)\n",
    "    \n",
    "    # point colors\n",
    "    point_colors = X[randomInds, :]\n",
    "    if point_colors.max() > 1:\n",
    "        point_colors = point_colors-point_colors.min()\n",
    "        point_colors = point_colors/point_colors.max()\n",
    "\n",
    "    #Now plot those pixels in the 3d space.\n",
    "    ax.scatter(X[randomInds,0], X[randomInds,1], X[randomInds,2], \n",
    "               c=point_colors, depthshade=False)\n",
    "\n",
    "    #Label the axes.\n",
    "    ax.set_xlabel('Red')\n",
    "    ax.set_ylabel('Green')\n",
    "    ax.set_zlabel('Blue')"
   ]
  },
  {
   "cell_type": "code",
   "execution_count": null,
   "metadata": {},
   "outputs": [],
   "source": [
    "visCube(IU)"
   ]
  },
  {
   "cell_type": "code",
   "execution_count": null,
   "metadata": {},
   "outputs": [],
   "source": [
    "visCube(IN)"
   ]
  },
  {
   "cell_type": "markdown",
   "metadata": {},
   "source": [
    "### Build a parametric function that would spread the data out in IN.\n",
    "We decided that would be an [S curve or sigmoid](https://en.wikipedia.org/wiki/Sigmoid_function).\n",
    "\n",
    "$$S(x) = \\frac{1}{1 + e^{-x}}$$\n",
    "\n",
    "But we need a sigmoid that is centered around .5 and steep enough to look like an s inside [0,1].\n",
    "\n",
    "$$S(x, x_c, s) = \\frac{1}{1 + e^{-s(x-x_c)}}$$"
   ]
  },
  {
   "cell_type": "code",
   "execution_count": null,
   "metadata": {},
   "outputs": [],
   "source": [
    "x = np.arange(0,1,1/100)\n",
    "f = lambda x: 1/(1+np.exp(-(10*(x-.5))))\n",
    "plt.figure(figsize=(4,3))\n",
    "plt.plot(x, f(x));"
   ]
  },
  {
   "cell_type": "markdown",
   "metadata": {},
   "source": [
    "### Apply the function to the image IN and see how it improves contrast."
   ]
  },
  {
   "cell_type": "code",
   "execution_count": null,
   "metadata": {},
   "outputs": [],
   "source": [
    "fff, ax = plt.subplots(1,2, figsize=(6,2), sharex=True, sharey=True)\n",
    "\n",
    "ax[0].imshow(IN)\n",
    "ax[1].imshow(f(IN));"
   ]
  },
  {
   "cell_type": "code",
   "execution_count": null,
   "metadata": {},
   "outputs": [],
   "source": [
    "visCube(f(IN))"
   ]
  },
  {
   "cell_type": "markdown",
   "metadata": {},
   "source": [
    "### We can accomplish the same thing emperically, through the [cumulative distribution function](https://en.wikipedia.org/wiki/Cumulative_distribution_function) on the histogram\n",
    "\n",
    "A fundamental result from probability theory, if $s = T(r)$ for $T$ continuous and differentiable:\n",
    "$$p_s(r) = p_r(r)\\begin{vmatrix}{\\frac{dr}{ds}}\\end{vmatrix}$$\n",
    "\n",
    "The CDF measures the probability that a random variable $X$ takes on a value less than or equal to $x$:\n",
    "\n",
    " $$P(X \\le x) = \\intop_{0}^{x} p_r(w)dw$$\n",
    " \n",
    "where $p_r$ is the probability distribution (read: histogram) of our random variable $X$."
   ]
  },
  {
   "cell_type": "code",
   "execution_count": null,
   "metadata": {},
   "outputs": [],
   "source": [
    "# First get the histogram of IN, and plot with the cdf.\n",
    "# normalize so they show up nicely.\n",
    "\n",
    "freq, bins = np.histogram(IN.ravel(), bins=x)\n",
    "freq = freq/freq.max()\n",
    "cdf = np.cumsum(freq)\n",
    "cdf = cdf/cdf.max()\n",
    "\n",
    "f = plt.figure(figsize=(4,3))\n",
    "plt.bar(bins[:-1], freq, width=.01) # width to keep the bars skinny enough.\n",
    "plt.plot(bins[:-1], cdf, 'r-');"
   ]
  },
  {
   "cell_type": "markdown",
   "metadata": {},
   "source": [
    "### It's coincidental that the sigmoid is the CDF of a Gaussian.  \n",
    "\n",
    "Let's apply the function that uses this empirical cdf (coming from the histogram).\n"
   ]
  },
  {
   "cell_type": "code",
   "execution_count": null,
   "metadata": {},
   "outputs": [],
   "source": [
    "from scipy.interpolate import interp1d\n",
    "\n",
    "func = interp1d(bins[:-1], cdf, fill_value='extrapolate') \n",
    "# 'extrapolate' is important here, otherwise a lot of out of bound errors."
   ]
  },
  {
   "cell_type": "code",
   "execution_count": null,
   "metadata": {},
   "outputs": [],
   "source": [
    "fff, ax = plt.subplots(1,2, figsize=(6,2), sharex=True, sharey=True)\n",
    "# fIN = np.stack([func(IN[...,chan]) for chan in range(3)], axis=-1)\n",
    "ax[0].imshow(IN)\n",
    "ax[1].imshow(func(IN));"
   ]
  },
  {
   "cell_type": "code",
   "execution_count": null,
   "metadata": {},
   "outputs": [],
   "source": [
    "# View the two histograms\n",
    "f, axarr = plt.subplots(1,1, figsize=(5, 4))\n",
    "\n",
    "funcI = func(IN)\n",
    "\n",
    "axarr.hist(IN.ravel(), bins=256, alpha = .6, label = 'Original', color = 'r');\n",
    "axarr.hist(funcI.ravel(), bins=256, alpha = .6, label = 'Equalized', color = 'g');\n",
    "axarr.legend(loc = 'upper right');\n",
    "plt.show()"
   ]
  },
  {
   "cell_type": "code",
   "execution_count": null,
   "metadata": {},
   "outputs": [],
   "source": []
  }
 ],
 "metadata": {
  "kernelspec": {
   "display_name": "Python 3",
   "language": "python",
   "name": "python3"
  },
  "language_info": {
   "codemirror_mode": {
    "name": "ipython",
    "version": 3
   },
   "file_extension": ".py",
   "mimetype": "text/x-python",
   "name": "python",
   "nbconvert_exporter": "python",
   "pygments_lexer": "ipython3",
   "version": "3.7.6"
  }
 },
 "nbformat": 4,
 "nbformat_minor": 4
}
