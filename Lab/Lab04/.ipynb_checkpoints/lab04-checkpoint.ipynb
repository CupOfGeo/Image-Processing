{
 "cells": [
  {
   "cell_type": "code",
   "execution_count": 15,
   "metadata": {},
   "outputs": [
    {
     "name": "stdout",
     "output_type": "stream",
     "text": [
      "loadHuffableImage: input is multi-channel, using grayscale.\n",
      "loadHuffableImage: Setting range to [0, 255]\n",
      "[  0   3   7  11  13  15  19  23  26  27  31  35  39  40  43  44  47  51\n",
      "  53  54  55  59  60  63  65  67  72  75  78  79  80  81  89  91  93  95\n",
      "  99 100 101 107 109 110 111 119 120 121 127 128 129 130 133 135 138 141\n",
      " 144 145 147 149 157 160 161 162 166 168 174 176 177 185 187 190 192 193\n",
      " 195 201 203 204 208 209 214 217 224 225 240 241 255 256]\n"
     ]
    }
   ],
   "source": [
    "from huffTreeUtilities import * #TODO RECOPY THESE FILES\n",
    "import numpy as np\n",
    "import sys\n",
    "import pandas as pd"
   ]
  },
  {
   "cell_type": "code",
   "execution_count": null,
   "metadata": {},
   "outputs": [],
   "source": [
    "I = loadHuffableImage('happyFace.png')\n",
    "encoder, decoder = buildHuffPair(I)\n",
    "#print(I.ravel())\n",
    "#enI = ''.join(encoder[pix] for pix in I.ravel())\n",
    "allbins = np.arange(257)\n",
    "faceFreq = np.histogram(I,allbins)\n",
    "faceEncoder = encoder"
   ]
  },
  {
   "cell_type": "code",
   "execution_count": null,
   "metadata": {},
   "outputs": [],
   "source": [
    "def decode(encoded):\n",
    "    out = []\n",
    "    while not encoded == \"\": \n",
    "        i = 1\n",
    "        cut = encoded[:i]\n",
    "        while cut not in decoder.keys():\n",
    "            i = i + 1\n",
    "            cut = encoded[:i]\n",
    "        out.append(decoder[cut].astype(np.uint8))\n",
    "        encoded = encoded[i:]\n",
    "    return out"
   ]
  },
  {
   "cell_type": "code",
   "execution_count": null,
   "metadata": {},
   "outputs": [],
   "source": [
    "#print(t)\n",
    "len(enI)\n",
    "out = decode(enI)"
   ]
  },
  {
   "cell_type": "code",
   "execution_count": null,
   "metadata": {},
   "outputs": [],
   "source": [
    "len(out)\n",
    "I.size\n",
    "reconstuction = np.array(out)\n",
    "reconstuction = reconstuction.reshape(I.shape)"
   ]
  },
  {
   "cell_type": "code",
   "execution_count": null,
   "metadata": {},
   "outputs": [],
   "source": [
    "plt.imshow(reconstuction, cmap=\"hot\")"
   ]
  },
  {
   "cell_type": "code",
   "execution_count": null,
   "metadata": {},
   "outputs": [],
   "source": []
  },
  {
   "cell_type": "code",
   "execution_count": null,
   "metadata": {},
   "outputs": [],
   "source": []
  },
  {
   "cell_type": "code",
   "execution_count": null,
   "metadata": {},
   "outputs": [],
   "source": [
    "I = plt.imread(\"earth2.jpg\")\n",
    "encoder, decoder = buildHuffPair(I)\n",
    "enI = ''.join(encoder[pix] for pix in I.ravel())\n",
    "\n",
    "out = decode(enI)\n",
    "reconstuction = np.array(out)\n",
    "reconstuction = reconstuction.reshape(I.shape)"
   ]
  },
  {
   "cell_type": "code",
   "execution_count": null,
   "metadata": {},
   "outputs": [],
   "source": [
    "plt.imshow(reconstuction)"
   ]
  },
  {
   "cell_type": "code",
   "execution_count": null,
   "metadata": {},
   "outputs": [],
   "source": [
    "\n",
    "\n",
    "def getCompressionStats(fileName):\n",
    "    I = plt.imread(fileName)\n",
    "    if(type(I[0,0,0]) == np.float32):\n",
    "        I = (I * 255)  \n",
    "    print(fileName , \"is\", I.nbytes, \"bytes\")\n",
    "    \n",
    "    colors = [\"Red\", \"Blue\", \"Green\"]\n",
    "    for chan in range(3):\n",
    "        print(\"++++++++++++++++++++++++++++++++++++++++++++++++++++\")\n",
    "        print(fileName + \"'s\", colors[chan], \"channle is\", I.nbytes, \"bytes\")\n",
    "        allbins = np.unique(I[...,chan].ravel())\n",
    "        encoder, decoder = buildHuffPair(I[...,chan])\n",
    "        enI = ''.join(encoder[pix] for pix in I[...,chan].ravel())\n",
    "        compSize = sys.getsizeof(decoder)+(len(enI)/8) #pretending that enI is a bitArray\n",
    "        huffBitPixel = (compSize*8)/(I.shape[0]*I.shape[1]) #bits per pixle\n",
    "        print(\"compressed image's\", colors[chan] ,\"channle is\",  compSize ,\"bytes or\", huffBitPixel, \"bits per pixel\")\n",
    "        freqs = np.histogram(I[...,chan],allbins)\n",
    "        probs = freqs[0]/freqs[0].sum() # probabilities \n",
    "        print(colors[chan] ,\"channel entropy is \",-(probs * np.log2(probs)).sum(), \"bits/pixel\")\n",
    "    #return encoder\n",
    "#    x * np.log2(x"
   ]
  },
  {
   "cell_type": "code",
   "execution_count": null,
   "metadata": {},
   "outputs": [],
   "source": [
    "earthEnc = getCompressionStats(\"earth2.jpg\")\n",
    "print(\"-------------------------- \\n \\n\")\n",
    "faceEnc = getCompressionStats(\"happyFace.png\")\n"
   ]
  },
  {
   "cell_type": "code",
   "execution_count": null,
   "metadata": {},
   "outputs": [],
   "source": [
    "\n",
    "\n",
    "df = pd.DataFrame(faceEncoder.items(), columns = [\"intensitys\",\"encoding\"])#np.arange(256))\n",
    "#df[\"encodings\"] = faceEncoder.items()\n",
    "df['#bits'] = df.iloc[:,1].apply(len)\n",
    "df[\"freqs\"] = faceFreq[0]\n",
    "df = df.set_index('intensitys')"
   ]
  },
  {
   "cell_type": "code",
   "execution_count": null,
   "metadata": {},
   "outputs": [],
   "source": [
    "print(df.iloc[:,[1,2]].sort_values(by=['#bits'], ascending=False)[:20]) \n",
    "print(df.iloc[:,[1,2]].sort_values(by=['#bits'], ascending=False)[-20:]) \n",
    "#the difference beetween the intensity 61 and 63 is 86 bits to 3 bits so if we turned all the 61's to 63's we woud save 83*19=1577 bits\n"
   ]
  },
  {
   "cell_type": "code",
   "execution_count": null,
   "metadata": {},
   "outputs": [],
   "source": []
  },
  {
   "cell_type": "code",
   "execution_count": null,
   "metadata": {},
   "outputs": [],
   "source": []
  }
 ],
 "metadata": {
  "kernelspec": {
   "display_name": "Python 3",
   "language": "python",
   "name": "python3"
  },
  "language_info": {
   "codemirror_mode": {
    "name": "ipython",
    "version": 3
   },
   "file_extension": ".py",
   "mimetype": "text/x-python",
   "name": "python",
   "nbconvert_exporter": "python",
   "pygments_lexer": "ipython3",
   "version": "3.7.6"
  }
 },
 "nbformat": 4,
 "nbformat_minor": 4
}
