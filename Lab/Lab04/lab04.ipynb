{
 "cells": [
  {
   "cell_type": "code",
   "execution_count": 1,
   "metadata": {},
   "outputs": [],
   "source": [
    "%matplotlib widget\n",
    "from huffTreeUtilities import * #TODO RECOPY THESE FILES\n",
    "import numpy as np\n",
    "import sys\n",
    "import pandas as pd"
   ]
  },
  {
   "cell_type": "code",
   "execution_count": 2,
   "metadata": {},
   "outputs": [
    {
     "name": "stdout",
     "output_type": "stream",
     "text": [
      "loadHuffableImage: input is multi-channel, using grayscale.\n",
      "loadHuffableImage: Setting range to [0, 255]\n"
     ]
    }
   ],
   "source": [
    "I = loadHuffableImage('happyFace.png')\n",
    "encoder, decoder = buildHuffPair(I)\n",
    "#print(I.ravel())\n",
    "enI = ''.join(encoder[pix] for pix in I.ravel())\n",
    "allbins = np.arange(257)\n",
    "\n"
   ]
  },
  {
   "cell_type": "code",
   "execution_count": 3,
   "metadata": {},
   "outputs": [],
   "source": [
    "def decode(encoded):\n",
    "    out = []\n",
    "    while not encoded == \"\": \n",
    "        i = 1\n",
    "        cut = encoded[:i]\n",
    "        while cut not in decoder.keys():\n",
    "            i = i + 1\n",
    "            cut = encoded[:i]\n",
    "        out.append(decoder[cut].astype(np.uint8))\n",
    "        encoded = encoded[i:]\n",
    "    return out"
   ]
  },
  {
   "cell_type": "code",
   "execution_count": 4,
   "metadata": {},
   "outputs": [],
   "source": [
    "#print(t)\n",
    "len(enI)\n",
    "out = decode(enI)"
   ]
  },
  {
   "cell_type": "code",
   "execution_count": 5,
   "metadata": {},
   "outputs": [],
   "source": [
    "len(out)\n",
    "I.size\n",
    "reconstuction = np.array(out)\n",
    "reconstuction = reconstuction.reshape(I.shape)\n",
    "old_out = reconstuction"
   ]
  },
  {
   "cell_type": "code",
   "execution_count": 6,
   "metadata": {},
   "outputs": [
    {
     "data": {
      "application/vnd.jupyter.widget-view+json": {
       "model_id": "65b03dc5b4ee4d1cb5679f3fbfa2e1c0",
       "version_major": 2,
       "version_minor": 0
      },
      "text/plain": [
       "Canvas(toolbar=Toolbar(toolitems=[('Home', 'Reset original view', 'home', 'home'), ('Back', 'Back to previous …"
      ]
     },
     "metadata": {},
     "output_type": "display_data"
    },
    {
     "name": "stdout",
     "output_type": "stream",
     "text": [
      "True\n",
      "True\n"
     ]
    }
   ],
   "source": [
    "plt.figure()\n",
    "plt.imshow(reconstuction, cmap=\"hot\")\n",
    "print((reconstuction == I.all()).any())\n",
    "print((reconstuction == I.all()).any())"
   ]
  },
  {
   "cell_type": "code",
   "execution_count": 7,
   "metadata": {},
   "outputs": [],
   "source": [
    "I = plt.imread(\"earth2.jpg\")\n",
    "encoder, decoder = buildHuffPair(I)\n",
    "enI = ''.join(encoder[pix] for pix in I.ravel())\n",
    "\n",
    "out = decode(enI)\n",
    "reconstuction = np.array(out)\n",
    "reconstuction = reconstuction.reshape(I.shape)\n",
    "old_out = reconstuction"
   ]
  },
  {
   "cell_type": "code",
   "execution_count": 8,
   "metadata": {},
   "outputs": [
    {
     "data": {
      "application/vnd.jupyter.widget-view+json": {
       "model_id": "8ccb5e782dd945afbdc81554e66bda5c",
       "version_major": 2,
       "version_minor": 0
      },
      "text/plain": [
       "Canvas(toolbar=Toolbar(toolitems=[('Home', 'Reset original view', 'home', 'home'), ('Back', 'Back to previous …"
      ]
     },
     "metadata": {},
     "output_type": "display_data"
    },
    {
     "name": "stdout",
     "output_type": "stream",
     "text": [
      "True\n",
      "True\n"
     ]
    }
   ],
   "source": [
    "plt.figure()\n",
    "plt.title(\"reconstuction\")\n",
    "plt.imshow(reconstuction)\n",
    "print((reconstuction == I.all()).any())\n",
    "print((reconstuction == I.all()).any())"
   ]
  },
  {
   "cell_type": "code",
   "execution_count": 9,
   "metadata": {},
   "outputs": [],
   "source": [
    "def getCompressionStats(fileName):\n",
    "    I = plt.imread(fileName)\n",
    "    if(type(I[0,0,0]) == np.float32):\n",
    "        I = (I * 255)  \n",
    "    print(fileName , \"is\", I.nbytes, \"bytes\")\n",
    "    \n",
    "    colors = [\"Red\", \"Blue\", \"Green\"]\n",
    "    for chan in range(3):\n",
    "        print(\"++++++++++++++++++++++++++++++++++++++++++++++++++++\")\n",
    "        print(fileName + \"'s\", colors[chan], \"channle is\", I.nbytes, \"bytes\")\n",
    "        allbins = np.unique(I[...,chan].ravel())\n",
    "        encoder, decoder = buildHuffPair(I[...,chan])\n",
    "        enI = ''.join(encoder[pix] for pix in I[...,chan].ravel())\n",
    "        compSize = sys.getsizeof(decoder)+(len(enI)/8) #pretending that enI is a bitArray\n",
    "        huffBitPixel = (compSize*8)/(I.shape[0]*I.shape[1]) #bits per pixle\n",
    "        print(\"compressed image's\", colors[chan] ,\"channle is\",  compSize ,\"bytes or\", huffBitPixel, \"bits per pixel\")\n",
    "        freqs = np.histogram(I[...,chan],allbins)\n",
    "        probs = freqs[0]/freqs[0].sum() # probabilities \n",
    "        print(colors[chan] ,\"channel entropy is \",-(probs * np.log2(probs)).sum(), \"bits/pixel\")\n",
    "        \n"
   ]
  },
  {
   "cell_type": "code",
   "execution_count": 10,
   "metadata": {},
   "outputs": [
    {
     "name": "stdout",
     "output_type": "stream",
     "text": [
      "earth2.jpg is 307200 bytes\n",
      "++++++++++++++++++++++++++++++++++++++++++++++++++++\n",
      "earth2.jpg's Red channle is 307200 bytes\n",
      "compressed image's Red channle is 86020.375 bytes or 6.720341796875 bits per pixel\n",
      "Red channel entropy is  5.947979586232471 bits/pixel\n",
      "++++++++++++++++++++++++++++++++++++++++++++++++++++\n",
      "earth2.jpg's Blue channle is 307200 bytes\n",
      "compressed image's Blue channle is 86416.125 bytes or 6.751259765625 bits per pixel\n",
      "Blue channel entropy is  5.981984371723275 bits/pixel\n",
      "++++++++++++++++++++++++++++++++++++++++++++++++++++\n",
      "earth2.jpg's Green channle is 307200 bytes\n",
      "compressed image's Green channle is 88024.5 bytes or 6.8769140625 bits per pixel\n",
      "Green channel entropy is  6.112037905012562 bits/pixel\n",
      "-------------------------- \n",
      " \n",
      "\n",
      "happyFace.png is 6553440 bytes\n",
      "++++++++++++++++++++++++++++++++++++++++++++++++++++\n",
      "happyFace.png's Red channle is 6553440 bytes\n",
      "compressed image's Red channle is 164804.875 bytes or 2.4141928513879733 bits per pixel\n",
      "Red channel entropy is  1.5767305619853413 bits/pixel\n",
      "++++++++++++++++++++++++++++++++++++++++++++++++++++\n",
      "happyFace.png's Blue channle is 6553440 bytes\n",
      "compressed image's Blue channle is 165013.875 bytes or 2.417254449571523 bits per pixel\n",
      "Blue channel entropy is  2.1935879752604124 bits/pixel\n",
      "++++++++++++++++++++++++++++++++++++++++++++++++++++\n",
      "happyFace.png's Green channle is 6553440 bytes\n",
      "compressed image's Green channle is 165180.75 bytes or 2.4196989672599427 bits per pixel\n",
      "Green channel entropy is  2.196128693528319 bits/pixel\n"
     ]
    }
   ],
   "source": [
    "earthEnc = getCompressionStats(\"earth2.jpg\")\n",
    "print(\"-------------------------- \\n \\n\")\n",
    "faceEnc = getCompressionStats(\"happyFace.png\")\n"
   ]
  },
  {
   "cell_type": "code",
   "execution_count": 11,
   "metadata": {},
   "outputs": [],
   "source": [
    "\n",
    "#faceDecoder\n",
    "def build_df(filename):\n",
    "    I = loadHuffableImage(filename)\n",
    "    encoder, decoder = buildHuffPair(I)\n",
    "    faceFreq, bins = np.histogram(I.ravel(), np.arange(257))\n",
    "    df = pd.DataFrame(decoder.items(), columns = [\"decoding\",\"intensitys\"])#np.arange(256))\n",
    "    df['#bits'] = df.iloc[:,0].apply(len)\n",
    "    df['intensitys'] = pd.to_numeric(df['intensitys'])\n",
    "    df[\"decoding\"] = df[\"decoding\"].astype(str)\n",
    "    df = df.set_index(\"intensitys\")\n",
    "    df_f = pd.DataFrame(faceFreq)#[df.index]\n",
    "    df_f.iloc[df.index]\n",
    "    df[\"freqs\"] = df_f\n",
    "    df = df.sort_values(\"intensitys\")\n",
    "    return df, I, encoder, decoder"
   ]
  },
  {
   "cell_type": "code",
   "execution_count": 12,
   "metadata": {},
   "outputs": [
    {
     "name": "stdout",
     "output_type": "stream",
     "text": [
      "loadHuffableImage: input is multi-channel, using grayscale.\n",
      "            decoding  #bits  freqs\n",
      "intensitys                        \n",
      "0                 11      2  35525\n",
      "1             100101      6   1666\n",
      "2            0010010      7    549\n",
      "23           0010101      7    552\n",
      "24           0010110      7    554\n",
      "25           0011110      7    591\n",
      "26           0010111      7    559\n",
      "27           0010001      7    547\n",
      "28           0001000      7    502\n",
      "29           0000111      7    502\n",
      "31           0000110      7    500\n",
      "62           0000101      7    497\n",
      "64           0001111      7    536\n",
      "66           0001101      7    520\n",
      "70           0000011      7    494\n",
      "71           0010100      7    551\n",
      "73           0000000      7    483\n",
      "74           0000001      7    486\n",
      "114         01100101      8    351\n",
      "115         01000110      8    310\n"
     ]
    }
   ],
   "source": [
    "#df_happy, encoder, decoder = build_df(\"happyFace.png\")\n",
    "#print(df_happy.sort_values(by='#bits').head(20).sort_values(by='intensitys'))\n",
    "#taking the 20 lowest bits and then sorting by intensity to find pairs\n",
    "#I could turn all 214's into 217'2 saving 2bit for each 16259 time so total savings of 3.954KB\n",
    "df_earth, I, encoder, decoder = build_df(\"earth2.jpg\")\n",
    "print(df_earth.sort_values(by='#bits').head(20).sort_values(by='intensitys'))\n",
    "#if we turn all the 1's into 0's we save 4bits each 1666 times we save 866 bytes total\n"
   ]
  },
  {
   "cell_type": "code",
   "execution_count": 13,
   "metadata": {},
   "outputs": [],
   "source": [
    "encoder[1] = encoder[0]\n",
    "enI = ''.join(encoder[pix] for pix in I.ravel())\n",
    "out = decode(enI)\n",
    "reconstuction = np.array(out)\n",
    "reconstuction = reconstuction.reshape(I.shape)"
   ]
  },
  {
   "cell_type": "code",
   "execution_count": 14,
   "metadata": {},
   "outputs": [],
   "source": [
    "#fig, ax = plt.subplots(1,2,sharex=True,sharey=True)\n",
    "#ax[0].imshow(reconstuction)\n",
    "#ax[0].set_title(\"replaced intensity\")\n",
    "#ax[1].imshow(loadHuffableImage(\"earth2.jpg\"))\n",
    "#ax[1].set_title(\"raw\")"
   ]
  },
  {
   "cell_type": "code",
   "execution_count": 15,
   "metadata": {},
   "outputs": [],
   "source": [
    "def compress(group_size = 5):\n",
    "    df_earth, I, encoder, decoder = build_df(\"earth2.jpg\")\n",
    "    lst = [df_earth.iloc[i:i+group_size] for i in range(0,len(df_earth)-group_size+1,group_size)]\n",
    "    for group in range(len(lst)):\n",
    "    #    print(\"idx with max freq:\",lst[group].freqs.idxmax())\n",
    "        x = lst[group].freqs.idxmax()\n",
    "    #    print(\"Updating all other all to max freqs encoding\", lst[group].iloc[lst[group].index != x,:].index)\n",
    "        encoder.update({i : lst[group].decoding.loc[x] for i in lst[group].iloc[lst[group].index != x,:].index})\n",
    "        enI = ''.join(encoder[pix] for pix in I.ravel())\n",
    "\n",
    "    out = decode(enI)\n",
    "    reconstuction = np.array(out)\n",
    "    reconstuction = reconstuction.reshape(I.shape)\n",
    "    \n",
    "    return reconstuction"
   ]
  },
  {
   "cell_type": "code",
   "execution_count": 21,
   "metadata": {},
   "outputs": [
    {
     "data": {
      "application/vnd.jupyter.widget-view+json": {
       "model_id": "b5fa78484cbd44638f4d7f45ea1ff740",
       "version_major": 2,
       "version_minor": 0
      },
      "text/plain": [
       "Canvas(toolbar=Toolbar(toolitems=[('Home', 'Reset original view', 'home', 'home'), ('Back', 'Back to previous …"
      ]
     },
     "metadata": {},
     "output_type": "display_data"
    },
    {
     "data": {
      "application/vnd.jupyter.widget-view+json": {
       "model_id": "6b9b27269a53419a9d55a6a142e92b9b",
       "version_major": 2,
       "version_minor": 0
      },
      "text/plain": [
       "Canvas(toolbar=Toolbar(toolitems=[('Home', 'Reset original view', 'home', 'home'), ('Back', 'Back to previous …"
      ]
     },
     "metadata": {},
     "output_type": "display_data"
    }
   ],
   "source": [
    "fig, ax = plt.subplots(1,3,sharex=True,sharey=True)\n",
    "fig2, ax2 = plt.subplots(1,1)"
   ]
  },
  {
   "cell_type": "code",
   "execution_count": 23,
   "metadata": {},
   "outputs": [
    {
     "name": "stdout",
     "output_type": "stream",
     "text": [
      "loadHuffableImage: input is multi-channel, using grayscale.\n",
      "loadHuffableImage: input is multi-channel, using grayscale.\n",
      "loadHuffableImage: input is multi-channel, using grayscale.\n"
     ]
    }
   ],
   "source": [
    "\n",
    "group_size = 30\n",
    "rec = compress(group_size)\n",
    "ax[0].imshow(rec)\n",
    "st = \"replaced intensity groups of\" + str(group_size)\n",
    "ax[0].set_title(st)\n",
    "ax[1].imshow(loadHuffableImage(\"earth2.jpg\"))\n",
    "ax[1].set_title(\"raw\")\n",
    "ax[2].imshow(loadHuffableImage(\"earth2.jpg\") - rec)\n",
    "ax[2].set_title(\"raw-replaced\")\n",
    "n, bins, pat = ax2.hist(rec.ravel(),range(256))"
   ]
  },
  {
   "cell_type": "code",
   "execution_count": null,
   "metadata": {},
   "outputs": [],
   "source": []
  },
  {
   "cell_type": "code",
   "execution_count": null,
   "metadata": {},
   "outputs": [],
   "source": [
    "np.array([n != 0]).sum()\n",
    "255/51\n",
    "#proff that this my histogram is right"
   ]
  },
  {
   "cell_type": "code",
   "execution_count": null,
   "metadata": {},
   "outputs": [],
   "source": []
  },
  {
   "cell_type": "code",
   "execution_count": null,
   "metadata": {},
   "outputs": [],
   "source": []
  }
 ],
 "metadata": {
  "kernelspec": {
   "display_name": "Python 3",
   "language": "python",
   "name": "python3"
  },
  "language_info": {
   "codemirror_mode": {
    "name": "ipython",
    "version": 3
   },
   "file_extension": ".py",
   "mimetype": "text/x-python",
   "name": "python",
   "nbconvert_exporter": "python",
   "pygments_lexer": "ipython3",
   "version": "3.7.6"
  }
 },
 "nbformat": 4,
 "nbformat_minor": 4
}
