{
 "cells": [
  {
   "cell_type": "code",
   "execution_count": 1,
   "metadata": {},
   "outputs": [
    {
     "name": "stdout",
     "output_type": "stream",
     "text": [
      "loadHuffableImage: input is multi-channel, using grayscale.\n",
      "loadHuffableImage: Setting range to [0, 255]\n"
     ]
    }
   ],
   "source": [
    "from huffTreeUtilities import * #TODO RECOPY THESE FILES\n",
    "\n",
    "I = loadHuffableImage('happyFace.png')\n",
    "encoder, decoder = buildHuffPair(I)\n",
    "enI = ''.join(encoder[pix] for pix in I.ravel())"
   ]
  },
  {
   "cell_type": "code",
   "execution_count": 2,
   "metadata": {},
   "outputs": [],
   "source": [
    "def decode(encoded):\n",
    "    out = []\n",
    "    while not encoded == \"\": \n",
    "        i = 1\n",
    "        cut = encoded[:i]\n",
    "        while cut not in decoder.keys():\n",
    "            i = i + 1\n",
    "            cut = encoded[:i]\n",
    "        out.append(decoder[cut].astype(np.uint8))\n",
    "        encoded = encoded[i:]\n",
    "    return out"
   ]
  },
  {
   "cell_type": "code",
   "execution_count": 3,
   "metadata": {},
   "outputs": [],
   "source": [
    "#print(t)\n",
    "len(enI)\n",
    "out = decode(enI)"
   ]
  },
  {
   "cell_type": "code",
   "execution_count": null,
   "metadata": {},
   "outputs": [],
   "source": [
    "len(out)\n",
    "I.size\n",
    "reconstuction = np.array(out)\n",
    "reconstuction = reconstuction.reshape(I.shape)"
   ]
  },
  {
   "cell_type": "code",
   "execution_count": null,
   "metadata": {},
   "outputs": [],
   "source": [
    "plt.imshow(reconstuction, cmap=\"hot\")"
   ]
  },
  {
   "cell_type": "code",
   "execution_count": null,
   "metadata": {},
   "outputs": [],
   "source": []
  },
  {
   "cell_type": "code",
   "execution_count": null,
   "metadata": {},
   "outputs": [],
   "source": []
  },
  {
   "cell_type": "code",
   "execution_count": null,
   "metadata": {},
   "outputs": [],
   "source": [
    "I = plt.imread(\"earth2.jpg\")\n",
    "encoder, decoder = buildHuffPair(I)\n",
    "enI = ''.join(encoder[pix] for pix in I.ravel())\n",
    "\n",
    "out = decode(enI)\n",
    "reconstuction = np.array(out)\n",
    "reconstuction = reconstuction.reshape(I.shape)"
   ]
  },
  {
   "cell_type": "code",
   "execution_count": null,
   "metadata": {},
   "outputs": [],
   "source": [
    "plt.imshow(reconstuction)"
   ]
  },
  {
   "cell_type": "code",
   "execution_count": 4,
   "metadata": {},
   "outputs": [],
   "source": [
    "import sys\n",
    "def getCompressionStats(fileName):\n",
    "    I = plt.imread(fileName)\n",
    "    print(fileName , \"is\", I.nbytes, \"bytes\")\n",
    "    encoder, decoder = buildHuffPair(I)\n",
    "    enI = ''.join(encoder[pix] for pix in I.ravel())\n",
    "    compSize = sys.getsizeof(decoder)+(len(enI)/8) #pretending that enI is a bitArray\n",
    "    print(\"compressed image is\",  compSize ,\"bytes\")\n",
    "    x * np.log2(x)"
   ]
  },
  {
   "cell_type": "code",
   "execution_count": 5,
   "metadata": {},
   "outputs": [
    {
     "name": "stdout",
     "output_type": "stream",
     "text": [
      "earth2.jpg is 307200 bytes\n",
      "compressed image is 243272.625 bytes\n"
     ]
    },
    {
     "ename": "NameError",
     "evalue": "name 'x' is not defined",
     "output_type": "error",
     "traceback": [
      "\u001b[0;31m---------------------------------------------------------------------------\u001b[0m",
      "\u001b[0;31mNameError\u001b[0m                                 Traceback (most recent call last)",
      "\u001b[0;32m<ipython-input-5-36f02d53242c>\u001b[0m in \u001b[0;36m<module>\u001b[0;34m\u001b[0m\n\u001b[0;32m----> 1\u001b[0;31m \u001b[0mgetCompressionStats\u001b[0m\u001b[0;34m(\u001b[0m\u001b[0;34m\"earth2.jpg\"\u001b[0m\u001b[0;34m)\u001b[0m\u001b[0;34m\u001b[0m\u001b[0;34m\u001b[0m\u001b[0m\n\u001b[0m",
      "\u001b[0;32m<ipython-input-4-85a3a7ffb822>\u001b[0m in \u001b[0;36mgetCompressionStats\u001b[0;34m(fileName)\u001b[0m\n\u001b[1;32m      7\u001b[0m     \u001b[0mcompSize\u001b[0m \u001b[0;34m=\u001b[0m \u001b[0msys\u001b[0m\u001b[0;34m.\u001b[0m\u001b[0mgetsizeof\u001b[0m\u001b[0;34m(\u001b[0m\u001b[0mdecoder\u001b[0m\u001b[0;34m)\u001b[0m\u001b[0;34m+\u001b[0m\u001b[0;34m(\u001b[0m\u001b[0mlen\u001b[0m\u001b[0;34m(\u001b[0m\u001b[0menI\u001b[0m\u001b[0;34m)\u001b[0m\u001b[0;34m/\u001b[0m\u001b[0;36m8\u001b[0m\u001b[0;34m)\u001b[0m \u001b[0;31m#pretending that enI is a bitArray\u001b[0m\u001b[0;34m\u001b[0m\u001b[0;34m\u001b[0m\u001b[0m\n\u001b[1;32m      8\u001b[0m     \u001b[0mprint\u001b[0m\u001b[0;34m(\u001b[0m\u001b[0;34m\"compressed image is\"\u001b[0m\u001b[0;34m,\u001b[0m  \u001b[0mcompSize\u001b[0m \u001b[0;34m,\u001b[0m\u001b[0;34m\"bytes\"\u001b[0m\u001b[0;34m)\u001b[0m\u001b[0;34m\u001b[0m\u001b[0;34m\u001b[0m\u001b[0m\n\u001b[0;32m----> 9\u001b[0;31m     \u001b[0mx\u001b[0m \u001b[0;34m*\u001b[0m \u001b[0mnp\u001b[0m\u001b[0;34m.\u001b[0m\u001b[0mlog2\u001b[0m\u001b[0;34m(\u001b[0m\u001b[0mx\u001b[0m\u001b[0;34m)\u001b[0m\u001b[0;34m\u001b[0m\u001b[0;34m\u001b[0m\u001b[0m\n\u001b[0m",
      "\u001b[0;31mNameError\u001b[0m: name 'x' is not defined"
     ]
    }
   ],
   "source": [
    "getCompressionStats(\"earth2.jpg\")"
   ]
  },
  {
   "cell_type": "code",
   "execution_count": 6,
   "metadata": {},
   "outputs": [
    {
     "data": {
      "text/plain": [
       "dtype('uint8')"
      ]
     },
     "execution_count": 6,
     "metadata": {},
     "output_type": "execute_result"
    }
   ],
   "source": [
    "I.dtype"
   ]
  },
  {
   "cell_type": "code",
   "execution_count": 9,
   "metadata": {},
   "outputs": [
    {
     "data": {
      "text/plain": [
       "<matplotlib.legend.Legend at 0x7fafd48b98d0>"
      ]
     },
     "execution_count": 9,
     "metadata": {},
     "output_type": "execute_result"
    },
    {
     "data": {
      "image/png": "[encoded data removed]",
      "text/plain": [
       "<Figure size 432x288 with 1 Axes>"
      ]
     },
     "metadata": {
      "needs_background": "light"
     },
     "output_type": "display_data"
    }
   ],
   "source": [
    "I = plt.imread('earth2.jpg')\n",
    "hist, bins = np.histogram(I.ravel(), np.arange(257))\n",
    "allbins = np.unique(I.ravel())\n",
    "plt.hist(I[...,0].ravel(), allbins, alpha = .6, label = 'red', color = 'r')\n",
    "plt.hist(I[...,1].ravel(), allbins, alpha = .6, label = 'green', color = 'g')\n",
    "plt.hist(I[...,2].ravel(), allbins, alpha = .6, label = 'blue', color = 'b')\n",
    "plt.legend(loc = 'upper right')"
   ]
  },
  {
   "cell_type": "code",
   "execution_count": 13,
   "metadata": {},
   "outputs": [],
   "source": [
    "redFreq = np.histogram(I[...,0],allbins)\n",
    "blueFreq = np.histogram(I[...,1],allbins)\n",
    "greenFreq = np.histogram(I[...,2],allbins)"
   ]
  },
  {
   "cell_type": "code",
   "execution_count": 19,
   "metadata": {},
   "outputs": [
    {
     "data": {
      "text/plain": [
       "102400"
      ]
     },
     "execution_count": 19,
     "metadata": {},
     "output_type": "execute_result"
    }
   ],
   "source": [
    "redFreq[0].sum()"
   ]
  },
  {
   "cell_type": "code",
   "execution_count": null,
   "metadata": {},
   "outputs": [],
   "source": []
  }
 ],
 "metadata": {
  "kernelspec": {
   "display_name": "Python 3",
   "language": "python",
   "name": "python3"
  },
  "language_info": {
   "codemirror_mode": {
    "name": "ipython",
    "version": 3
   },
   "file_extension": ".py",
   "mimetype": "text/x-python",
   "name": "python",
   "nbconvert_exporter": "python",
   "pygments_lexer": "ipython3",
   "version": "3.7.6"
  }
 },
 "nbformat": 4,
 "nbformat_minor": 4
}
