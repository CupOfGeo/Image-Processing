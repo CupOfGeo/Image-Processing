{
 "cells": [
  {
   "cell_type": "markdown",
   "metadata": {},
   "source": [
    "# Basis and reconstruction of 64 pixel image.\n",
    "Joshua Stough\n",
    "DIP\n",
    "\n",
    "Decompose and partially reconstruct according to the Haar\n",
    "basis.\n",
    "\n"
   ]
  },
  {
   "cell_type": "code",
   "execution_count": 1,
   "metadata": {},
   "outputs": [
    {
     "name": "stdout",
     "output_type": "stream",
     "text": [
      "haarReconstructionDemo: Works only on 64 pixel images...\n"
     ]
    },
    {
     "data": {
      "application/vnd.jupyter.widget-view+json": {
       "model_id": "12071026e507459ebed5e51a5eadec7f",
       "version_major": 2,
       "version_minor": 0
      },
      "text/plain": [
       "Canvas(toolbar=Toolbar(toolitems=[('Home', 'Reset original view', 'home', 'home'), ('Back', 'Back to previous …"
      ]
     },
     "metadata": {},
     "output_type": "display_data"
    },
    {
     "data": {
      "application/vnd.jupyter.widget-view+json": {
       "model_id": "e30c1cf8019d4e9ea574fe8b41e45135",
       "version_major": 2,
       "version_minor": 0
      },
      "text/plain": [
       "Canvas(toolbar=Toolbar(toolitems=[('Home', 'Reset original view', 'home', 'home'), ('Back', 'Back to previous …"
      ]
     },
     "metadata": {},
     "output_type": "display_data"
    }
   ],
   "source": [
    "%matplotlib widget\n",
    "import matplotlib.pyplot as plt\n",
    "from waveletUtil import *\n",
    "\n",
    "print('haarReconstructionDemo: Works only on 64 pixel images...')\n",
    "\n",
    "I = plt.imread('surprise.png')\n",
    "# I = plt.imread('strawberry.png')\n",
    "\n",
    "# H is the 8x8 Haar matrix\n",
    "# H = np.eye(8) # For fun comparison.\n",
    "# H = makeRandomBasis(8)\n",
    "# H = makeKLTBasis(I, 8)\n",
    "# H = makeDCTMatrix(8)\n",
    "H = makeHaarMatrix(8)\n",
    "\n",
    "#The transform image, an image of coefficients wrt the Haar basis.\n",
    "CT = np.zeros(I.shape)\n",
    "for chan in range(3):\n",
    "    CT[...,chan] = np.matmul(H, np.matmul(I[...,chan], H.transpose()))\n",
    "\n",
    "\n",
    "#RI will represent the reconstructed image as we add back more\n",
    "#Haar patterns\n",
    "RI = np.zeros(I.shape) #Still should be 8x8\n",
    "\n",
    "\n",
    "#Visual\n",
    "fh, axh = plt.subplots(8,8, figsize=(8,8))\n",
    "fr, axr = plt.subplots(8,8, figsize=(8,8))\n",
    "\n",
    "\n",
    "# We're going to reconstruct according to distance from the\n",
    "# 0,0 (the first Haar basis, average calculator). Notice,\n",
    "# this order is independent of the actual image data.\n",
    "xs = np.meshgrid(np.arange(8), np.arange(8), indexing='ij')\n",
    "coords = np.concatenate([np.expand_dims(c, axis=1) for c in\n",
    "                         [x.ravel() for x in xs]], axis=1)\n",
    "dists = np.sum(coords*coords, axis=1)\n",
    "darg = np.argsort(dists) #sorts in increasing order\n",
    "\n",
    "#If we were to use magnitude of the coefficient...need to ravel in\n",
    "#column-major, like we set up coords.\n",
    "# mags = T.ravel(order='F')\n",
    "# darg = np.argsort(mags)\n",
    "# darg.reverse()\n",
    "#\n",
    "#c = 1 #used to display the order of reconstruction.\n",
    "\n",
    "for ind in darg:\n",
    "    i,j = coords[ind] #coords[darg[x]] if x in range(len(darg))\n",
    "\n",
    "    #Construct that Haar basis and display it\n",
    "    Bij = np.outer(H[i, :], H[j, :])\n",
    "    axh[i][j].imshow(Bij, cmap='gray', vmin=-.5, vmax=.5)\n",
    "    axh[i][j].axes.get_xaxis().set_visible(False)\n",
    "    axh[i][j].axes.get_yaxis().set_visible(False)\n",
    "    # axh[i][j].set_title('c_%d_%d: %6.3f' % (i, j, T[i,j]))\n",
    "    # https://matplotlib.org/api/pyplot_api.html#matplotlib.pyplot.text\n",
    "    axh[i][j].text(0, 6, r'$\\pi:%6.3f$' % CT[i, j, :].sum(), fontsize=6, color='cyan')\n",
    "\n",
    "    # Add the amount of that basis that was in the original image to\n",
    "    # the running total, or reconstruction.\n",
    "    # RI = RI + T[i, j] * Bij #2D\n",
    "    for chan in range(3):\n",
    "        RI[...,chan] += CT[i,j,chan]*Bij\n",
    "\n",
    "    RIcopy = RI.copy().clip(0,1)\n",
    "    axr[i][j].imshow(RIcopy)\n",
    "    axr[i][j].axes.get_xaxis().set_visible(False)\n",
    "    axr[i][j].axes.get_yaxis().set_visible(False)\n",
    "    # axr[i][j].text(0, 6, '%d' % c, fontsize=10, color='cyan')\n",
    "    #The order of reconstruction isn't that informative, but useful for debugging.\n",
    "    #c += 1\n",
    "\n",
    "\n",
    "plt.show()\n",
    "\n",
    "fh.canvas.set_window_title('Haar Basis Images and Coefficients')\n",
    "fh.tight_layout()\n",
    "\n",
    "fr.canvas.set_window_title('Partial Reconstructions from Large Scale to Small')\n",
    "fr.tight_layout()\n"
   ]
  },
  {
   "cell_type": "code",
   "execution_count": 2,
   "metadata": {},
   "outputs": [],
   "source": [
    "from __future__ import print_function\n",
    "from ipywidgets import interact, interactive, fixed, interact_manual\n",
    "import ipywidgets as widgets\n",
    "\n",
    "\n",
    "def f(x):\n",
    "    I = plt.imread('surprise.png')\n",
    "    H = makeHaarMatrix(x)\n",
    "    #The transform image, an image of coefficients wrt the Haar basis.\n",
    "    CT = np.zeros(I.shape)\n",
    "    for chan in range(3):\n",
    "        CT[...,chan] = np.matmul(H, np.matmul(I[...,chan], H.transpose()))\n",
    "\n",
    "\n",
    "#RI will represent the reconstructed image as we add back more\n",
    "#Haar patterns\n",
    "    RI = np.zeros(I.shape) #Still should be 8x8\n",
    "\n",
    "\n",
    "#Visual\n",
    "    fh, axh = plt.subplots(x,x, figsize=(8,8))\n",
    "    fr, axr = plt.subplots(x,x, figsize=(8,8))\n",
    "\n",
    "\n",
    "# We're going to reconstruct according to distance from the\n",
    "# 0,0 (the first Haar basis, average calculator). Notice,\n",
    "# this order is independent of the actual image data.\n",
    "    xs = np.meshgrid(np.arange(8), np.arange(8), indexing='ij')\n",
    "    coords = np.concatenate([np.expand_dims(c, axis=1) for c in [x.ravel() for x in xs]], axis=1)\n",
    "    dists = np.sum(coords*coords, axis=1)\n",
    "    darg = np.argsort(dists) #sorts in increasing order\n",
    "\n",
    "#If we were to use magnitude of the coefficient...need to ravel in\n",
    "#column-major, like we set up coords.\n",
    "# mags = T.ravel(order='F')\n",
    "# darg = np.argsort(mags)\n",
    "# darg.reverse()\n",
    "#\n",
    "#c = 1 #used to display the order of reconstruction.\n",
    "\n",
    "    for ind in darg:\n",
    "        i,j = coords[ind] #coords[darg[x]] if x in range(len(darg))\n",
    "\n",
    "        #Construct that Haar basis and display it\n",
    "        Bij = np.outer(H[i, :], H[j, :])\n",
    "        axh[i][j].imshow(Bij, cmap='gray', vmin=-.5, vmax=.5)\n",
    "        axh[i][j].axes.get_xaxis().set_visible(False)\n",
    "        axh[i][j].axes.get_yaxis().set_visible(False)\n",
    "        # axh[i][j].set_title('c_%d_%d: %6.3f' % (i, j, T[i,j]))\n",
    "        # https://matplotlib.org/api/pyplot_api.html#matplotlib.pyplot.text\n",
    "        axh[i][j].text(0, 6, r'$\\pi:%6.3f$' % CT[i, j, :].sum(), fontsize=6, color='cyan')\n",
    "\n",
    "        # Add the amount of that basis that was in the original image to\n",
    "        # the running total, or reconstruction.\n",
    "        # RI = RI + T[i, j] * Bij #2D\n",
    "        for chan in range(3):\n",
    "            RI[...,chan] += CT[i,j,chan]*Bij\n",
    "\n",
    "        RIcopy = RI.copy().clip(0,1)\n",
    "        axr[i][j].imshow(RIcopy)\n",
    "        axr[i][j].axes.get_xaxis().set_visible(False)\n",
    "        axr[i][j].axes.get_yaxis().set_visible(False)\n",
    "        # axr[i][j].text(0, 6, '%d' % c, fontsize=10, color='cyan')\n",
    "        #The order of reconstruction isn't that informative, but useful for debugging.\n",
    "        #c += 1\n",
    "\n",
    "\n",
    "    plt.show()\n",
    "\n",
    "    fh.canvas.set_window_title('Haar Basis Images and Coefficients')\n",
    "    fh.tight_layout()\n",
    "\n",
    "    fr.canvas.set_window_title('Partial Reconstructions from Large Scale to Small')\n",
    "    fr.tight_layout()\n",
    "    return 1\n"
   ]
  },
  {
   "cell_type": "code",
   "execution_count": 3,
   "metadata": {},
   "outputs": [
    {
     "data": {
      "application/vnd.jupyter.widget-view+json": {
       "model_id": "1b5c982fc3aa4509a5e7229abc1a32da",
       "version_major": 2,
       "version_minor": 0
      },
      "text/plain": [
       "interactive(children=(IntSlider(value=10, description='x', max=30, min=-10), Output()), _dom_classes=('widget-…"
      ]
     },
     "metadata": {},
     "output_type": "display_data"
    }
   ],
   "source": [
    "interact(f, x=10);"
   ]
  },
  {
   "cell_type": "code",
   "execution_count": null,
   "metadata": {},
   "outputs": [],
   "source": []
  }
 ],
 "metadata": {
  "kernelspec": {
   "display_name": "Python 3",
   "language": "python",
   "name": "python3"
  },
  "language_info": {
   "codemirror_mode": {
    "name": "ipython",
    "version": 3
   },
   "file_extension": ".py",
   "mimetype": "text/x-python",
   "name": "python",
   "nbconvert_exporter": "python",
   "pygments_lexer": "ipython3",
   "version": "3.7.6"
  }
 },
 "nbformat": 4,
 "nbformat_minor": 4
}
