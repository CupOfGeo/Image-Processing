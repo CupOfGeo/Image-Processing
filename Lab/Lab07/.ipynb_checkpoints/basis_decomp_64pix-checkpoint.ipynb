{
 "cells": [
  {
   "cell_type": "markdown",
   "metadata": {},
   "source": [
    "# Basis and reconstruction of 64 pixel image.\n",
    "Joshua Stough\n",
    "DIP\n",
    "\n",
    "Decompose and partially reconstruct according to the Haar\n",
    "basis.\n",
    "\n"
   ]
  },
  {
   "cell_type": "code",
   "execution_count": 1,
   "metadata": {},
   "outputs": [],
   "source": [
    "%matplotlib widget\n",
    "import matplotlib.pyplot as plt\n",
    "from waveletUtil import *\n"
   ]
  },
  {
   "cell_type": "code",
   "execution_count": 2,
   "metadata": {},
   "outputs": [
    {
     "name": "stdout",
     "output_type": "stream",
     "text": [
      "haarReconstructionDemo: Works only on 64 pixel images...\n"
     ]
    },
    {
     "data": {
      "application/vnd.jupyter.widget-view+json": {
       "model_id": "d3d94b38ea6f4379baece05cb3f2a829",
       "version_major": 2,
       "version_minor": 0
      },
      "text/plain": [
       "Canvas(toolbar=Toolbar(toolitems=[('Home', 'Reset original view', 'home', 'home'), ('Back', 'Back to previous …"
      ]
     },
     "metadata": {},
     "output_type": "display_data"
    },
    {
     "data": {
      "application/vnd.jupyter.widget-view+json": {
       "model_id": "066d03ce7bad4c2f8db92b64574de821",
       "version_major": 2,
       "version_minor": 0
      },
      "text/plain": [
       "Canvas(toolbar=Toolbar(toolitems=[('Home', 'Reset original view', 'home', 'home'), ('Back', 'Back to previous …"
      ]
     },
     "metadata": {},
     "output_type": "display_data"
    }
   ],
   "source": [
    "\n",
    "print('haarReconstructionDemo: Works only on 64 pixel images...')\n",
    "\n",
    "I = plt.imread('surprise.png')\n",
    "# I = plt.imread('strawberry.png')\n",
    "\n",
    "# H is the 8x8 Haar matrix\n",
    "# H = np.eye(8) # For fun comparison.\n",
    "# H = makeRandomBasis(8)\n",
    "# H = makeKLTBasis(I, 8)\n",
    "# H = makeDCTMatrix(8)\n",
    "H = makeHaarMatrix(8)\n",
    "\n",
    "#The transform image, an image of coefficients wrt the Haar basis.\n",
    "CT = np.zeros(I.shape)\n",
    "for chan in range(3):\n",
    "    CT[...,chan] = np.matmul(H, np.matmul(I[...,chan], H.transpose()))\n",
    "\n",
    "\n",
    "#RI will represent the reconstructed image as we add back more\n",
    "#Haar patterns\n",
    "RI = np.zeros(I.shape) #Still should be 8x8\n",
    "\n",
    "\n",
    "#Visual\n",
    "fh, axh = plt.subplots(8,8, figsize=(8,8))\n",
    "fr, axr = plt.subplots(8,8, figsize=(8,8))\n",
    "\n",
    "\n",
    "# We're going to reconstruct according to distance from the\n",
    "# 0,0 (the first Haar basis, average calculator). Notice,\n",
    "# this order is independent of the actual image data.\n",
    "xs = np.meshgrid(np.arange(8), np.arange(8), indexing='ij')\n",
    "coords = np.concatenate([np.expand_dims(c, axis=1) for c in\n",
    "                         [x.ravel() for x in xs]], axis=1)\n",
    "dists = np.sum(coords*coords, axis=1)\n",
    "darg = np.argsort(dists) #sorts in increasing order\n",
    "\n",
    "#If we were to use magnitude of the coefficient...need to ravel in\n",
    "#column-major, like we set up coords.\n",
    "# mags = T.ravel(order='F')\n",
    "# darg = np.argsort(mags)\n",
    "# darg.reverse()\n",
    "#\n",
    "#c = 1 #used to display the order of reconstruction.\n",
    "\n",
    "for ind in darg:\n",
    "    i,j = coords[ind] #coords[darg[x]] if x in range(len(darg))\n",
    "\n",
    "    #Construct that Haar basis and display it\n",
    "    Bij = np.outer(H[i, :], H[j, :])\n",
    "    axh[i][j].imshow(Bij, cmap='gray', vmin=-.5, vmax=.5)\n",
    "    axh[i][j].axes.get_xaxis().set_visible(False)\n",
    "    axh[i][j].axes.get_yaxis().set_visible(False)\n",
    "    # axh[i][j].set_title('c_%d_%d: %6.3f' % (i, j, T[i,j]))\n",
    "    # https://matplotlib.org/api/pyplot_api.html#matplotlib.pyplot.text\n",
    "    axh[i][j].text(0, 6, r'$\\pi:%6.3f$' % CT[i, j, :].sum(), fontsize=6, color='cyan')\n",
    "\n",
    "    # Add the amount of that basis that was in the original image to\n",
    "    # the running total, or reconstruction.\n",
    "    # RI = RI + T[i, j] * Bij #2D\n",
    "    for chan in range(3):\n",
    "        RI[...,chan] += CT[i,j,chan]*Bij\n",
    "\n",
    "    RIcopy = RI.copy().clip(0,1)\n",
    "    axr[i][j].imshow(RIcopy)\n",
    "    axr[i][j].axes.get_xaxis().set_visible(False)\n",
    "    axr[i][j].axes.get_yaxis().set_visible(False)\n",
    "    # axr[i][j].text(0, 6, '%d' % c, fontsize=10, color='cyan')\n",
    "    #The order of reconstruction isn't that informative, but useful for debugging.\n",
    "    #c += 1\n",
    "\n",
    "\n",
    "plt.show()\n",
    "\n",
    "fh.canvas.set_window_title('Haar Basis Images and Coefficients')\n",
    "fh.tight_layout()\n",
    "\n",
    "fr.canvas.set_window_title('Partial Reconstructions from Large Scale to Small')\n",
    "fr.tight_layout()\n"
   ]
  },
  {
   "cell_type": "code",
   "execution_count": null,
   "metadata": {},
   "outputs": [],
   "source": []
  },
  {
   "cell_type": "code",
   "execution_count": 67,
   "metadata": {},
   "outputs": [
    {
     "name": "stdout",
     "output_type": "stream",
     "text": [
      ".."
     ]
    }
   ],
   "source": [
    "from __future__ import print_function\n",
    "from ipywidgets import interact, interactive, fixed, interact_manual\n",
    "import ipywidgets as widgets\n",
    "from skimage.transform import rescale, resize\n",
    "\n",
    "def f(x,pos):\n",
    "    Big_mem = {}\n",
    "    x = 2**x\n",
    "    pos = pos * (x*x) - 1\n",
    "    pos = int(pos)\n",
    "    image = plt.imread('eye.png')\n",
    "    I = resize(image, (x, x),anti_aliasing=True)    \n",
    "    \n",
    "    \n",
    "    H = makeHaarMatrix(x)\n",
    "    #The transform image, an image of coefficients wrt the Haar basis.\n",
    "    CT = np.zeros(I.shape)\n",
    "    for chan in range(3):\n",
    "        CT[...,chan] = np.matmul(H, np.matmul(I[...,chan], H.transpose()))\n",
    "        #print(CT)\n",
    "\n",
    "#RI will represent the reconstructed image as we add back more\n",
    "#Haar patterns\n",
    "    RI = np.zeros(I.shape) #Still should be 8x8\n",
    "\n",
    "# We're going to reconstruct according to distance from the\n",
    "# 0,0 (the first Haar basis, average calculator). Notice,\n",
    "# this order is independent of the actual image data.\n",
    "    xs = np.meshgrid(np.arange(x), np.arange(x), indexing='ij')\n",
    "    coords = np.concatenate([np.expand_dims(c, axis=1) for c in [x.ravel() for x in xs]], axis=1)\n",
    "    dists = np.sum(coords*coords, axis=1)\n",
    "    darg = np.argsort(dists) #sorts in increasing order\n",
    "\n",
    "#If we were to use magnitude of the coefficient...need to ravel in\n",
    "#column-major, like we set up coords.\n",
    "    T = np.matmul(H, np.matmul(I[...,0], H.transpose()))\n",
    "    mags = T.ravel(order='F')\n",
    "    \n",
    "# darg = np.argsort(mags)\n",
    "# darg.reverse()\n",
    "#\n",
    "    c = 0 #used to display the order of reconstruction.\n",
    "    #print(darg)\n",
    "    #print(mags)\n",
    "    intensityDic= {}\n",
    "    for i in range(len(darg)):\n",
    "        intensityDic[darg[i]] = mags[i] \n",
    "        \n",
    "    order = list({k: v for k, v in sorted(intensityDic.items(), key=lambda item: item[1])}.keys())\n",
    "    print(type(order))\n",
    "    print(type(darg))\n",
    "    for ind in darg:\n",
    "\n",
    "        i,j = coords[ind] #coords[darg[x]] if x in range(len(darg))\n",
    "\n",
    "        #Construct that Haar basis and display it\n",
    "        Bij = np.outer(H[i, :], H[j, :])\n",
    "        \n",
    "        # Add the amount of that basis that was in the original image to\n",
    "        # the running total, or reconstruction.\n",
    "        # RI = RI + T[i, j] * Bij #2D\n",
    "        for chan in range(3):\n",
    "            RI[...,chan] += CT[i,j,chan]*Bij\n",
    "\n",
    "        RIcopy = RI.copy().clip(0,1)\n",
    "        #axr[i][j].imshow(RIcopy)\n",
    "        #axr[i][j].axes.get_xaxis().set_visible(False)\n",
    "        #axr[i][j].axes.get_yaxis().set_visible(False)\n",
    "        #axr[i][j].text(0, 6, '%d' % c, fontsize=10, color='cyan')\n",
    "        #The order of reconstruction isn't that informative, but useful for debugging.\n",
    "        Big_mem[ind] = RIcopy.copy()\n",
    "        c += 1\n",
    "        #print(ind, c)\n",
    "        if (c == pos):\n",
    "            #save Ps?\n",
    "            P = RIcopy.copy()\n",
    "    \n",
    "    return Big_mem\n",
    "\n",
    "   # plt.figure()\n",
    "   # plt.show()\n",
    "\n",
    "    #fh.canvas.set_window_title('Haar Basis Images and Coefficients')\n",
    "    #fh.tight_layout()\n",
    "\n",
    "    #fr.canvas.set_window_title('Partial Reconstructions from Large Scale to Small')\n",
    "    #fr.tight_layout()\n",
    "    #plt.close()\n",
    "    #fig1 = plt.figure()\n",
    "    #plt.imshow(P)\n",
    "\n"
   ]
  },
  {
   "cell_type": "markdown",
   "metadata": {},
   "source": [
    "#interact(f, x=(2,8), pos=(0.0,1.0,0.01));"
   ]
  },
  {
   "cell_type": "code",
   "execution_count": null,
   "metadata": {},
   "outputs": [],
   "source": []
  },
  {
   "cell_type": "code",
   "execution_count": null,
   "metadata": {},
   "outputs": [],
   "source": []
  },
  {
   "cell_type": "code",
   "execution_count": null,
   "metadata": {},
   "outputs": [],
   "source": []
  },
  {
   "cell_type": "code",
   "execution_count": 16,
   "metadata": {},
   "outputs": [],
   "source": [
    "import numpy as np\n",
    "import matplotlib.pyplot as plt\n",
    "import matplotlib.animation as animation\n",
    "\n",
    "\n",
    "def update_line(num, data, line):\n",
    "    line.set_data(data[..., :num])\n",
    "    return line,"
   ]
  },
  {
   "cell_type": "code",
   "execution_count": 17,
   "metadata": {},
   "outputs": [
    {
     "data": {
      "application/vnd.jupyter.widget-view+json": {
       "model_id": "a689c0cac1b144b3a74492f54d9a0ce3",
       "version_major": 2,
       "version_minor": 0
      },
      "text/plain": [
       "Canvas(toolbar=Toolbar(toolitems=[('Home', 'Reset original view', 'home', 'home'), ('Back', 'Back to previous …"
      ]
     },
     "metadata": {},
     "output_type": "display_data"
    }
   ],
   "source": [
    "fig1 = plt.figure()\n",
    "\n",
    "# Fixing random state for reproducibility\n",
    "np.random.seed(19680801)\n",
    "\n",
    "data = np.random.rand(2, 25)\n",
    "l, = plt.plot([], [], 'r-')\n",
    "plt.xlim(0, 1)\n",
    "plt.ylim(0, 1)\n",
    "plt.xlabel('x')\n",
    "plt.title('test')\n",
    "line_ani = animation.FuncAnimation(fig1, update_line, 25, fargs=(data, l),\n",
    "                                   interval=50, blit=True)\n",
    "\n",
    "# To save the animation, use the command: line_ani.save('lines.mp4')"
   ]
  },
  {
   "cell_type": "code",
   "execution_count": 18,
   "metadata": {},
   "outputs": [
    {
     "ename": "IndentationError",
     "evalue": "unexpected indent (<ipython-input-18-b5c682239d0e>, line 11)",
     "output_type": "error",
     "traceback": [
      "\u001b[0;36m  File \u001b[0;32m\"<ipython-input-18-b5c682239d0e>\"\u001b[0;36m, line \u001b[0;32m11\u001b[0m\n\u001b[0;31m    blit=True)\u001b[0m\n\u001b[0m    ^\u001b[0m\n\u001b[0;31mIndentationError\u001b[0m\u001b[0;31m:\u001b[0m unexpected indent\n"
     ]
    }
   ],
   "source": [
    "fig2 = plt.figure()\n",
    "\n",
    "x = np.arange(-9, 10)\n",
    "y = np.arange(-9, 10).reshape(-1, 1)\n",
    "base = np.hypot(x, y)\n",
    "ims = []\n",
    "for add in np.arange(15):\n",
    "    ims.append((plt.pcolor(x, y, base + add, norm=plt.Normalize(0, 30)),))\n",
    "\n",
    "#im_ani = animation.ArtistAnimation(fig2, ims, interval=50, repeat_delay=3000,\n",
    "                                   blit=True)\n",
    "# To save this second animation with some metadata, use the following command:\n",
    "# im_ani.save('im.mp4', metadata={'artist':'Guido'})\n",
    "\n",
    "plt.show()"
   ]
  },
  {
   "cell_type": "code",
   "execution_count": 68,
   "metadata": {},
   "outputs": [
    {
     "name": "stdout",
     "output_type": "stream",
     "text": [
      "[114, 6, 97, 65, 32, 113, 217, 102, 164, 3, 176, 37, 53, 132, 210, 241, 88, 128, 115, 49, 123, 16, 92, 87, 54, 64, 124, 62, 15, 19, 57, 2, 242, 135, 148, 103, 78, 94, 81, 55, 161, 29, 66, 108, 244, 188, 109, 27, 140, 185, 151, 228, 119, 79, 152, 52, 63, 169, 225, 1, 71, 36, 157, 226, 186, 111, 239, 98, 205, 41, 38, 237, 154, 230, 95, 131, 40, 221, 10, 86, 235, 233, 174, 106, 121, 9, 43, 75, 107, 105, 145, 172, 194, 69, 195, 141, 134, 234, 208, 76, 30, 153, 192, 45, 125, 253, 247, 60, 142, 216, 191, 133, 13, 252, 212, 207, 196, 211, 122, 144, 202, 127, 175, 255, 90, 181, 182, 130, 223, 240, 236, 23, 238, 214, 251, 149, 83, 4, 143, 146, 159, 77, 246, 220, 80, 168, 138, 91, 44, 34, 28, 42, 180, 11, 155, 156, 187, 249, 167, 14, 215, 12, 8, 199, 137, 222, 162, 254, 147, 68, 219, 59, 116, 84, 89, 206, 117, 204, 166, 173, 85, 160, 250, 201, 67, 209, 25, 171, 218, 183, 50, 61, 178, 33, 213, 227, 193, 5, 203, 158, 93, 248, 190, 112, 139, 170, 47, 118, 198, 200, 189, 184, 26, 46, 229, 104, 24, 163, 197, 21, 72, 110, 136, 179, 245, 165, 177, 99, 48, 51, 129, 224, 82, 231, 232, 73, 74, 243, 56, 150, 22, 35, 126, 120, 96, 39, 100, 31, 7, 101, 20, 18, 58, 70, 17, 0]\n",
      "[  0   1  16  17  32   2  18  33  34   3  48  19  49  35  50   4  64  65\n",
      "  20  51  66  36  52  67  80   5  21  81  37  82  68  83  53  96   6  97\n",
      "  22  98  38  84  69  99  54 112   7 113  85  23  70 100 114  39 115  55\n",
      " 101  86   8 128 116  71  24 129  40 130 102 131  56  87 117  72 132   9\n",
      " 144  25 145 118 103  41 146 133  88  57 147 148  73 119 104 160 134  10\n",
      "  26 161 162  42  89 149  58 163 135 120 164  74 150 105  11 176 177  27\n",
      " 178 165  43  90 136 151  59 179 121 166 106 180  75 192  12  28 152 193\n",
      " 137 181  91  44 194 167 122 195  60 107 182 196  76 153 168 138 208  13\n",
      "  92 197 183 123 209  29 210  45 211  61 108 198 154 169  77 212 184 139\n",
      " 124 199 213  93 224  14  30 225 226 170  46 185 155 214  62 109 227 140\n",
      " 200 228  78 215 125 229 171 186  94 201 156 240  15 241  31  47 242 110\n",
      " 230 141 216  63 243 244  79 187 172 202 126 231 217 245  95 157 232 142\n",
      " 246 111 188 203 218 173 247 127 158 233 204 248 143 219 189 174 234 159\n",
      " 249 220 205 190 235 175 250 221 236 206 191 251 237 222 252 207 238 223\n",
      " 253 239 254 255]\n"
     ]
    },
    {
     "data": {
      "application/vnd.jupyter.widget-view+json": {
       "model_id": "f018b7b9780046e19cc817a089558cb2",
       "version_major": 2,
       "version_minor": 0
      },
      "text/plain": [
       "Canvas(toolbar=Toolbar(toolitems=[('Home', 'Reset original view', 'home', 'home'), ('Back', 'Back to previous …"
      ]
     },
     "metadata": {},
     "output_type": "display_data"
    },
    {
     "name": "stdout",
     "output_type": "stream",
     "text": [
      "Done!\n"
     ]
    }
   ],
   "source": [
    "\n",
    "fps = 30\n",
    "nSeconds = 5\n",
    "snapshots = f(4,2)# generates a bunch of 5x5 arrays\n",
    "# First set up the figure, the axis, and the plot element we want to animate\n",
    "\n",
    "fig = plt.figure( figsize=(8,8) )\n",
    "\n",
    "a = snapshots[0] # inital pic \n",
    "im = plt.imshow(a, interpolation='none', aspect='auto', vmin=0, vmax=1) #show inital \n",
    "\n",
    "def animate_func(i):\n",
    "    if i % len(snapshots) == 0: #keeps incrementing i for loop back\n",
    "        print( '.', end ='' )\n",
    "\n",
    "    im.set_array(snapshots[i]) # resets plt.imshow()\n",
    "    return [im] #returns it as array?\n",
    "\n",
    "anim = animation.FuncAnimation(\n",
    "                               fig, \n",
    "                               animate_func, \n",
    "                             \n",
    "                               interval = 1000 / 30, # in ms \n",
    "                               )\n",
    "\n",
    "#anim.save('test_anim.mp4', fps=fps, extra_args=['-vcodec', 'libx264'])\n",
    "\n",
    "print('Done!')"
   ]
  },
  {
   "cell_type": "code",
   "execution_count": 55,
   "metadata": {},
   "outputs": [
    {
     "name": "stdout",
     "output_type": "stream",
     "text": [
      "."
     ]
    }
   ],
   "source": [
    "x = {1: 2, 3: 4, 4: 3, 2: 1, 0: 0}\n"
   ]
  },
  {
   "cell_type": "code",
   "execution_count": null,
   "metadata": {},
   "outputs": [],
   "source": []
  }
 ],
 "metadata": {
  "kernelspec": {
   "display_name": "Python 3",
   "language": "python",
   "name": "python3"
  },
  "language_info": {
   "codemirror_mode": {
    "name": "ipython",
    "version": 3
   },
   "file_extension": ".py",
   "mimetype": "text/x-python",
   "name": "python",
   "nbconvert_exporter": "python",
   "pygments_lexer": "ipython3",
   "version": "3.7.6"
  }
 },
 "nbformat": 4,
 "nbformat_minor": 4
}
