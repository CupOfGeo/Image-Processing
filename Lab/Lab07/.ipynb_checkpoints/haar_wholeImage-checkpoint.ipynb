{
 "cells": [
  {
   "cell_type": "markdown",
   "metadata": {},
   "source": [
    "# Decomposing image information\n",
    "Stough, DIP\n",
    "\n",
    "It can be valuable in compression to rethink of an image in terms of important and less important information. At the very core in this example, we recode each pair of pixels as a mean, difference. Then if the difference is quite small, it can potentially be ignored."
   ]
  },
  {
   "cell_type": "code",
   "execution_count": null,
   "metadata": {},
   "outputs": [],
   "source": [
    "%matplotlib widget\n",
    "import numpy as np\n",
    "import matplotlib.pyplot as plt\n",
    "\n",
    "#Probably shouldn't have to repeat this in every script.\n",
    "#https://matplotlib.org/users/dflt_style_changes.html\n",
    "import matplotlib as mpl\n",
    "mpl.rcParams['image.cmap'] = 'gray'"
   ]
  },
  {
   "cell_type": "markdown",
   "metadata": {},
   "source": [
    "## A very simple basis for any pair of pixels."
   ]
  },
  {
   "cell_type": "code",
   "execution_count": null,
   "metadata": {},
   "outputs": [],
   "source": [
    "phi = np.array([1, 1])/np.sqrt(2)\n",
    "psi = np.array([1, -1])/np.sqrt(2)"
   ]
  },
  {
   "cell_type": "code",
   "execution_count": null,
   "metadata": {},
   "outputs": [],
   "source": [
    "#Decompose each row into a half-row of phi's and a half-row of psi's\n",
    "#Assuming a multiple of 2 on the number of columns.\n",
    "def haarDecompOnce(I):\n",
    "    X = np.reshape(I.ravel(order='C'), (2, I.size//2), order='F')\n",
    "    phis = np.inner(phi, X.transpose())\n",
    "    psis = np.inner(psi, X.transpose())\n",
    "    return np.concatenate([np.reshape(phis, (I.shape[0], I.shape[1]//2)),\n",
    "                           np.reshape(psis, (I.shape[0], I.shape[1] // 2))],\n",
    "                          axis=1)\n",
    "\n",
    "def haarDecomp(I):\n",
    "    if not np.all([np.log2(d).is_integer() for d in I.shape[:2]]):\n",
    "        raise ValueError('haarDecomp: requires image with dimensions powers of 2.')\n",
    "\n",
    "    howmany = min([int(np.log2(d)) for d in I.shape[:2]])\n",
    "\n",
    "    J = I.copy()\n",
    "    for h in range(howmany):\n",
    "        J = haarDecompOnce(J)\n",
    "        J = haarDecompOnce(J.transpose())\n",
    "    return J\n",
    "\n",
    "#Left for later...\n",
    "def haarRecompOnce(J):\n",
    "    pass\n",
    "\n",
    "def haarRecomp(J):\n",
    "    pass"
   ]
  },
  {
   "cell_type": "code",
   "execution_count": null,
   "metadata": {},
   "outputs": [],
   "source": [
    "#Just going to do single channel here.\n",
    "I = plt.imread('cat_small.png').astype('float')\n",
    "GI = 0.2989 * I[..., 0] + 0.5870 * I[..., 1] + 0.1140 * I[..., 2]\n",
    "GI = GI/GI.max()\n",
    "\n",
    "#Code to pad to the nearest power of two\n",
    "dimsRounded = [int(np.power(2, np.ceil(np.log2(d)))) for d in GI.shape[:2]]\n",
    "\n",
    "#Padded to the power of 2.\n",
    "GIP = np.pad(GI, pad_width=((0, dimsRounded[0]-GI.shape[0]),\n",
    "                            (0, dimsRounded[1]-GI.shape[1])),\n",
    "             mode='constant', constant_values=0)\n",
    "\n",
    "\n",
    "\n",
    "First = haarDecompOnce(GIP)\n",
    "Second = haarDecompOnce(First.transpose()).transpose()\n",
    "\n",
    "f, ax = plt.subplots(1,3, figsize=(10,3))\n",
    "\n",
    "ax[0].imshow(GIP)\n",
    "ax[0].set_title('Original')\n",
    "\n",
    "ax[1].imshow(First)\n",
    "ax[1].set_title('Step 1: Row Transform')\n",
    "\n",
    "ax[2].imshow(Second)\n",
    "ax[2].set_title('Step 2: Column Transform')\n",
    "\n",
    "plt.show()\n",
    "plt.tight_layout()"
   ]
  },
  {
   "cell_type": "code",
   "execution_count": null,
   "metadata": {},
   "outputs": [],
   "source": []
  }
 ],
 "metadata": {
  "kernelspec": {
   "display_name": "Python 3",
   "language": "python",
   "name": "python3"
  },
  "language_info": {
   "codemirror_mode": {
    "name": "ipython",
    "version": 3
   },
   "file_extension": ".py",
   "mimetype": "text/x-python",
   "name": "python",
   "nbconvert_exporter": "python",
   "pygments_lexer": "ipython3",
   "version": "3.7.6"
  }
 },
 "nbformat": 4,
 "nbformat_minor": 4
}
