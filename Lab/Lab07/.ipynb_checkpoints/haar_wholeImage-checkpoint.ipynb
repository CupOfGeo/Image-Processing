{
 "cells": [
  {
   "cell_type": "markdown",
   "metadata": {},
   "source": [
    "# Decomposing image information\n",
    "Stough, DIP\n",
    "\n",
    "It can be valuable in compression to rethink of an image in terms of important and less important information. At the very core in this example, we recode each pair of pixels as a mean, difference. Then if the difference is quite small, it can potentially be ignored."
   ]
  },
  {
   "cell_type": "code",
   "execution_count": 1,
   "metadata": {},
   "outputs": [],
   "source": [
    "%matplotlib widget\n",
    "import numpy as np\n",
    "import matplotlib.pyplot as plt\n",
    "\n",
    "#Probably shouldn't have to repeat this in every script.\n",
    "#https://matplotlib.org/users/dflt_style_changes.html\n",
    "import matplotlib as mpl\n",
    "mpl.rcParams['image.cmap'] = 'gray'"
   ]
  },
  {
   "cell_type": "markdown",
   "metadata": {},
   "source": [
    "## A very simple basis for any pair of pixels."
   ]
  },
  {
   "cell_type": "code",
   "execution_count": 2,
   "metadata": {},
   "outputs": [],
   "source": [
    "phi = np.array([1, 1])/np.sqrt(2)\n",
    "psi = np.array([1, -1])/np.sqrt(2)"
   ]
  },
  {
   "cell_type": "code",
   "execution_count": 28,
   "metadata": {},
   "outputs": [],
   "source": [
    "#Decompose each row into a half-row of phi's and a half-row of psi's\n",
    "#Assuming a multiple of 2 on the number of columns.\n",
    "def haarDecompOnce(I):\n",
    "    Ic = np.zeros(I.shape)\n",
    "    for c in range(3):\n",
    "        X = np.reshape(I[...,c].ravel(order='C'), (2, I[...,c].size//2), order='F')\n",
    "        phis = np.inner(phi, X.transpose())\n",
    "        psis = np.inner(psi, X.transpose())\n",
    "        Ic[...,c] = np.concatenate([np.reshape(phis, (I.shape[0], I.shape[1]//2)),\n",
    "                           np.reshape(psis, (I.shape[0], I.shape[1] // 2))],\n",
    "                          axis=1)\n",
    "    return Ic\n",
    "\n",
    "def haarDecomp(I):\n",
    "    if not np.all([np.log2(d).is_integer() for d in I.shape[:2]]):\n",
    "        raise ValueError('haarDecomp: requires image with dimensions powers of 2.')\n",
    "\n",
    "    howmany = min([int(np.log2(d)) for d in I.shape[:2]])\n",
    "\n",
    "    J = I.copy()\n",
    "    for h in range(howmany):\n",
    "        J = haarDecompOnce(J)\n",
    "        J = haarDecompOnce(J.transpose())\n",
    "    return J\n",
    "\n",
    "#Left for later...\n",
    "def haarRecompOnce(J):\n",
    "    Jcd = np.zeros(J.shape)\n",
    "    for c in range(3):\n",
    "        Xleft = J[:,:J.shape[1]//2,c] #mean\n",
    "        Xright = J[:,J.shape[1]//2:,c] #difference\n",
    "      \n",
    "        \n",
    "        Xnew = np.stack((Xleft.ravel(),Xright.ravel()))\n",
    "        \n",
    "        phis = np.inner(phi, Xnew.transpose()) #x\n",
    "        \n",
    "        psis = np.inner(psi, Xnew.transpose()) #y\n",
    "            \n",
    "            \n",
    "        j = 0\n",
    "        for i in range(len(phis)):\n",
    "            Jcd[j//512,j%512,c] = phis[i]\n",
    "            j = j + 1\n",
    "            Jcd[j//512,j%512,c] = psis[i]\n",
    "            j = j + 1\n",
    "    return Jcd\n",
    "\n",
    "def haarRecomp(I):\n",
    "    if not np.all([np.log2(d).is_integer() for d in I.shape[:2]]):\n",
    "        raise ValueError('haarDecomp: requires image with dimensions powers of 2.')\n",
    "\n",
    "    howmany = min([int(np.log2(d)) for d in I.shape[:2]])\n",
    "\n",
    "    J = I.copy()\n",
    "    for h in range(howmany):\n",
    "        J = haarRecompOnce(J)\n",
    "        J = haarRecompOnce(J.transpose())\n",
    "    return J\n",
    "    "
   ]
  },
  {
   "cell_type": "code",
   "execution_count": null,
   "metadata": {},
   "outputs": [],
   "source": []
  },
  {
   "cell_type": "code",
   "execution_count": 29,
   "metadata": {},
   "outputs": [
    {
     "data": {
      "application/vnd.jupyter.widget-view+json": {
       "model_id": "9f9e4a2797cb4777a5223995214797b8",
       "version_major": 2,
       "version_minor": 0
      },
      "text/plain": [
       "Canvas(toolbar=Toolbar(toolitems=[('Home', 'Reset original view', 'home', 'home'), ('Back', 'Back to previous …"
      ]
     },
     "metadata": {},
     "output_type": "display_data"
    },
    {
     "name": "stdout",
     "output_type": "stream",
     "text": [
      "(131072,)\n",
      "(512, 512, 3)\n"
     ]
    }
   ],
   "source": [
    "#Just going to do single channel here.\n",
    "I = plt.imread('cat_small.png').astype('float')[...,:3]\n",
    "#GI = 0.2989 * I[..., 0] + 0.5870 * I[..., 1] + 0.1140 * I[..., 2]\n",
    "I = I/I.max()\n",
    "\n",
    "#k = 2^p + q -1\n",
    "#Code to pad to the nearest power of two\n",
    "dimsRounded = [int(np.power(2, np.ceil(np.log2(d)))) for d in I.shape[:2]] ## p\n",
    "\n",
    "#Padded to the power of 2.\n",
    "CI = np.zeros(I.shape)\n",
    "for c in range(3):\n",
    "    CI[...,c] = np.pad(I[...,c],\n",
    "                       pad_width=((0, dimsRounded[0]-I[...,c].shape[0]),\n",
    "                                  (0, dimsRounded[1]-I[...,c].shape[1])),\n",
    "                       mode='constant', constant_values=0)\n",
    "\n",
    "\n",
    "\n",
    "\n",
    "First = haarDecompOnce(CI)\n",
    "#for c in range(3):\n",
    "##    First[...,c] = First[...,c]-First[...,c].min()\n",
    "#    First[...,c] = First[...,c]/First[...,c].max()\n",
    "\n",
    "Second = haarDecompOnce(First.transpose()).transpose()\n",
    "\n",
    "f, ax = plt.subplots(1,3, figsize=(10,3))\n",
    "\n",
    "ax[0].imshow(CI)\n",
    "ax[0].set_title('Original')\n",
    "\n",
    "ax[1].imshow(np.clip(First,0,1))\n",
    "ax[1].set_title('Step 1: Row Transform')\n",
    "\n",
    "ax[2].imshow(haarRecompOnce(First))\n",
    "ax[2].set_title('Step 2: Column Transform')\n",
    "\n",
    "plt.show()\n",
    "plt.tight_layout()"
   ]
  },
  {
   "cell_type": "code",
   "execution_count": 30,
   "metadata": {},
   "outputs": [],
   "source": [
    "from __future__ import print_function\n",
    "from ipywidgets import interact, interactive, fixed, interact_manual\n",
    "import ipywidgets as widgets\n",
    "\n",
    "\n",
    "def f(x):\n",
    "    I = plt.imread('cat_small.png').astype('float')\n",
    "    GI = 0.2989 * I[..., 0] + 0.5870 * I[..., 1] + 0.1140 * I[..., 2]\n",
    "    GI = GI/GI.max()\n",
    "\n",
    "    #k = 2^p + q -1\n",
    "    #Code to pad to the nearest power of two\n",
    "    dimsRounded = [int(np.power(2, np.ceil(np.log2(d)))) for d in GI.shape[:2]] ## p\n",
    "\n",
    "    #Padded to the power of 2.\n",
    "    GIP = np.pad(GI, pad_width=((0, dimsRounded[0]-GI.shape[0]),\n",
    "                            (0, dimsRounded[1]-GI.shape[1])),\n",
    "             mode='constant', constant_values=0)\n",
    "    #q-1\n",
    "\n",
    "    First = haarDecompOnce(GIP)\n",
    "    Second = haarDecompOnce(First.transpose()).transpose()\n",
    "    \n",
    "    \n",
    "    return x\n"
   ]
  },
  {
   "cell_type": "code",
   "execution_count": null,
   "metadata": {},
   "outputs": [],
   "source": [
    "interact(f, x=10);"
   ]
  },
  {
   "cell_type": "code",
   "execution_count": null,
   "metadata": {},
   "outputs": [],
   "source": []
  },
  {
   "cell_type": "code",
   "execution_count": null,
   "metadata": {},
   "outputs": [],
   "source": []
  }
 ],
 "metadata": {
  "kernelspec": {
   "display_name": "Python 3",
   "language": "python",
   "name": "python3"
  },
  "language_info": {
   "codemirror_mode": {
    "name": "ipython",
    "version": 3
   },
   "file_extension": ".py",
   "mimetype": "text/x-python",
   "name": "python",
   "nbconvert_exporter": "python",
   "pygments_lexer": "ipython3",
   "version": "3.7.6"
  }
 },
 "nbformat": 4,
 "nbformat_minor": 4
}
