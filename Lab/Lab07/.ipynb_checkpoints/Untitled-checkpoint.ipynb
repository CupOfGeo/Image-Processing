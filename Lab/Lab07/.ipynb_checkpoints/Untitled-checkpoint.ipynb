{
 "cells": [
  {
   "cell_type": "code",
   "execution_count": 1,
   "metadata": {},
   "outputs": [
    {
     "data": {
      "application/vnd.jupyter.widget-view+json": {
       "model_id": "70f268013d0f4658a29963a8d3bf3a77",
       "version_major": 2,
       "version_minor": 0
      },
      "text/plain": [
       "Canvas(toolbar=Toolbar(toolitems=[('Home', 'Reset original view', 'home', 'home'), ('Back', 'Back to previous …"
      ]
     },
     "metadata": {},
     "output_type": "display_data"
    },
    {
     "data": {
      "application/vnd.jupyter.widget-view+json": {
       "model_id": "3531fb2ffc9049bfa47c115a55f29b36",
       "version_major": 2,
       "version_minor": 0
      },
      "text/plain": [
       "Canvas(toolbar=Toolbar(toolitems=[('Home', 'Reset original view', 'home', 'home'), ('Back', 'Back to previous …"
      ]
     },
     "metadata": {},
     "output_type": "display_data"
    },
    {
     "data": {
      "application/vnd.jupyter.widget-view+json": {
       "model_id": "e1eac134e16246e2aa0c97452893d27d",
       "version_major": 2,
       "version_minor": 0
      },
      "text/plain": [
       "Canvas(toolbar=Toolbar(toolitems=[('Home', 'Reset original view', 'home', 'home'), ('Back', 'Back to previous …"
      ]
     },
     "metadata": {},
     "output_type": "display_data"
    }
   ],
   "source": [
    "%matplotlib widget\n",
    "\"\"\"\n",
    "Joshua Stough\n",
    "DIP\n",
    "\n",
    "Trying to display the Euclidean and the Haar basis transforms in simple 4x4.\n",
    "Then, show a 4x4 image, its basis transform, and its reconstruction.\n",
    "\"\"\"\n",
    "\n",
    "import matplotlib.pyplot as plt\n",
    "import numpy as np\n",
    "import skimage\n",
    "import scipy.ndimage as ndimage\n",
    "\n",
    "\n",
    "\n",
    "#The 4x4 Euclidean basis. Each row represents an\n",
    "#orthogonal (independent) direction in 4D space.\n",
    "E = np.eye(4,4)\n",
    "\n",
    "#For display\n",
    "fe, axe = plt.subplots(4,4, figsize=(10,10))\n",
    "\n",
    "for i in range(4):\n",
    "    for j in range(4):\n",
    "        #Taking the outer product of a row with any other\n",
    "        #creates a 4x4 basis image.\n",
    "        Bij = np.outer(E[i,:], E[j,:])\n",
    "        axe[i][j].imshow(Bij, cmap='gray')\n",
    "        axe[i][j].axes.get_xaxis().set_visible(False)\n",
    "        axe[i][j].axes.get_yaxis().set_visible(False)\n",
    "\n",
    "#plt.suptitle('Euclidean Basis') #gets in the way if using tight_layout(),\n",
    "#see below.\n",
    "plt.show()\n",
    "\n",
    "#####################################################################\n",
    "\n",
    "#The 4x4 Haar basis, see DIP 6.9.\n",
    "H = .5*np.array([[1,1,1,1], [1,1,-1,-1],\n",
    "              [np.sqrt(2),-np.sqrt(2),0,0],\n",
    "              [0,0,np.sqrt(2),-np.sqrt(2)]])\n",
    "\n",
    "fh, axh = plt.subplots(4,4, figsize=(10,10))\n",
    "\n",
    "for i in range(4):\n",
    "    for j in range(4):\n",
    "        # Construct that Haar basis and display it\n",
    "        Bij = np.outer(H[i,:], H[j,:])\n",
    "        axh[i][j].imshow(Bij, cmap='gray', vmin=-1, vmax=1)\n",
    "        axh[i][j].axes.get_xaxis().set_visible(False)\n",
    "        axh[i][j].axes.get_yaxis().set_visible(False)\n",
    "\n",
    "#plt.suptitle('Haar Basis')\n",
    "plt.show()\n",
    "\n",
    "fe.tight_layout() #minimize padding for slightly better visual.\n",
    "fh.tight_layout()\n",
    "\n",
    "#https://stackoverflow.com/questions/5812960/change-figure-window-title-in-pylab\n",
    "fe.canvas.set_window_title('Euclidean/Standard Basis')\n",
    "fh.canvas.set_window_title('Haar Basis')\n",
    "\n",
    "\n",
    "#####################################################################\n",
    "\n",
    "\n",
    "#So now, a simple color image. F is \"F\", CF is a random color version.\n",
    "F = np.array([[0, 1, 1, 1], [0, 1, 0, 0], [0, 1, 1, 1], [0, 1, 0, 0]])\n",
    "CF = np.concatenate([np.expand_dims(F*np.random.rand(4,4), axis=2)\n",
    "                     for x in range(3)], axis=2)\n",
    "\n",
    "#the transform image: We decompose the image according to\n",
    "#H by T = H*F*H', where H' is H.transpose(). T is a 4x4\n",
    "#of the transform coefficients.\n",
    "T = np.matmul(H, np.matmul(F, H.transpose()))\n",
    "\n",
    "#The reconstructed image: Properties of the orthonormal\n",
    "#basis make reversing the transform as easy as applying\n",
    "#H and H' in a different order: F = H'*T*H\n",
    "TR = np.matmul(H.transpose(), np.matmul(T, H))\n",
    "\n",
    "f, ax = plt.subplots(1,3, figsize=(12,3))\n",
    "\n",
    "ax[0].imshow(F, cmap='gray')\n",
    "ax[0].set_title('Image')\n",
    "\n",
    "ax[1].imshow(T, cmap='gray', vmin=T.min(), vmax=T.max())\n",
    "ax[1].set_title('Transform Coefficients')\n",
    "\n",
    "ax[2].imshow(TR, cmap='gray')\n",
    "ax[2].set_title('Reconstruction')\n",
    "\n",
    "f.tight_layout()\n",
    "f.canvas.set_window_title('Image, Transform, and Reconstruction')\n",
    "\n"
   ]
  },
  {
   "cell_type": "code",
   "execution_count": 2,
   "metadata": {},
   "outputs": [
    {
     "data": {
      "text/plain": [
       "array([[ 2.        ,  0.        , -1.41421356,  0.        ],\n",
       "       [ 0.        ,  0.        ,  0.        ,  0.        ],\n",
       "       [ 0.70710678, -0.70710678,  0.        ,  0.        ],\n",
       "       [ 0.70710678, -0.70710678,  0.        ,  0.        ]])"
      ]
     },
     "execution_count": 2,
     "metadata": {},
     "output_type": "execute_result"
    }
   ],
   "source": [
    "T"
   ]
  },
  {
   "cell_type": "code",
   "execution_count": 3,
   "metadata": {},
   "outputs": [
    {
     "data": {
      "text/plain": [
       "array([[0.25, 0.25, 0.25, 0.25],\n",
       "       [0.25, 0.25, 0.25, 0.25],\n",
       "       [0.25, 0.25, 0.25, 0.25],\n",
       "       [0.25, 0.25, 0.25, 0.25]])"
      ]
     },
     "execution_count": 3,
     "metadata": {},
     "output_type": "execute_result"
    }
   ],
   "source": [
    "B0 = np.outer(H[0,:],H[0,:])\n",
    "B0"
   ]
  },
  {
   "cell_type": "code",
   "execution_count": 15,
   "metadata": {},
   "outputs": [
    {
     "data": {
      "text/plain": [
       "array([[ 0.        , -0.35355339,  0.        ,  0.        ],\n",
       "       [ 0.        , -0.35355339,  0.        ,  0.        ],\n",
       "       [ 0.        , -0.35355339,  0.        ,  0.        ],\n",
       "       [ 0.        , -0.35355339,  0.        ,  0.        ]])"
      ]
     },
     "execution_count": 15,
     "metadata": {},
     "output_type": "execute_result"
    }
   ],
   "source": [
    "np.multiply(F,B0)"
   ]
  },
  {
   "cell_type": "code",
   "execution_count": 19,
   "metadata": {},
   "outputs": [
    {
     "data": {
      "text/plain": [
       "0.3535533905932738"
      ]
     },
     "execution_count": 19,
     "metadata": {},
     "output_type": "execute_result"
    }
   ],
   "source": [
    "(2**(1/2))/4"
   ]
  },
  {
   "cell_type": "code",
   "execution_count": 23,
   "metadata": {},
   "outputs": [
    {
     "data": {
      "text/plain": [
       "array([[ 0.        , -0.70710678,  0.        ,  0.        ],\n",
       "       [ 0.        , -0.70710678,  0.        ,  0.        ],\n",
       "       [ 0.        , -0.70710678,  0.        ,  0.        ],\n",
       "       [ 0.        , -0.70710678,  0.        ,  0.        ]])"
      ]
     },
     "execution_count": 23,
     "metadata": {},
     "output_type": "execute_result"
    }
   ],
   "source": [
    "B2 = np.outer(H[0,:],H[2,:])\n"
   ]
  },
  {
   "cell_type": "code",
   "execution_count": 24,
   "metadata": {},
   "outputs": [],
   "source": [
    "R = 2*B0 + -1.414*B2"
   ]
  },
  {
   "cell_type": "code",
   "execution_count": 25,
   "metadata": {},
   "outputs": [
    {
     "data": {
      "text/plain": [
       "array([[ 0.20718229, -0.20718229,  0.        ,  0.        ],\n",
       "       [ 0.20718229, -0.20718229,  0.        ,  0.        ],\n",
       "       [ 0.20718229, -0.20718229,  0.        ,  0.        ],\n",
       "       [ 0.20718229, -0.20718229,  0.        ,  0.        ]])"
      ]
     },
     "execution_count": 25,
     "metadata": {},
     "output_type": "execute_result"
    }
   ],
   "source": [
    "R"
   ]
  },
  {
   "cell_type": "code",
   "execution_count": 50,
   "metadata": {},
   "outputs": [],
   "source": [
    "for i in range(4):\n",
    "    for j in range(4):\n",
    "        R += T[i,j]*np.outer(H[i,:],H[j,:])"
   ]
  },
  {
   "cell_type": "code",
   "execution_count": 60,
   "metadata": {},
   "outputs": [
    {
     "data": {
      "application/vnd.jupyter.widget-view+json": {
       "model_id": "52bb971dd4b74ac3a82df3a3623e889b",
       "version_major": 2,
       "version_minor": 0
      },
      "text/plain": [
       "Canvas(toolbar=Toolbar(toolitems=[('Home', 'Reset original view', 'home', 'home'), ('Back', 'Back to previous …"
      ]
     },
     "metadata": {},
     "output_type": "display_data"
    },
    {
     "data": {
      "text/plain": [
       "<matplotlib.image.AxesImage at 0x7efc486e1790>"
      ]
     },
     "execution_count": 60,
     "metadata": {},
     "output_type": "execute_result"
    }
   ],
   "source": [
    "plt.figure()\n",
    "plt.imshow(np.array(R>0.5) *1)\n"
   ]
  },
  {
   "cell_type": "code",
   "execution_count": 59,
   "metadata": {},
   "outputs": [
    {
     "data": {
      "text/plain": [
       "array([[0, 1, 1, 1],\n",
       "       [0, 1, 0, 0],\n",
       "       [0, 1, 1, 1],\n",
       "       [0, 1, 0, 0]])"
      ]
     },
     "execution_count": 59,
     "metadata": {},
     "output_type": "execute_result"
    }
   ],
   "source": []
  },
  {
   "cell_type": "code",
   "execution_count": 46,
   "metadata": {},
   "outputs": [
    {
     "ename": "TypeError",
     "evalue": "'numpy.bool_' object is not iterable",
     "output_type": "error",
     "traceback": [
      "\u001b[0;31m---------------------------------------------------------------------------\u001b[0m",
      "\u001b[0;31mTypeError\u001b[0m                                 Traceback (most recent call last)",
      "\u001b[0;32m<ipython-input-46-8d3ae2229f33>\u001b[0m in \u001b[0;36m<module>\u001b[0;34m\u001b[0m\n\u001b[0;32m----> 1\u001b[0;31m \u001b[0;34m[\u001b[0m\u001b[0;36m1\u001b[0m \u001b[0;32mif\u001b[0m \u001b[0mx\u001b[0m \u001b[0;34m>=\u001b[0m \u001b[0;36m0.5\u001b[0m \u001b[0;32melse\u001b[0m \u001b[0;36m0\u001b[0m \u001b[0;32mfor\u001b[0m \u001b[0mx\u001b[0m \u001b[0;32min\u001b[0m \u001b[0mR\u001b[0m\u001b[0;34m.\u001b[0m\u001b[0many\u001b[0m\u001b[0;34m(\u001b[0m\u001b[0;34m)\u001b[0m\u001b[0;34m]\u001b[0m\u001b[0;34m\u001b[0m\u001b[0;34m\u001b[0m\u001b[0m\n\u001b[0m",
      "\u001b[0;31mTypeError\u001b[0m: 'numpy.bool_' object is not iterable"
     ]
    }
   ],
   "source": []
  },
  {
   "cell_type": "code",
   "execution_count": null,
   "metadata": {},
   "outputs": [],
   "source": []
  }
 ],
 "metadata": {
  "kernelspec": {
   "display_name": "Python 3",
   "language": "python",
   "name": "python3"
  },
  "language_info": {
   "codemirror_mode": {
    "name": "ipython",
    "version": 3
   },
   "file_extension": ".py",
   "mimetype": "text/x-python",
   "name": "python",
   "nbconvert_exporter": "python",
   "pygments_lexer": "ipython3",
   "version": "3.7.6"
  }
 },
 "nbformat": 4,
 "nbformat_minor": 4
}
