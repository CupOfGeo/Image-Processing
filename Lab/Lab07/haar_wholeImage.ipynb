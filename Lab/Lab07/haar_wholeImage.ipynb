{
 "cells": [
  {
   "cell_type": "markdown",
   "metadata": {},
   "source": [
    "# Decomposing image information\n",
    "Stough, DIP\n",
    "\n",
    "It can be valuable in compression to rethink of an image in terms of important and less important information. At the very core in this example, we recode each pair of pixels as a mean, difference. Then if the difference is quite small, it can potentially be ignored."
   ]
  },
  {
   "cell_type": "code",
   "execution_count": 1,
   "metadata": {},
   "outputs": [],
   "source": [
    "%matplotlib widget\n",
    "import numpy as np\n",
    "import matplotlib.pyplot as plt\n",
    "\n",
    "#Probably shouldn't have to repeat this in every script.\n",
    "#https://matplotlib.org/users/dflt_style_changes.html\n",
    "import matplotlib as mpl\n",
    "mpl.rcParams['image.cmap'] = 'gray'"
   ]
  },
  {
   "cell_type": "markdown",
   "metadata": {},
   "source": [
    "## A very simple basis for any pair of pixels."
   ]
  },
  {
   "cell_type": "code",
   "execution_count": 2,
   "metadata": {},
   "outputs": [],
   "source": [
    "phi = np.array([1, 1])/np.sqrt(2)\n",
    "psi = np.array([1, -1])/np.sqrt(2)"
   ]
  },
  {
   "cell_type": "code",
   "execution_count": 3,
   "metadata": {},
   "outputs": [],
   "source": [
    "#Decompose each row into a half-row of phi's and a half-row of psi's\n",
    "#Assuming a multiple of 2 on the number of columns.\n",
    "def haarDecompOnce(I, keep):\n",
    "    #keep between 0 and 100\n",
    "    \n",
    "    Ic = np.zeros(I.shape)\n",
    "    for c in range(3):\n",
    "\n",
    "        X = np.reshape(I[...,c].ravel(order='C'), (2, I[...,c].size//2), order='F')\n",
    "        phis = np.inner(phi, X.transpose())\n",
    "        phisC = np.zeros(phis.shape)\n",
    "\n",
    "        \n",
    "        cutoff = np.percentile(np.abs(phis.ravel()), keep)\n",
    "        #print(cutoff)\n",
    "        mask = np.abs(phis) >= cutoff\n",
    "        phisC[mask] = phis[mask]\n",
    "        #print(phisC.shape)\n",
    "        \n",
    "        psis = np.inner(psi, X.transpose())\n",
    "        psisC = np.zeros(psis.shape)\n",
    "        \n",
    "        cutoff = np.percentile(np.abs(psis.ravel()), keep)\n",
    "        mask = np.abs(psis) >= cutoff\n",
    "        psisC[mask] = psis[mask]\n",
    "        \n",
    "        \n",
    "        Ic[...,c] = np.concatenate([np.reshape(phisC, (I.shape[0], I.shape[1]//2)),\n",
    "                           np.reshape(psisC, (I.shape[0], I.shape[1] // 2))],\n",
    "                          axis=1)\n",
    "\n",
    "    \n",
    "    return Ic\n",
    "\n",
    "def haarDecomp(I):\n",
    "    if not np.all([np.log2(d).is_integer() for d in I.shape[:2]]):\n",
    "        raise ValueError('haarDecomp: requires image with dimensions powers of 2.')\n",
    "\n",
    "    howmany = min([int(np.log2(d)) for d in I.shape[:2]])\n",
    "\n",
    "    J = I.copy()\n",
    "    for h in range(howmany):\n",
    "        J = haarDecompOnce(J)\n",
    "        J = haarDecompOnce(J.transpose())\n",
    "    return J\n",
    "\n",
    "#Left for later...\n",
    "def haarRecompOnce(J):\n",
    "    Jcd = np.zeros(J.shape)\n",
    "    for c in range(3):\n",
    "        Xleft = J[:,:J.shape[1]//2,c] #mean\n",
    "        Xright = J[:,J.shape[1]//2:,c] #difference\n",
    "        \n",
    "        Xnew = np.stack((Xleft.ravel(),Xright.ravel()))\n",
    "        phis = np.inner(phi, Xnew.transpose()) #x\n",
    "        psis = np.inner(psi, Xnew.transpose()) #y\n",
    "            \n",
    "        j = 0\n",
    "        for i in range(len(phis)):\n",
    "            Jcd[j//512,j%512,c] = phis[i]\n",
    "            j = j + 1\n",
    "            Jcd[j//512,j%512,c] = psis[i]\n",
    "            j = j + 1\n",
    "    return Jcd\n",
    "\n",
    "def haarRecomp(I):\n",
    "    if not np.all([np.log2(d).is_integer() for d in I.shape[:2]]):\n",
    "        raise ValueError('haarDecomp: requires image with dimensions powers of 2.')\n",
    "\n",
    "    howmany = min([int(np.log2(d)) for d in I.shape[:2]])\n",
    "\n",
    "    J = I.copy()\n",
    "    for h in range(howmany):\n",
    "        J = haarRecompOnce(J)\n",
    "        J = haarRecompOnce(J.transpose())\n",
    "    return J\n",
    "    "
   ]
  },
  {
   "cell_type": "code",
   "execution_count": null,
   "metadata": {},
   "outputs": [],
   "source": []
  },
  {
   "cell_type": "code",
   "execution_count": 4,
   "metadata": {},
   "outputs": [
    {
     "data": {
      "application/vnd.jupyter.widget-view+json": {
       "model_id": "fc0e6bb7512c4a44a4587789b61a8f12",
       "version_major": 2,
       "version_minor": 0
      },
      "text/plain": [
       "Canvas(toolbar=Toolbar(toolitems=[('Home', 'Reset original view', 'home', 'home'), ('Back', 'Back to previous …"
      ]
     },
     "metadata": {},
     "output_type": "display_data"
    }
   ],
   "source": [
    "#Just going to do single channel here.\n",
    "I = plt.imread('cat_small.png').astype('float')[...,:3]\n",
    "#GI = 0.2989 * I[..., 0] + 0.5870 * I[..., 1] + 0.1140 * I[..., 2]\n",
    "I = I/I.max()\n",
    "\n",
    "#k = 2^p + q -1\n",
    "#Code to pad to the nearest power of two\n",
    "dimsRounded = [int(np.power(2, np.ceil(np.log2(d)))) for d in I.shape[:2]] ## p\n",
    "\n",
    "#Padded to the power of 2.\n",
    "CI = np.zeros(I.shape)\n",
    "for c in range(3):\n",
    "    CI[...,c] = np.pad(I[...,c],\n",
    "                       pad_width=((0, dimsRounded[0]-I[...,c].shape[0]),\n",
    "                                  (0, dimsRounded[1]-I[...,c].shape[1])),\n",
    "                       mode='constant', constant_values=0)\n",
    "\n",
    "\n",
    "\n",
    "\n",
    "First = haarDecompOnce(CI,0)\n",
    "#for c in range(3):\n",
    "##    First[...,c] = First[...,c]-First[...,c].min()\n",
    "#    First[...,c] = First[...,c]/First[...,c].max()\n",
    "\n",
    "FirstT = np.zeros(First.shape)\n",
    "for c in range(3):\n",
    "    FirstT[...,c] = First[...,c].transpose()\n",
    "\n",
    "Second = haarDecompOnce(FirstT,0)\n",
    "\n",
    "for c in range(3):\n",
    "    Second[...,c] = Second[...,c].transpose()\n",
    "\n",
    "f, ax = plt.subplots(1,3, figsize=(10,3))\n",
    "\n",
    "ax[0].imshow(CI)\n",
    "ax[0].set_title('Original')\n",
    "\n",
    "ax[1].imshow(np.clip(First,0,1))\n",
    "ax[1].set_title('Step 1: Row Transform')\n",
    "\n",
    "ax[2].imshow(np.clip(Second,0,1))\n",
    "ax[2].set_title('Step 2: Column Transform')\n",
    "\n",
    "plt.show()\n",
    "plt.tight_layout()"
   ]
  },
  {
   "cell_type": "code",
   "execution_count": 5,
   "metadata": {},
   "outputs": [
    {
     "data": {
      "application/vnd.jupyter.widget-view+json": {
       "model_id": "8420faa745c444168a570848874f0d6d",
       "version_major": 2,
       "version_minor": 0
      },
      "text/plain": [
       "Canvas(toolbar=Toolbar(toolitems=[('Home', 'Reset original view', 'home', 'home'), ('Back', 'Back to previous …"
      ]
     },
     "metadata": {},
     "output_type": "display_data"
    },
    {
     "name": "stderr",
     "output_type": "stream",
     "text": [
      "Clipping input data to the valid range for imshow with RGB data ([0..1] for floats or [0..255] for integers).\n",
      "Clipping input data to the valid range for imshow with RGB data ([0..1] for floats or [0..255] for integers).\n"
     ]
    }
   ],
   "source": [
    "def Trans(I):\n",
    "    T = I.copy()\n",
    "    for c in range(3):\n",
    "        T[...,c] = T[...,c].transpose()\n",
    "    return T\n",
    "\n",
    "f, ax = plt.subplots(1,4, figsize=(10,3))\n",
    "\n",
    "ax[0].imshow(CI)\n",
    "ax[0].set_title('Original')\n",
    "\n",
    "ax[1].imshow(haarRecompOnce(First))\n",
    "ax[1].set_title('One recomp')\n",
    "\n",
    "D = haarRecompOnce(Second)\n",
    "\n",
    "ax[2].imshow(haarRecompOnce(Second))\n",
    "ax[2].set_title('frist of two recomps')\n",
    "\n",
    "SecondT = np.zeros(Second.shape)\n",
    "\n",
    "    \n",
    "    \n",
    "    \n",
    "ax[3].imshow(haarRecompOnce(Trans(haarRecompOnce(Trans(Second)))))\n",
    "ax[3].set_title('Second recomp')\n",
    "\n",
    "plt.show()\n",
    "plt.tight_layout()"
   ]
  },
  {
   "cell_type": "code",
   "execution_count": null,
   "metadata": {},
   "outputs": [],
   "source": []
  },
  {
   "cell_type": "code",
   "execution_count": 6,
   "metadata": {},
   "outputs": [
    {
     "data": {
      "application/vnd.jupyter.widget-view+json": {
       "model_id": "001f12711dbe40bc94735ace91f00f17",
       "version_major": 2,
       "version_minor": 0
      },
      "text/plain": [
       "Canvas(toolbar=Toolbar(toolitems=[('Home', 'Reset original view', 'home', 'home'), ('Back', 'Back to previous …"
      ]
     },
     "metadata": {},
     "output_type": "display_data"
    }
   ],
   "source": [
    "#Just going to do single channel here.\n",
    "I = plt.imread('cat_small.png').astype('float')[...,:3]\n",
    "#GI = 0.2989 * I[..., 0] + 0.5870 * I[..., 1] + 0.1140 * I[..., 2]\n",
    "I = I/I.max()\n",
    "\n",
    "#k = 2^p + q -1\n",
    "#Code to pad to the nearest power of two\n",
    "dimsRounded = [int(np.power(2, np.ceil(np.log2(d)))) for d in I.shape[:2]] ## p\n",
    "\n",
    "#Padded to the power of 2.\n",
    "CI = np.zeros(I.shape)\n",
    "for c in range(3):\n",
    "    CI[...,c] = np.pad(I[...,c],\n",
    "                       pad_width=((0, dimsRounded[0]-I[...,c].shape[0]),\n",
    "                                  (0, dimsRounded[1]-I[...,c].shape[1])),\n",
    "                       mode='constant', constant_values=0)\n",
    "\n",
    "\n",
    "\n",
    "\n",
    "First = haarDecompOnce(CI,10) #keeping 90%\n",
    "#for c in range(3):\n",
    "##    First[...,c] = First[...,c]-First[...,c].min()\n",
    "#    First[...,c] = First[...,c]/First[...,c].max()\n",
    "f, ax = plt.subplots(1,3, figsize=(10,3))\n",
    "ax[0].imshow(CI)\n",
    "ax[0].set_title('Original')\n",
    "\n",
    "ax[1].imshow(np.clip(First,0,1))\n",
    "ax[1].set_title('Harr decomp keeping 90%')\n",
    "\n",
    "ax[2].imshow(np.clip(haarRecompOnce(First),0,1))\n",
    "ax[2].set_title('Harr Recomp')\n",
    "\n",
    "plt.show()\n",
    "plt.tight_layout()"
   ]
  },
  {
   "cell_type": "markdown",
   "metadata": {},
   "source": [
    "# Part B"
   ]
  },
  {
   "cell_type": "code",
   "execution_count": 7,
   "metadata": {},
   "outputs": [],
   "source": [
    "from skimage.util import *"
   ]
  },
  {
   "cell_type": "code",
   "execution_count": 8,
   "metadata": {},
   "outputs": [],
   "source": [
    "l = plt.imread(\"eye.png\")[...,:3]"
   ]
  },
  {
   "cell_type": "code",
   "execution_count": 9,
   "metadata": {},
   "outputs": [],
   "source": [
    "l.shape\n",
    "I = l[:-1,:-1,:]"
   ]
  },
  {
   "cell_type": "code",
   "execution_count": 10,
   "metadata": {},
   "outputs": [],
   "source": [
    "block_shape = (8,8,3)\n",
    "\n",
    "view = view_as_blocks(I, block_shape=block_shape)\n",
    "view = np.squeeze(view)\n",
    "blockView = view.reshape([view.shape[0]*view.shape[1]] + list(view.shape[2:]))\n"
   ]
  },
  {
   "cell_type": "code",
   "execution_count": 11,
   "metadata": {},
   "outputs": [],
   "source": [
    "newImgBlock1 = np.zeros(blockView.shape)\n",
    "newImgBlock2 = np.zeros(blockView.shape)\n",
    "newImgBlock3 = np.zeros(blockView.shape)\n",
    "\n",
    "for i, block in enumerate(blockView):\n",
    "    bT = np.mean(block, axis=(0,1)) \n",
    "    newImgBlock1[i][:] = np.reshape(bT, (1,1,3))\n",
    "\n",
    "for i, block in enumerate(blockView):\n",
    "    bT = np.min(block, axis=(0,1)) \n",
    "    newImgBlock2[i][:] = np.reshape(bT, (1,1,3))\n",
    "    \n",
    "for i, block in enumerate(blockView):\n",
    "    bT = np.median(block, axis=(0,1)) \n",
    "    newImgBlock3[i][:] = np.reshape(bT, (1,1,3))\n",
    "    "
   ]
  },
  {
   "cell_type": "code",
   "execution_count": 12,
   "metadata": {},
   "outputs": [],
   "source": [
    "Imean = montage(newImgBlock1, grid_shape=[view.shape[0], view.shape[1]], multichannel=True)\n",
    "Imin = montage(newImgBlock2, grid_shape=[view.shape[0], view.shape[1]], multichannel=True)\n",
    "Imedian = montage(newImgBlock3, grid_shape=[view.shape[0], view.shape[1]], multichannel=True)"
   ]
  },
  {
   "cell_type": "code",
   "execution_count": 13,
   "metadata": {},
   "outputs": [
    {
     "data": {
      "application/vnd.jupyter.widget-view+json": {
       "model_id": "a4795fea754d455f808b9931e5a08c66",
       "version_major": 2,
       "version_minor": 0
      },
      "text/plain": [
       "Canvas(toolbar=Toolbar(toolitems=[('Home', 'Reset original view', 'home', 'home'), ('Back', 'Back to previous …"
      ]
     },
     "metadata": {},
     "output_type": "display_data"
    }
   ],
   "source": [
    "f, ax = plt.subplots(1,4, figsize=(10,3))\n",
    "\n",
    "\n",
    "ax[0].imshow(I)\n",
    "ax[0].set_title('Original')\n",
    "\n",
    "ax[1].imshow(Imean)\n",
    "ax[1].set_title('Mean Blocks')\n",
    "\n",
    "ax[2].imshow(Imin)\n",
    "ax[2].set_title('Min Blocks')\n",
    "\n",
    "ax[3].imshow(Imedian)\n",
    "ax[3].set_title('Median Blocks')\n",
    "\n",
    "plt.show()\n",
    "plt.tight_layout()"
   ]
  },
  {
   "cell_type": "code",
   "execution_count": null,
   "metadata": {},
   "outputs": [],
   "source": []
  },
  {
   "cell_type": "code",
   "execution_count": null,
   "metadata": {},
   "outputs": [],
   "source": []
  }
 ],
 "metadata": {
  "kernelspec": {
   "display_name": "Python 3",
   "language": "python",
   "name": "python3"
  },
  "language_info": {
   "codemirror_mode": {
    "name": "ipython",
    "version": 3
   },
   "file_extension": ".py",
   "mimetype": "text/x-python",
   "name": "python",
   "nbconvert_exporter": "python",
   "pygments_lexer": "ipython3",
   "version": "3.7.6"
  }
 },
 "nbformat": 4,
 "nbformat_minor": 4
}
