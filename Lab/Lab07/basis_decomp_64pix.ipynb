{
 "cells": [
  {
   "cell_type": "markdown",
   "metadata": {},
   "source": [
    "# Basis and reconstruction of 64 pixel image.\n",
    "Joshua Stough\n",
    "DIP\n",
    "\n",
    "Decompose and partially reconstruct according to the Haar\n",
    "basis.\n",
    "\n"
   ]
  },
  {
   "cell_type": "code",
   "execution_count": 1,
   "metadata": {},
   "outputs": [],
   "source": [
    "%matplotlib widget\n",
    "import matplotlib.pyplot as plt\n",
    "from waveletUtil import *\n"
   ]
  },
  {
   "cell_type": "code",
   "execution_count": 2,
   "metadata": {},
   "outputs": [
    {
     "name": "stdout",
     "output_type": "stream",
     "text": [
      "haarReconstructionDemo: Works only on 64 pixel images...\n"
     ]
    },
    {
     "data": {
      "application/vnd.jupyter.widget-view+json": {
       "model_id": "241e56f7b7f8450f92694bf0f431bca9",
       "version_major": 2,
       "version_minor": 0
      },
      "text/plain": [
       "Canvas(toolbar=Toolbar(toolitems=[('Home', 'Reset original view', 'home', 'home'), ('Back', 'Back to previous …"
      ]
     },
     "metadata": {},
     "output_type": "display_data"
    },
    {
     "data": {
      "application/vnd.jupyter.widget-view+json": {
       "model_id": "05452cf66e544310867b616710dec00b",
       "version_major": 2,
       "version_minor": 0
      },
      "text/plain": [
       "Canvas(toolbar=Toolbar(toolitems=[('Home', 'Reset original view', 'home', 'home'), ('Back', 'Back to previous …"
      ]
     },
     "metadata": {},
     "output_type": "display_data"
    }
   ],
   "source": [
    "\n",
    "print('haarReconstructionDemo: Works only on 64 pixel images...')\n",
    "\n",
    "I = plt.imread('surprise.png')\n",
    "# I = plt.imread('strawberry.png')\n",
    "\n",
    "# H is the 8x8 Haar matrix\n",
    "# H = np.eye(8) # For fun comparison.\n",
    "# H = makeRandomBasis(8)\n",
    "# H = makeKLTBasis(I, 8)\n",
    "# H = makeDCTMatrix(8)\n",
    "H = makeHaarMatrix(8)\n",
    "\n",
    "#The transform image, an image of coefficients wrt the Haar basis.\n",
    "CT = np.zeros(I.shape)\n",
    "for chan in range(3):\n",
    "    CT[...,chan] = np.matmul(H, np.matmul(I[...,chan], H.transpose()))\n",
    "\n",
    "\n",
    "#RI will represent the reconstructed image as we add back more\n",
    "#Haar patterns\n",
    "RI = np.zeros(I.shape) #Still should be 8x8\n",
    "\n",
    "\n",
    "#Visual\n",
    "fh, axh = plt.subplots(8,8, figsize=(8,8))\n",
    "fr, axr = plt.subplots(8,8, figsize=(8,8))\n",
    "\n",
    "\n",
    "# We're going to reconstruct according to distance from the\n",
    "# 0,0 (the first Haar basis, average calculator). Notice,\n",
    "# this order is independent of the actual image data.\n",
    "xs = np.meshgrid(np.arange(8), np.arange(8), indexing='ij')\n",
    "coords = np.concatenate([np.expand_dims(c, axis=1) for c in\n",
    "                         [x.ravel() for x in xs]], axis=1)\n",
    "dists = np.sum(coords*coords, axis=1)\n",
    "darg = np.argsort(dists) #sorts in increasing order\n",
    "\n",
    "#If we were to use magnitude of the coefficient...need to ravel in\n",
    "#column-major, like we set up coords.\n",
    "# mags = T.ravel(order='F')\n",
    "# darg = np.argsort(mags)\n",
    "# darg.reverse()\n",
    "#\n",
    "#c = 1 #used to display the order of reconstruction.\n",
    "\n",
    "for ind in darg:\n",
    "    i,j = coords[ind] #coords[darg[x]] if x in range(len(darg))\n",
    "\n",
    "    #Construct that Haar basis and display it\n",
    "    Bij = np.outer(H[i, :], H[j, :])\n",
    "    axh[i][j].imshow(Bij, cmap='gray', vmin=-.5, vmax=.5)\n",
    "    axh[i][j].axes.get_xaxis().set_visible(False)\n",
    "    axh[i][j].axes.get_yaxis().set_visible(False)\n",
    "    # axh[i][j].set_title('c_%d_%d: %6.3f' % (i, j, T[i,j]))\n",
    "    # https://matplotlib.org/api/pyplot_api.html#matplotlib.pyplot.text\n",
    "    axh[i][j].text(0, 6, r'$\\pi:%6.3f$' % CT[i, j, :].sum(), fontsize=6, color='cyan')\n",
    "\n",
    "    # Add the amount of that basis that was in the original image to\n",
    "    # the running total, or reconstruction.\n",
    "    # RI = RI + T[i, j] * Bij #2D\n",
    "    for chan in range(3):\n",
    "        RI[...,chan] += CT[i,j,chan]*Bij\n",
    "\n",
    "    RIcopy = RI.copy().clip(0,1)\n",
    "    axr[i][j].imshow(RIcopy)\n",
    "    axr[i][j].axes.get_xaxis().set_visible(False)\n",
    "    axr[i][j].axes.get_yaxis().set_visible(False)\n",
    "    # axr[i][j].text(0, 6, '%d' % c, fontsize=10, color='cyan')\n",
    "    #The order of reconstruction isn't that informative, but useful for debugging.\n",
    "    #c += 1\n",
    "\n",
    "\n",
    "plt.show()\n",
    "\n",
    "fh.canvas.set_window_title('Haar Basis Images and Coefficients')\n",
    "fh.tight_layout()\n",
    "\n",
    "fr.canvas.set_window_title('Partial Reconstructions from Large Scale to Small')\n",
    "fr.tight_layout()\n"
   ]
  },
  {
   "cell_type": "code",
   "execution_count": null,
   "metadata": {},
   "outputs": [],
   "source": []
  },
  {
   "cell_type": "code",
   "execution_count": 3,
   "metadata": {},
   "outputs": [],
   "source": [
    "from __future__ import print_function\n",
    "from ipywidgets import interact, interactive, fixed, interact_manual\n",
    "import ipywidgets as widgets\n",
    "from skimage.transform import rescale, resize\n",
    "\n",
    "def f(x,pos):\n",
    "    Big_mem = {}\n",
    "    x = 2**x\n",
    "    pos = pos * (x*x) - 1\n",
    "    pos = int(pos)\n",
    "    image = plt.imread('eye.png')\n",
    "    I = resize(image, (x, x),anti_aliasing=True)    \n",
    "    \n",
    "    \n",
    "    H = makeHaarMatrix(x)\n",
    "    #The transform image, an image of coefficients wrt the Haar basis.\n",
    "    CT = np.zeros(I.shape)\n",
    "    for chan in range(3):\n",
    "        CT[...,chan] = np.matmul(H, np.matmul(I[...,chan], H.transpose()))\n",
    "        #print(CT)\n",
    "\n",
    "#RI will represent the reconstructed image as we add back more\n",
    "#Haar patterns\n",
    "    RI = np.zeros(I.shape) #Still should be 8x8\n",
    "\n",
    "# We're going to reconstruct according to distance from the\n",
    "# 0,0 (the first Haar basis, average calculator). Notice,\n",
    "# this order is independent of the actual image data.\n",
    "    xs = np.meshgrid(np.arange(x), np.arange(x), indexing='ij')\n",
    "    coords = np.concatenate([np.expand_dims(c, axis=1) for c in [x.ravel() for x in xs]], axis=1)\n",
    "    dists = np.sum(coords*coords, axis=1)\n",
    "    darg = np.argsort(dists) #sorts in increasing order\n",
    "\n",
    "#If we were to use magnitude of the coefficient...need to ravel in\n",
    "#column-major, like we set up coords.\n",
    "# mags = T.ravel(order='F')\n",
    "# darg = np.argsort(mags)\n",
    "# darg.reverse()\n",
    "#\n",
    "    c = 0 #used to display the order of reconstruction.\n",
    "\n",
    "    for ind in darg:\n",
    "\n",
    "        i,j = coords[ind] #coords[darg[x]] if x in range(len(darg))\n",
    "\n",
    "        #Construct that Haar basis and display it\n",
    "        Bij = np.outer(H[i, :], H[j, :])\n",
    "        \n",
    "        # Add the amount of that basis that was in the original image to\n",
    "        # the running total, or reconstruction.\n",
    "        # RI = RI + T[i, j] * Bij #2D\n",
    "        for chan in range(3):\n",
    "            RI[...,chan] += CT[i,j,chan]*Bij\n",
    "\n",
    "        RIcopy = RI.copy().clip(0,1)\n",
    "        #axr[i][j].imshow(RIcopy)\n",
    "        #axr[i][j].axes.get_xaxis().set_visible(False)\n",
    "        #axr[i][j].axes.get_yaxis().set_visible(False)\n",
    "        #axr[i][j].text(0, 6, '%d' % c, fontsize=10, color='cyan')\n",
    "        #The order of reconstruction isn't that informative, but useful for debugging.\n",
    "        Big_mem[ind] = RIcopy.copy()\n",
    "        c += 1\n",
    "        #print(ind, c)\n",
    "        if (c == pos):\n",
    "            #save Ps?\n",
    "            P = RIcopy.copy()\n",
    "    \n",
    "    return Big_mem\n",
    "\n",
    "   # plt.figure()\n",
    "   # plt.show()\n",
    "\n",
    "    #fh.canvas.set_window_title('Haar Basis Images and Coefficients')\n",
    "    #fh.tight_layout()\n",
    "\n",
    "    #fr.canvas.set_window_title('Partial Reconstructions from Large Scale to Small')\n",
    "    #fr.tight_layout()\n",
    "    #plt.close()\n",
    "    #fig1 = plt.figure()\n",
    "    #plt.imshow(P)\n",
    "\n"
   ]
  },
  {
   "cell_type": "markdown",
   "metadata": {},
   "source": [
    "#interact(f, x=(2,8), pos=(0.0,1.0,0.01));"
   ]
  },
  {
   "cell_type": "code",
   "execution_count": null,
   "metadata": {},
   "outputs": [],
   "source": []
  },
  {
   "cell_type": "code",
   "execution_count": null,
   "metadata": {},
   "outputs": [],
   "source": []
  },
  {
   "cell_type": "code",
   "execution_count": null,
   "metadata": {},
   "outputs": [],
   "source": []
  },
  {
   "cell_type": "code",
   "execution_count": 4,
   "metadata": {},
   "outputs": [],
   "source": [
    "import numpy as np\n",
    "import matplotlib.pyplot as plt\n",
    "import matplotlib.animation as animation\n",
    "\n",
    "\n",
    "def update_line(num, data, line):\n",
    "    line.set_data(data[..., :num])\n",
    "    return line,"
   ]
  },
  {
   "cell_type": "code",
   "execution_count": 5,
   "metadata": {},
   "outputs": [
    {
     "data": {
      "application/vnd.jupyter.widget-view+json": {
       "model_id": "a7679c90b5d54c36a614f23e7255abd2",
       "version_major": 2,
       "version_minor": 0
      },
      "text/plain": [
       "Canvas(toolbar=Toolbar(toolitems=[('Home', 'Reset original view', 'home', 'home'), ('Back', 'Back to previous …"
      ]
     },
     "metadata": {},
     "output_type": "display_data"
    }
   ],
   "source": [
    "fig1 = plt.figure()\n",
    "\n",
    "# Fixing random state for reproducibility\n",
    "np.random.seed(19680801)\n",
    "\n",
    "data = np.random.rand(2, 25)\n",
    "l, = plt.plot([], [], 'r-')\n",
    "plt.xlim(0, 1)\n",
    "plt.ylim(0, 1)\n",
    "plt.xlabel('x')\n",
    "plt.title('test')\n",
    "line_ani = animation.FuncAnimation(fig1, update_line, 25, fargs=(data, l),\n",
    "                                   interval=50, blit=True)\n",
    "\n",
    "# To save the animation, use the command: line_ani.save('lines.mp4')"
   ]
  },
  {
   "cell_type": "code",
   "execution_count": 6,
   "metadata": {},
   "outputs": [
    {
     "ename": "IndentationError",
     "evalue": "unexpected indent (<ipython-input-6-b5c682239d0e>, line 11)",
     "output_type": "error",
     "traceback": [
      "\u001b[0;36m  File \u001b[0;32m\"<ipython-input-6-b5c682239d0e>\"\u001b[0;36m, line \u001b[0;32m11\u001b[0m\n\u001b[0;31m    blit=True)\u001b[0m\n\u001b[0m    ^\u001b[0m\n\u001b[0;31mIndentationError\u001b[0m\u001b[0;31m:\u001b[0m unexpected indent\n"
     ]
    }
   ],
   "source": [
    "fig2 = plt.figure()\n",
    "\n",
    "x = np.arange(-9, 10)\n",
    "y = np.arange(-9, 10).reshape(-1, 1)\n",
    "base = np.hypot(x, y)\n",
    "ims = []\n",
    "for add in np.arange(15):\n",
    "    ims.append((plt.pcolor(x, y, base + add, norm=plt.Normalize(0, 30)),))\n",
    "\n",
    "#im_ani = animation.ArtistAnimation(fig2, ims, interval=50, repeat_delay=3000,\n",
    "                                   blit=True)\n",
    "# To save this second animation with some metadata, use the following command:\n",
    "# im_ani.save('im.mp4', metadata={'artist':'Guido'})\n",
    "\n",
    "plt.show()"
   ]
  },
  {
   "cell_type": "code",
   "execution_count": 10,
   "metadata": {},
   "outputs": [
    {
     "data": {
      "application/vnd.jupyter.widget-view+json": {
       "model_id": "c90b6f204a5842ba835cc3cc0691a7c7",
       "version_major": 2,
       "version_minor": 0
      },
      "text/plain": [
       "Canvas(toolbar=Toolbar(toolitems=[('Home', 'Reset original view', 'home', 'home'), ('Back', 'Back to previous …"
      ]
     },
     "metadata": {},
     "output_type": "display_data"
    },
    {
     "name": "stdout",
     "output_type": "stream",
     "text": [
      "Done!\n"
     ]
    }
   ],
   "source": [
    "\n",
    "fps = 30\n",
    "nSeconds = 5\n",
    "snapshots = f(5,2)# generates a bunch of 5x5 arrays\n",
    "# First set up the figure, the axis, and the plot element we want to animate\n",
    "\n",
    "fig = plt.figure( figsize=(8,8) )\n",
    "\n",
    "a = snapshots[0] # inital pic \n",
    "im = plt.imshow(a, interpolation='none', aspect='auto', vmin=0, vmax=1) #show inital \n",
    "\n",
    "def animate_func(i):\n",
    "    if i % len(snapshots) == 0: #keeps incrementing i for loop back\n",
    "        print( '.', end ='' )\n",
    "\n",
    "    im.set_array(snapshots[i]) # resets plt.imshow()\n",
    "    return [im] #returns it as array?\n",
    "\n",
    "anim = animation.FuncAnimation(\n",
    "                               fig, \n",
    "                               animate_func, \n",
    "                             \n",
    "                               interval = 1000 / 30, # in ms \n",
    "                               )\n",
    "\n",
    "#anim.save('test_anim.mp4', fps=fps, extra_args=['-vcodec', 'libx264'])\n",
    "\n",
    "print('Done!')"
   ]
  },
  {
   "cell_type": "code",
   "execution_count": null,
   "metadata": {},
   "outputs": [],
   "source": []
  }
 ],
 "metadata": {
  "kernelspec": {
   "display_name": "Python 3",
   "language": "python",
   "name": "python3"
  },
  "language_info": {
   "codemirror_mode": {
    "name": "ipython",
    "version": 3
   },
   "file_extension": ".py",
   "mimetype": "text/x-python",
   "name": "python",
   "nbconvert_exporter": "python",
   "pygments_lexer": "ipython3",
   "version": "3.7.6"
  }
 },
 "nbformat": 4,
 "nbformat_minor": 4
}
