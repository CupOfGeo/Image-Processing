{
 "cells": [
  {
   "cell_type": "code",
   "execution_count": 1,
   "metadata": {},
   "outputs": [
    {
     "data": {
      "application/vnd.jupyter.widget-view+json": {
       "model_id": "c4ca2d9435454725b6cb59afc61ce2df",
       "version_major": 2,
       "version_minor": 0
      },
      "text/plain": [
       "Canvas(toolbar=Toolbar(toolitems=[('Home', 'Reset original view', 'home', 'home'), ('Back', 'Back to previous …"
      ]
     },
     "metadata": {},
     "output_type": "display_data"
    }
   ],
   "source": [
    "%matplotlib widget \n",
    "#https://www.geeksforgeeks.org/python-intensity-transformation-operations-on-images/\n",
    "\"\"\"\n",
    "Joshua Stough\n",
    "DIP\n",
    "\n",
    "Viewing a washed-out image and its histogram.\n",
    "\"\"\"\n",
    "\n",
    "import matplotlib.pyplot as plt\n",
    "import numpy as np\n",
    "import numpy.random as random\n",
    "import matplotlib.colors as colors\n",
    "\n",
    "#We're going to normalize the image and deal with floating point.\n",
    "I = plt.imread('washed.jpeg').astype('float')\n",
    "I = I/I.ravel().max()\n",
    "\n",
    "#The histogram bins are just let's say 256 bins in [0,1]\n",
    "bins = np.arange(256)/256\n",
    "\n",
    "f, axarr = plt.subplots(1,2, figsize=(10, 3))\n",
    "\n",
    "axarr[0].imshow(I) #https://matplotlib.org/api/_as_gen/matplotlib.pyplot.imshow.html\n",
    "axarr[0].set_title('Washed Out Image')\n",
    "\n",
    "axarr[1].hist(I[...,0].ravel(), bins, alpha = .6, label = 'red', color = 'r')\n",
    "axarr[1].hist(I[...,1].ravel(), bins, alpha = .6, label = 'green', color = 'g')\n",
    "axarr[1].hist(I[...,2].ravel(), bins, alpha = .6, label = 'blue', color = 'b')\n",
    "axarr[1].legend(loc = 'upper right')\n",
    "plt.show()"
   ]
  },
  {
   "cell_type": "code",
   "execution_count": 2,
   "metadata": {},
   "outputs": [
    {
     "data": {
      "application/vnd.jupyter.widget-view+json": {
       "model_id": "33fed45a5f6d4460a3e6682d0fbc5663",
       "version_major": 2,
       "version_minor": 0
      },
      "text/plain": [
       "Canvas(toolbar=Toolbar(toolitems=[('Home', 'Reset original view', 'home', 'home'), ('Back', 'Back to previous …"
      ]
     },
     "metadata": {},
     "output_type": "display_data"
    }
   ],
   "source": [
    "#We're going to normalize the image and deal with floating point.\n",
    "I = plt.imread('washed.jpeg').astype('float')\n",
    "\n",
    "#I = (I-I.ravel().min())/I.ravel().max()\n",
    "a=I.ravel().min()\n",
    "b=I.ravel().max()\n",
    "\n",
    "slope = (1)/(b-a)\n",
    "c = -a/(b-a)\n",
    "\n",
    "I = slope*I+c\n",
    "\n",
    "#The histogram bins are just let's say 256 bins in [0,1]\n",
    "bins = np.arange(256)/256\n",
    "f, axarr = plt.subplots(2,2, figsize=(20, 20), sharey=True, sharex=True)\n",
    "\n",
    "axarr[0,0].imshow(I) #https://matplotlib.org/api/_as_gen/matplotlib.pyplot.imshow.html\n",
    "axarr[0,0].set_title('Normalized Image')\n",
    "\n",
    "#axarr[1,0].hist(I[...,0].ravel(), bins, alpha = .6, label = 'red', color = 'r')\n",
    "#axarr[1,0].hist(I[...,1].ravel(), bins, alpha = .6, label = 'green', color = 'g')\n",
    "#axarr[1,0].hist(I[...,2].ravel(), bins, alpha = .6, label = 'blue', color = 'b')\n",
    "#axarr[1,0].legend(loc = 'upper right')\n",
    "\n",
    "\n",
    "I = plt.imread('washed.jpeg').astype('float')\n",
    "I = I/I.ravel().max()\n",
    "\n",
    "axarr[0,1].imshow(I) #https://matplotlib.org/api/_as_gen/matplotlib.pyplot.imshow.html\n",
    "axarr[0,1].set_title('Original Image')\n",
    "\n",
    "#axarr[1,1].hist(I[...,0].ravel(), bins, alpha = .6, label = 'red', color = 'r')\n",
    "#axarr[1,1].hist(I[...,1].ravel(), bins, alpha = .6, label = 'green', color = 'g')\n",
    "#axarr[1,1].hist(I[...,2].ravel(), bins, alpha = .6, label = 'blue', color = 'b')\n",
    "#axarr[1,1].legend(loc = 'upper right')\n",
    "\n",
    "\n",
    "plt.show()"
   ]
  },
  {
   "cell_type": "code",
   "execution_count": 3,
   "metadata": {},
   "outputs": [],
   "source": [
    "I = plt.imread('washed.jpeg').astype('float')"
   ]
  },
  {
   "cell_type": "code",
   "execution_count": 4,
   "metadata": {},
   "outputs": [
    {
     "data": {
      "application/vnd.jupyter.widget-view+json": {
       "model_id": "91018584f9bb4baaba2e1efbebbc6158",
       "version_major": 2,
       "version_minor": 0
      },
      "text/plain": [
       "Canvas(toolbar=Toolbar(toolitems=[('Home', 'Reset original view', 'home', 'home'), ('Back', 'Back to previous …"
      ]
     },
     "metadata": {},
     "output_type": "display_data"
    }
   ],
   "source": [
    "normer = colors.Normalize(vmin=.4*255, vmax=.8*255, clip = True)\n",
    "IN = normer(I)\n",
    "\n",
    "#The histogram bins are just let's say 256 bins in [0,1]\n",
    "bins = np.arange(256)/256\n",
    "f, axarr = plt.subplots(1,2, figsize=(10, 3))\n",
    "\n",
    "axarr[0].imshow(IN) #https://matplotlib.org/api/_as_gen/matplotlib.pyplot.imshow.html\n",
    "axarr[0].set_title('Washed Out Image')\n",
    "\n",
    "axarr[1].hist(IN[...,0].ravel(), bins, alpha = .6, label = 'red', color = 'r')\n",
    "axarr[1].hist(IN[...,1].ravel(), bins, alpha = .6, label = 'green', color = 'g')\n",
    "axarr[1].hist(IN[...,2].ravel(), bins, alpha = .6, label = 'blue', color = 'b')\n",
    "axarr[1].legend(loc = 'upper right')\n",
    "plt.show()"
   ]
  },
  {
   "cell_type": "code",
   "execution_count": 5,
   "metadata": {},
   "outputs": [
    {
     "data": {
      "application/vnd.jupyter.widget-view+json": {
       "model_id": "5dc888448e5f4859a61e080fff5d9be8",
       "version_major": 2,
       "version_minor": 0
      },
      "text/plain": [
       "Canvas(toolbar=Toolbar(toolitems=[('Home', 'Reset original view', 'home', 'home'), ('Back', 'Back to previous …"
      ]
     },
     "metadata": {},
     "output_type": "display_data"
    }
   ],
   "source": [
    "I = plt.imread('washed.jpeg').astype('float')\n",
    "\n",
    "normer = colors.Normalize(vmin=0, vmax=255, clip = True)\n",
    "IN = normer(I)\n",
    "\n",
    "#The histogram bins are just let's say 256 bins in [0,1]\n",
    "bins = np.arange(256)/256\n",
    "f, axarr = plt.subplots(1,2, figsize=(10, 3))\n",
    "\n",
    "axarr[0].imshow(IN) #https://matplotlib.org/api/_as_gen/matplotlib.pyplot.imshow.html\n",
    "\n",
    "axarr[0].set_title('Washed Out Image')\n",
    "\n",
    "axarr[1].hist(IN[...,0].ravel(), bins, alpha = .6, label = 'red', color = 'r')\n",
    "axarr[1].hist(IN[...,1].ravel(), bins, alpha = .6, label = 'green', color = 'g')\n",
    "axarr[1].hist(IN[...,2].ravel(), bins, alpha = .6, label = 'blue', color = 'b')\n",
    "axarr[1].legend(loc = 'upper right')\n",
    "plt.show()"
   ]
  },
  {
   "cell_type": "code",
   "execution_count": 23,
   "metadata": {},
   "outputs": [
    {
     "data": {
      "application/vnd.jupyter.widget-view+json": {
       "model_id": "2501e0954cdc43c39ecaab4414ba3741",
       "version_major": 2,
       "version_minor": 0
      },
      "text/plain": [
       "Canvas(toolbar=Toolbar(toolitems=[('Home', 'Reset original view', 'home', 'home'), ('Back', 'Back to previous …"
      ]
     },
     "metadata": {},
     "output_type": "display_data"
    }
   ],
   "source": [
    "from __future__ import print_function\n",
    "from ipywidgets import interact, interactive, fixed, interact_manual\n",
    "import ipywidgets as widgets\n",
    "\n",
    "\n",
    "I = plt.imread('washed.jpeg').astype('float')\n",
    "#c = 255/(np.log(1+np.max(I)))\n",
    "#log_trasform = c * np.log(1+I)\n",
    "#log_trasform = np.array(log_trasform, dtype= np.uint8)\n",
    "plt.figure()\n",
    "\n",
    "def f(gamma=1):\n",
    "    gamma_corrected = np.array(255*(I / 255) ** gamma, dtype = 'uint8')\n",
    "    plt.clf()\n",
    "    plt.imshow(gamma_corrected)\n",
    "    \n",
    "\n",
    "\n",
    "\n"
   ]
  },
  {
   "cell_type": "code",
   "execution_count": 25,
   "metadata": {},
   "outputs": [
    {
     "data": {
      "application/vnd.jupyter.widget-view+json": {
       "model_id": "eaa3f78ddca2417d86dd16233a0516c5",
       "version_major": 2,
       "version_minor": 0
      },
      "text/plain": [
       "interactive(children=(FloatSlider(value=1.0, description='gamma', max=5.0), Output()), _dom_classes=('widget-i…"
      ]
     },
     "metadata": {},
     "output_type": "display_data"
    }
   ],
   "source": [
    "interact(f, gamma=(0,5,.1));"
   ]
  },
  {
   "cell_type": "code",
   "execution_count": 21,
   "metadata": {},
   "outputs": [
    {
     "data": {
      "application/vnd.jupyter.widget-view+json": {
       "model_id": "c4fda62a90594a14a3e2ee180f0dc367",
       "version_major": 2,
       "version_minor": 0
      },
      "text/plain": [
       "Canvas(toolbar=Toolbar(toolitems=[('Home', 'Reset original view', 'home', 'home'), ('Back', 'Back to previous …"
      ]
     },
     "metadata": {},
     "output_type": "display_data"
    }
   ],
   "source": [
    "# base change rule   log_b(x)=log_c(x)/log_c(b)\n",
    "I = plt.imread('washed.jpeg').astype('float')\n",
    "plt.figure()\n",
    "\n",
    "def loG(const=np.exp(1)):\n",
    "    I = plt.imread('washed.jpeg').astype('float')\n",
    "    c = 255/((np.log(1+np.max(I)))/np.log(const)) # the log base will be the const\n",
    "    log_trasform = c * np.log(1+I)\n",
    "    log_trasform = np.array(log_trasform, dtype= np.uint8)\n",
    "    plt.clf()\n",
    "    plt.imshow(log_trasform-log_trasform.min())"
   ]
  },
  {
   "cell_type": "code",
   "execution_count": 22,
   "metadata": {},
   "outputs": [
    {
     "data": {
      "application/vnd.jupyter.widget-view+json": {
       "model_id": "5480027ed24643259013514b0a6795c6",
       "version_major": 2,
       "version_minor": 0
      },
      "text/plain": [
       "interactive(children=(FloatSlider(value=2.718281828459045, description='const', max=10.0, step=0.05), Output()…"
      ]
     },
     "metadata": {},
     "output_type": "display_data"
    }
   ],
   "source": [
    "interact(loG, const=(0,10,.05));"
   ]
  },
  {
   "cell_type": "code",
   "execution_count": 10,
   "metadata": {},
   "outputs": [
    {
     "data": {
      "application/vnd.jupyter.widget-view+json": {
       "model_id": "ec84aa2021dc4282b23e0a355043264d",
       "version_major": 2,
       "version_minor": 0
      },
      "text/plain": [
       "Canvas(toolbar=Toolbar(toolitems=[('Home', 'Reset original view', 'home', 'home'), ('Back', 'Back to previous …"
      ]
     },
     "metadata": {},
     "output_type": "display_data"
    }
   ],
   "source": [
    "I = plt.imread('washed_city.jpg').astype('float')\n",
    "normer = colors.Normalize(vmin=.4*255, vmax=.8*255, clip = True)\n",
    "IN = normer(I)\n",
    "\n",
    "#The histogram bins are just let's say 256 bins in [0,1]\n",
    "bins = np.arange(256)/256\n",
    "f, axarr = plt.subplots(1,2, figsize=(10, 3))\n",
    "\n",
    "\n",
    "axarr[0].imshow(IN) #https://matplotlib.org/api/_as_gen/matplotlib.pyplot.imshow.html\n",
    "axarr[0].set_title('Washed Out Image')\n",
    "\n",
    "axarr[1].hist(IN[...,0].ravel(), bins, alpha = .6, label = 'red', color = 'r')\n",
    "axarr[1].hist(IN[...,1].ravel(), bins, alpha = .6, label = 'green', color = 'g')\n",
    "axarr[1].hist(IN[...,2].ravel(), bins, alpha = .6, label = 'blue', color = 'b')\n",
    "axarr[1].legend(loc = 'upper right')\n",
    "plt.show()\n",
    "\n",
    "def window(a=.1,b=.9):\n",
    "    I = plt.imread('washed_city.jpg').astype('float')\n",
    "    normer = colors.Normalize(vmin=a*255, vmax=b*255, clip = True)\n",
    "    IN = normer(I)\n",
    "    [ax.cla() for ax in axarr]\n",
    "#    plt.clf(axarr[0])\n",
    " #   plt.clf(axarr[1])\n",
    "    #axarr[1].clf()\n",
    "    \n",
    "    axarr[0].imshow(IN)\n",
    "    \n",
    "    axarr[1].hist(IN[...,0].ravel(), bins, alpha = .6, label = 'red', color = 'r')\n",
    "    axarr[1].hist(IN[...,1].ravel(), bins, alpha = .6, label = 'green', color = 'g')\n",
    "    axarr[1].hist(IN[...,2].ravel(), bins, alpha = .6, label = 'blue', color = 'b')\n",
    "    \n",
    "    "
   ]
  },
  {
   "cell_type": "code",
   "execution_count": 11,
   "metadata": {},
   "outputs": [
    {
     "data": {
      "application/vnd.jupyter.widget-view+json": {
       "model_id": "f7204b5c8ab04545bab4bc31edc19759",
       "version_major": 2,
       "version_minor": 0
      },
      "text/plain": [
       "interactive(children=(FloatSlider(value=0.1, description='a', max=1.0, step=0.05), FloatSlider(value=0.9, desc…"
      ]
     },
     "metadata": {},
     "output_type": "display_data"
    }
   ],
   "source": [
    "interact(window, a=(0,1,.05),b=(0,1,.05));"
   ]
  },
  {
   "cell_type": "code",
   "execution_count": 12,
   "metadata": {},
   "outputs": [
    {
     "data": {
      "application/vnd.jupyter.widget-view+json": {
       "model_id": "15f92286ee0143749bd8113a91bc695a",
       "version_major": 2,
       "version_minor": 0
      },
      "text/plain": [
       "Canvas(toolbar=Toolbar(toolitems=[('Home', 'Reset original view', 'home', 'home'), ('Back', 'Back to previous …"
      ]
     },
     "metadata": {},
     "output_type": "display_data"
    }
   ],
   "source": [
    "f, axarr3 = plt.subplots(2,2, figsize=(8,8),sharex=True, sharey=True)\n",
    "def gamma_withmask(cutoff=60,gamma=1):\n",
    "    I = plt.imread('dan.jpg')\n",
    "    \n",
    "    Ic = I.copy().astype(float)\n",
    "    gamma_corrected = np.array(255*(I / 255) ** gamma, dtype = 'uint8')\n",
    "    gamma_corrected = gamma_corrected/gamma_corrected.ravel().max()\n",
    "    \n",
    "    \n",
    "    \n",
    "    Inew = np.zeros(Ic.shape)\n",
    "    blueThresh = I[...,2] > cutoff #50\n",
    "\n",
    "    Ic = Ic/Ic.ravel().max() #place Ic in [0,1] like Ilog.\n",
    "\n",
    "    for c in range(3): #Use original if intensity was bright enough.\n",
    "        Inew[blueThresh, c] = Ic[blueThresh, c]\n",
    "\n",
    "    for c in range(3): #Use log transformed if too dark.\n",
    "        Inew[~blueThresh, c] = gamma_corrected[~blueThresh, c]\n",
    "    \n",
    "    \n",
    "    #[ax.cla() for ax in axarr3]\n",
    "    plt.cla()\n",
    "    \n",
    "    axarr3[0,0].imshow(I)\n",
    "    axarr3[0,0].set_title('Original')\n",
    "\n",
    "    axarr3[0,1].imshow(gamma_corrected)\n",
    "    axarr3[0,1].set_title('Gamma Transformed')\n",
    "\n",
    "    axarr3[1,0].imshow(blueThresh.astype(float))\n",
    "    axarr3[1,0].set_title('Threshold Mask')\n",
    "\n",
    "    axarr3[1,1].imshow(Inew)\n",
    "    axarr3[1,1].set_title('Half and Half')\n",
    "    axarr3[1,1].set_title('Half and Half')\n",
    "    \n",
    "    "
   ]
  },
  {
   "cell_type": "code",
   "execution_count": 13,
   "metadata": {},
   "outputs": [
    {
     "data": {
      "application/vnd.jupyter.widget-view+json": {
       "model_id": "93300a8c5c3d459d8680c2880aefeaea",
       "version_major": 2,
       "version_minor": 0
      },
      "text/plain": [
       "interactive(children=(IntSlider(value=60, description='cutoff', max=255), FloatSlider(value=1.0, description='…"
      ]
     },
     "metadata": {},
     "output_type": "display_data"
    }
   ],
   "source": [
    "interact(gamma_withmask, cutoff=(0,255,1),gamma=(-1,1,.01));"
   ]
  },
  {
   "cell_type": "code",
   "execution_count": 14,
   "metadata": {},
   "outputs": [
    {
     "data": {
      "application/vnd.jupyter.widget-view+json": {
       "model_id": "",
       "version_major": 2,
       "version_minor": 0
      },
      "text/plain": [
       "Canvas(toolbar=Toolbar(toolitems=[('Home', 'Reset original view', 'home', 'home'), ('Back', 'Back to previous …"
      ]
     },
     "metadata": {},
     "output_type": "display_data"
    }
   ],
   "source": [
    "f, axarr3 = plt.subplots(2,2, figsize=(8,8),sharex=True, sharey=True)\n",
    "def window_withmask(cutoff=60,a=0,b=1):\n",
    "    I = plt.imread('dan.jpg')\n",
    "    \n",
    "    Ic = I.copy().astype(float)\n",
    "    \n",
    "    normer = colors.Normalize(vmin=a*255, vmax=b*255, clip = True)\n",
    "    IN = normer(I)\n",
    "    \n",
    "    \n",
    "    Inew = np.zeros(Ic.shape)\n",
    "    blueThresh = I[...,2] > cutoff #50\n",
    "\n",
    "    Ic = Ic/Ic.ravel().max() #place Ic in [0,1] like Ilog.\n",
    "\n",
    "    for c in range(3): #Use original if intensity was bright enough.\n",
    "        Inew[blueThresh, c] = Ic[blueThresh, c]\n",
    "\n",
    "    for c in range(3): #Use log transformed if too dark.\n",
    "        Inew[~blueThresh, c] = IN[~blueThresh, c]\n",
    "    \n",
    "    \n",
    "    #[ax.cla() for ax in axarr3]\n",
    "    plt.cla()\n",
    "    \n",
    "    axarr3[0,0].imshow(I)\n",
    "    axarr3[0,0].set_title('Original')\n",
    "\n",
    "    axarr3[0,1].imshow(IN)\n",
    "    axarr3[0,1].set_title('Windowing')\n",
    "\n",
    "    axarr3[1,0].imshow(blueThresh.astype(float))\n",
    "    axarr3[1,0].set_title('Threshold Mask')\n",
    "\n",
    "    axarr3[1,1].imshow(Inew)\n",
    "    axarr3[1,1].set_title('Half and Half')\n",
    "    axarr3[1,1].set_title('Half and Half')"
   ]
  },
  {
   "cell_type": "code",
   "execution_count": 15,
   "metadata": {},
   "outputs": [
    {
     "data": {
      "application/vnd.jupyter.widget-view+json": {
       "model_id": "90ac7b432b594dafab15a413754cf6d5",
       "version_major": 2,
       "version_minor": 0
      },
      "text/plain": [
       "interactive(children=(IntSlider(value=60, description='cutoff', max=255), FloatSlider(value=0.0, description='…"
      ]
     },
     "metadata": {},
     "output_type": "display_data"
    }
   ],
   "source": [
    "interact(window_withmask, cutoff=(0,255,1),a=(-1,1,.01),b=(0,2,.1));"
   ]
  },
  {
   "cell_type": "code",
   "execution_count": 16,
   "metadata": {},
   "outputs": [],
   "source": [
    "plt.close()"
   ]
  },
  {
   "cell_type": "code",
   "execution_count": null,
   "metadata": {},
   "outputs": [],
   "source": []
  }
 ],
 "metadata": {
  "kernelspec": {
   "display_name": "Python 3",
   "language": "python",
   "name": "python3"
  },
  "language_info": {
   "codemirror_mode": {
    "name": "ipython",
    "version": 3
   },
   "file_extension": ".py",
   "mimetype": "text/x-python",
   "name": "python",
   "nbconvert_exporter": "python",
   "pygments_lexer": "ipython3",
   "version": "3.7.6"
  }
 },
 "nbformat": 4,
 "nbformat_minor": 4
}
