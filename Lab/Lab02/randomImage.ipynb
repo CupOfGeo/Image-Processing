{
 "cells": [
  {
   "cell_type": "markdown",
   "metadata": {},
   "source": [
    "# Making a random image \n",
    "Joshua Stough, dip365\n",
    "\n",
    "You can use matplotlib widget only with the correct jupyter."
   ]
  },
  {
   "cell_type": "code",
   "execution_count": 1,
   "metadata": {},
   "outputs": [],
   "source": [
    "%matplotlib widget\n",
    "# %matplotlib inline\n",
    "import matplotlib.pyplot as plt\n",
    "import numpy as np\n",
    "import numpy.random as random"
   ]
  },
  {
   "cell_type": "code",
   "execution_count": 2,
   "metadata": {},
   "outputs": [
    {
     "data": {
      "application/vnd.jupyter.widget-view+json": {
       "model_id": "dde9fe885ee24293981bfc36d31d1d82",
       "version_major": 2,
       "version_minor": 0
      },
      "text/plain": [
       "Canvas(toolbar=Toolbar(toolitems=[('Home', 'Reset original view', 'home', 'home'), ('Back', 'Back to previous …"
      ]
     },
     "metadata": {},
     "output_type": "display_data"
    },
    {
     "data": {
      "text/plain": [
       "Text(0.5, 1.0, 'Normal Random Image')"
      ]
     },
     "execution_count": 2,
     "metadata": {},
     "output_type": "execute_result"
    }
   ],
   "source": [
    "f, axarr = plt.subplots(1,2, figsize=(10, 3))\n",
    "\n",
    "#Uniform first, rand in the range[0,1)\n",
    "IU = np.concatenate([random.rand(100,100,1) for x in range(3)], axis = 2)\n",
    "axarr[0].imshow(IU)\n",
    "axarr[0].set_title('Uniform Random Image')\n",
    "\n",
    "\n",
    "#Normal random, which is usually mean 0, var 1. We'll normalize intensities to\n",
    "#between [0,1]\n",
    "IN = np.concatenate([random.randn(100,100,1) for x in range(3)], axis = 2)\n",
    "IN = IN - IN.ravel().min() #Make the minimum 0\n",
    "IN = IN/IN.ravel().max()  #Make max 1\n",
    "axarr[1].imshow(IN)\n",
    "axarr[1].set_title('Normal Random Image')"
   ]
  },
  {
   "cell_type": "markdown",
   "metadata": {},
   "source": []
  }
 ],
 "metadata": {
  "kernelspec": {
   "display_name": "Python 3",
   "language": "python",
   "name": "python3"
  },
  "language_info": {
   "codemirror_mode": {
    "name": "ipython",
    "version": 3
   },
   "file_extension": ".py",
   "mimetype": "text/x-python",
   "name": "python",
   "nbconvert_exporter": "python",
   "pygments_lexer": "ipython3",
   "version": "3.7.6"
  }
 },
 "nbformat": 4,
 "nbformat_minor": 4
}
