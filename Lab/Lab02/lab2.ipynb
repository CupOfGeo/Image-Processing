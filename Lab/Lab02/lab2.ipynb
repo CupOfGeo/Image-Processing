{
 "cells": [
  {
   "cell_type": "code",
   "execution_count": 1,
   "metadata": {},
   "outputs": [
    {
     "data": {
      "application/vnd.jupyter.widget-view+json": {
       "model_id": "33a3e7d22c2041e8aeb6e84cad9923b4",
       "version_major": 2,
       "version_minor": 0
      },
      "text/plain": [
       "Canvas(toolbar=Toolbar(toolitems=[('Home', 'Reset original view', 'home', 'home'), ('Back', 'Back to previous …"
      ]
     },
     "metadata": {},
     "output_type": "display_data"
    }
   ],
   "source": [
    "%matplotlib widget \n",
    "#https://www.geeksforgeeks.org/python-intensity-transformation-operations-on-images/\n",
    "\"\"\"\n",
    "Joshua Stough\n",
    "DIP\n",
    "\n",
    "Viewing a washed-out image and its histogram.\n",
    "\"\"\"\n",
    "\n",
    "import matplotlib.pyplot as plt\n",
    "import numpy as np\n",
    "import numpy.random as random\n",
    "import matplotlib.colors as colors\n",
    "\n",
    "#We're going to normalize the image and deal with floating point.\n",
    "I = plt.imread('washed.jpeg').astype('float')\n",
    "I = I/I.ravel().max()\n",
    "\n",
    "#The histogram bins are just let's say 256 bins in [0,1]\n",
    "bins = np.arange(256)/256\n",
    "\n",
    "f, axarr = plt.subplots(1,2, figsize=(10, 3))\n",
    "\n",
    "axarr[0].imshow(I) #https://matplotlib.org/api/_as_gen/matplotlib.pyplot.imshow.html\n",
    "axarr[0].set_title('Washed Out Image')\n",
    "\n",
    "axarr[1].hist(I[...,0].ravel(), bins, alpha = .6, label = 'red', color = 'r')\n",
    "axarr[1].hist(I[...,1].ravel(), bins, alpha = .6, label = 'green', color = 'g')\n",
    "axarr[1].hist(I[...,2].ravel(), bins, alpha = .6, label = 'blue', color = 'b')\n",
    "axarr[1].legend(loc = 'upper right')\n",
    "plt.show()"
   ]
  },
  {
   "cell_type": "code",
   "execution_count": 2,
   "metadata": {},
   "outputs": [
    {
     "data": {
      "application/vnd.jupyter.widget-view+json": {
       "model_id": "246e6341735244599e29049fc7c9f6e5",
       "version_major": 2,
       "version_minor": 0
      },
      "text/plain": [
       "Canvas(toolbar=Toolbar(toolitems=[('Home', 'Reset original view', 'home', 'home'), ('Back', 'Back to previous …"
      ]
     },
     "metadata": {},
     "output_type": "display_data"
    }
   ],
   "source": [
    "#We're going to normalize the image and deal with floating point.\n",
    "I = plt.imread('washed.jpeg').astype('float')\n",
    "\n",
    "#I = (I-I.ravel().min())/I.ravel().max()\n",
    "a=I.ravel().min()\n",
    "b=I.ravel().max()\n",
    "\n",
    "slope = (1)/(b-a)\n",
    "c = -a/(b-a)\n",
    "\n",
    "I = slope*I+c\n",
    "\n",
    "#The histogram bins are just let's say 256 bins in [0,1]\n",
    "bins = np.arange(256)/256\n",
    "f, axarr = plt.subplots(2,2, figsize=(20, 20), sharey=True, sharex=True)\n",
    "\n",
    "axarr[0,0].imshow(I) #https://matplotlib.org/api/_as_gen/matplotlib.pyplot.imshow.html\n",
    "axarr[0,0].set_title('Normalized Image')\n",
    "\n",
    "#axarr[1,0].hist(I[...,0].ravel(), bins, alpha = .6, label = 'red', color = 'r')\n",
    "#axarr[1,0].hist(I[...,1].ravel(), bins, alpha = .6, label = 'green', color = 'g')\n",
    "#axarr[1,0].hist(I[...,2].ravel(), bins, alpha = .6, label = 'blue', color = 'b')\n",
    "#axarr[1,0].legend(loc = 'upper right')\n",
    "\n",
    "\n",
    "I = plt.imread('washed.jpeg').astype('float')\n",
    "I = I/I.ravel().max()\n",
    "\n",
    "axarr[0,1].imshow(I) #https://matplotlib.org/api/_as_gen/matplotlib.pyplot.imshow.html\n",
    "axarr[0,1].set_title('Original Image')\n",
    "\n",
    "#axarr[1,1].hist(I[...,0].ravel(), bins, alpha = .6, label = 'red', color = 'r')\n",
    "#axarr[1,1].hist(I[...,1].ravel(), bins, alpha = .6, label = 'green', color = 'g')\n",
    "#axarr[1,1].hist(I[...,2].ravel(), bins, alpha = .6, label = 'blue', color = 'b')\n",
    "#axarr[1,1].legend(loc = 'upper right')\n",
    "\n",
    "\n",
    "plt.show()"
   ]
  },
  {
   "cell_type": "code",
   "execution_count": 3,
   "metadata": {},
   "outputs": [],
   "source": [
    "\n",
    "I = plt.imread('washed.jpeg').astype('float')"
   ]
  },
  {
   "cell_type": "code",
   "execution_count": 4,
   "metadata": {},
   "outputs": [
    {
     "data": {
      "application/vnd.jupyter.widget-view+json": {
       "model_id": "d569d775580f4c57b01499d723d32d6a",
       "version_major": 2,
       "version_minor": 0
      },
      "text/plain": [
       "Canvas(toolbar=Toolbar(toolitems=[('Home', 'Reset original view', 'home', 'home'), ('Back', 'Back to previous …"
      ]
     },
     "metadata": {},
     "output_type": "display_data"
    }
   ],
   "source": [
    "normer = colors.Normalize(vmin=0, vmax=200, clip = True)\n",
    "IN = normer(I)\n",
    "\n",
    "#The histogram bins are just let's say 256 bins in [0,1]\n",
    "bins = np.arange(256)/256\n",
    "f, axarr = plt.subplots(1,2, figsize=(10, 3))\n",
    "\n",
    "axarr[0].imshow(IN) #https://matplotlib.org/api/_as_gen/matplotlib.pyplot.imshow.html\n",
    "axarr[0].set_title('Washed Out Image')\n",
    "\n",
    "axarr[1].hist(IN[...,0].ravel(), bins, alpha = .6, label = 'red', color = 'r')\n",
    "axarr[1].hist(IN[...,1].ravel(), bins, alpha = .6, label = 'green', color = 'g')\n",
    "axarr[1].hist(IN[...,2].ravel(), bins, alpha = .6, label = 'blue', color = 'b')\n",
    "axarr[1].legend(loc = 'upper right')\n",
    "plt.show()"
   ]
  },
  {
   "cell_type": "code",
   "execution_count": 5,
   "metadata": {},
   "outputs": [
    {
     "data": {
      "application/vnd.jupyter.widget-view+json": {
       "model_id": "e1975c77da6446c2b7bf99d7001545b0",
       "version_major": 2,
       "version_minor": 0
      },
      "text/plain": [
       "Canvas(toolbar=Toolbar(toolitems=[('Home', 'Reset original view', 'home', 'home'), ('Back', 'Back to previous …"
      ]
     },
     "metadata": {},
     "output_type": "display_data"
    }
   ],
   "source": [
    "I = plt.imread('washed.jpeg').astype('float')\n",
    "\n",
    "normer = colors.Normalize(vmin=0, vmax=255, clip = True)\n",
    "IN = normer(I)\n",
    "\n",
    "#The histogram bins are just let's say 256 bins in [0,1]\n",
    "bins = np.arange(256)/256\n",
    "f, axarr = plt.subplots(1,2, figsize=(10, 3))\n",
    "\n",
    "axarr[0].imshow(IN) #https://matplotlib.org/api/_as_gen/matplotlib.pyplot.imshow.html\n",
    "\n",
    "axarr[0].set_title('Washed Out Image')\n",
    "\n",
    "axarr[1].hist(IN[...,0].ravel(), bins, alpha = .6, label = 'red', color = 'r')\n",
    "axarr[1].hist(IN[...,1].ravel(), bins, alpha = .6, label = 'green', color = 'g')\n",
    "axarr[1].hist(IN[...,2].ravel(), bins, alpha = .6, label = 'blue', color = 'b')\n",
    "axarr[1].legend(loc = 'upper right')\n",
    "plt.show()"
   ]
  },
  {
   "cell_type": "code",
   "execution_count": 6,
   "metadata": {},
   "outputs": [
    {
     "data": {
      "application/vnd.jupyter.widget-view+json": {
       "model_id": "49d40ab67172468bbe5508d538ef9750",
       "version_major": 2,
       "version_minor": 0
      },
      "text/plain": [
       "Canvas(toolbar=Toolbar(toolitems=[('Home', 'Reset original view', 'home', 'home'), ('Back', 'Back to previous …"
      ]
     },
     "metadata": {},
     "output_type": "display_data"
    }
   ],
   "source": [
    "from __future__ import print_function\n",
    "from ipywidgets import interact, interactive, fixed, interact_manual\n",
    "import ipywidgets as widgets\n",
    "\n",
    "\n",
    "I = plt.imread('washed.jpeg').astype('float')\n",
    "c = 255/(np.log(1+np.max(I)))\n",
    "log_trasform = c * np.log(1+I)\n",
    "log_trasform = np.array(log_trasform, dtype= np.uint8)\n",
    "plt.figure()\n",
    "\n",
    "def f(gamma=1):\n",
    "    gamma_corrected = np.array(255*(I / 255) ** gamma, dtype = 'uint8')\n",
    "    plt.clf()\n",
    "    plt.imshow(gamma_corrected)\n",
    "\n",
    "\n",
    "\n",
    "\n",
    "\n"
   ]
  },
  {
   "cell_type": "code",
   "execution_count": 8,
   "metadata": {},
   "outputs": [
    {
     "data": {
      "application/vnd.jupyter.widget-view+json": {
       "model_id": "687532679eda43008a423a68b3fe6920",
       "version_major": 2,
       "version_minor": 0
      },
      "text/plain": [
       "interactive(children=(FloatSlider(value=1.0, description='gamma', max=5.0), Output()), _dom_classes=('widget-i…"
      ]
     },
     "metadata": {},
     "output_type": "display_data"
    }
   ],
   "source": [
    "interact(f, gamma=(0,5,.1));"
   ]
  },
  {
   "cell_type": "code",
   "execution_count": null,
   "metadata": {},
   "outputs": [],
   "source": []
  }
 ],
 "metadata": {
  "kernelspec": {
   "display_name": "Python 3",
   "language": "python",
   "name": "python3"
  },
  "language_info": {
   "codemirror_mode": {
    "name": "ipython",
    "version": 3
   },
   "file_extension": ".py",
   "mimetype": "text/x-python",
   "name": "python",
   "nbconvert_exporter": "python",
   "pygments_lexer": "ipython3",
   "version": "3.7.6"
  }
 },
 "nbformat": 4,
 "nbformat_minor": 4
}
