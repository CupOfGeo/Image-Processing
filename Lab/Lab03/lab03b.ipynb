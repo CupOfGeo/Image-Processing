{
 "cells": [
  {
   "cell_type": "code",
   "execution_count": 1,
   "metadata": {},
   "outputs": [],
   "source": [
    "%matplotlib widget\n",
    "import matplotlib.pyplot as plt\n",
    "import scipy.ndimage as ndimage\n",
    "import numpy as np"
   ]
  },
  {
   "cell_type": "code",
   "execution_count": 4,
   "metadata": {},
   "outputs": [
    {
     "data": {
      "application/vnd.jupyter.widget-view+json": {
       "model_id": "",
       "version_major": 2,
       "version_minor": 0
      },
      "text/plain": [
       "Canvas(toolbar=Toolbar(toolitems=[('Home', 'Reset original view', 'home', 'home'), ('Back', 'Back to previous …"
      ]
     },
     "metadata": {},
     "output_type": "display_data"
    }
   ],
   "source": [
    "from __future__ import print_function\n",
    "from ipywidgets import interact, interactive, fixed, interact_manual\n",
    "import ipywidgets as widgets\n",
    "\n",
    "#simple blur\n",
    "def mymean(x):\n",
    "    return x.mean()\n",
    "\n",
    "def mymin(x):\n",
    "    return x.min()\n",
    "\n",
    "def mymax(x):\n",
    "    return x.max()\n",
    "\n",
    "def mymed(x):\n",
    "    return np.median(x)\n",
    "\n",
    "def myFilt(x):\n",
    "#print(\"HIT MEW\")\n",
    "    size=5\n",
    "    f = np.ones(x.size)\n",
    "    f = -f # outsizes are negative\n",
    "    if size == 0:\n",
    "        return x\n",
    "    \n",
    "    if size%2 == 0: # even gonna take the mid four\n",
    "        m = np.ones((2,2))\n",
    "        if size == 2:\n",
    "            m = m/4 # boring average\n",
    "            return np.dot(f,m)\n",
    "        else:\n",
    "            m*((size*size-4)/4) # the rest of the matrrix is -1 so the mid 4 values are size^2-4 then divide by 4 to multiply each value by\n",
    "            return np.dot(f,m)\n",
    "    else: # odd going to take the mid\n",
    "        mid = (size//2)\n",
    "        f[mid,mid] = (size*size)-1 # center is the only positive that keeps the sum of the filter 0 \n",
    "        return np.dot(f,x)\n",
    "\n",
    "plt.figure()\n",
    "\n",
    "def My_generic_filter(s=5,filts=0):\n",
    "    I = plt.imread('earth.jpg').astype(float)\n",
    "    I = I/I.max()\n",
    "\n",
    "    Ib = np.zeros(I.shape)\n",
    "    Out = np.zeros(I.shape[:2])\n",
    "    plt.clf()\n",
    "\n",
    "    for chan in range(3):\n",
    "        if filts == 0:\n",
    "            Ib = I.copy()\n",
    "            plt.title(str(\"No filter size=\"+str(s)))\n",
    "            \n",
    "        elif filts == 1:\n",
    "            ndimage.generic_filter(I[:, :, chan], function=mymean, size=s, output=Out, mode='reflect')\n",
    "            Ib[...,chan] = Out.copy();\n",
    "            plt.title(str(\"Mean filter size=\"+str(s)))\n",
    "        \n",
    "        elif filts ==2:\n",
    "            ndimage.generic_filter(I[:, :, chan], function=mymin, size=s, output=Out, mode='reflect')\n",
    "            Ib[...,chan] = Out.copy();\n",
    "            plt.title(str(\"Min filter size=\"+str(s)))\n",
    "    \n",
    "        elif filts == 3:\n",
    "            ndimage.generic_filter(I[:, :, chan], function=mymax, size=s, output=Out, mode='reflect')\n",
    "            Ib[...,chan] = Out.copy();\n",
    "            plt.title(str(\"Max filter size=\"+str(s)))\n",
    "            \n",
    "        elif filts == 4:\n",
    "            ndimage.generic_filter(I[:, :, chan], function=myFilt, size=s, output=Out, mode='reflect')\n",
    "            Ib[...,chan] = Out.copy();\n",
    "            plt.title(str(\"My filter size=\"+str(s)))\n",
    "            \n",
    "        else:\n",
    "            Ib = I.copy()\n",
    "            print(\"ERROR\")\n",
    "    \n",
    "\n",
    "    \n",
    "    plt.imshow(Ib)\n",
    "    \n",
    "\n",
    "\n"
   ]
  },
  {
   "cell_type": "code",
   "execution_count": 3,
   "metadata": {},
   "outputs": [
    {
     "data": {
      "application/vnd.jupyter.widget-view+json": {
       "model_id": "35860f3f020f402288320ec88716389f",
       "version_major": 2,
       "version_minor": 0
      },
      "text/plain": [
       "interactive(children=(IntSlider(value=5, description='s', max=10, min=1), IntSlider(value=0, description='filt…"
      ]
     },
     "metadata": {},
     "output_type": "display_data"
    },
    {
     "data": {
      "text/plain": [
       "<function __main__.My_generic_filter(s=5, filts=0)>"
      ]
     },
     "execution_count": 3,
     "metadata": {},
     "output_type": "execute_result"
    }
   ],
   "source": [
    "interact(My_generic_filter, s=(1,10),filts=(0,4))"
   ]
  },
  {
   "cell_type": "code",
   "execution_count": 13,
   "metadata": {},
   "outputs": [],
   "source": [
    "from scipy.ndimage import correlate"
   ]
  },
  {
   "cell_type": "code",
   "execution_count": 37,
   "metadata": {},
   "outputs": [
    {
     "data": {
      "application/vnd.jupyter.widget-view+json": {
       "model_id": "127441ce1a7e44f78fc6fab56d27a07c",
       "version_major": 2,
       "version_minor": 0
      },
      "text/plain": [
       "Canvas(toolbar=Toolbar(toolitems=[('Home', 'Reset original view', 'home', 'home'), ('Back', 'Back to previous …"
      ]
     },
     "metadata": {},
     "output_type": "display_data"
    },
    {
     "name": "stderr",
     "output_type": "stream",
     "text": [
      "Clipping input data to the valid range for imshow with RGB data ([0..1] for floats or [0..255] for integers).\n"
     ]
    },
    {
     "data": {
      "text/plain": [
       "<matplotlib.image.AxesImage at 0x7fd51c0db550>"
      ]
     },
     "execution_count": 37,
     "metadata": {},
     "output_type": "execute_result"
    }
   ],
   "source": [
    "I = plt.imread('feather.jpg').astype(float)\n",
    "I = I/I.max()\n",
    "\n",
    "Ib = np.zeros(I.shape)\n",
    "Out = np.zeros(I.shape[:2])\n",
    "\n",
    "size =5\n",
    "def myFilt(x):\n",
    "    f = np.ones(x.shape)\n",
    "    f = -f # outsizes are negative\n",
    "    mid = (size//2)\n",
    "    f[mid,mid] = (size*size)-1 # center is the only positive that keeps the sum of the filter 0 \n",
    "    return np.dot(f,x)\n",
    "\n",
    "\n",
    "def blur_with_correlate(I):\n",
    "    size = 5\n",
    "    #f = np.zeros((size,size))\n",
    "    #f = -f # outsizes are negative\n",
    "    #mid = (size//2)\n",
    "    #f[mid,mid] = (size*size)-1 # center is the only positive that keeps the sum of the filter 0 \n",
    "    \n",
    "    fil = np.array([[10,10,0],[10,0,-10],[0,-10,-10]])\n",
    "    \n",
    "\n",
    "    Ib = np.zeros(I.shape)\n",
    "    \n",
    "    for chan in range(3):\n",
    "        Ib[...,chan] = correlate(I[...,chan], fil)\n",
    "    \n",
    "    return Ib\n",
    "fig, ax = plt.subplots(1,2, figsize=(10,3),sharex=True, sharey=True)\n",
    "\n",
    "\n",
    "Ib = blur_with_correlate(I)\n",
    "ax[0].imshow(Ib)\n",
    "ax[1].imshow(I)"
   ]
  },
  {
   "cell_type": "code",
   "execution_count": 39,
   "metadata": {},
   "outputs": [
    {
     "data": {
      "text/plain": [
       "array([[ 10,  10,   0],\n",
       "       [ 10,   0, -10],\n",
       "       [  0, -10, -10]])"
      ]
     },
     "execution_count": 39,
     "metadata": {},
     "output_type": "execute_result"
    }
   ],
   "source": [
    "fil = np.array([[10,10,0],[10,0,-10],[0,-10,-10]])\n",
    "fil"
   ]
  },
  {
   "cell_type": "code",
   "execution_count": null,
   "metadata": {},
   "outputs": [],
   "source": []
  }
 ],
 "metadata": {
  "kernelspec": {
   "display_name": "Python 3",
   "language": "python",
   "name": "python3"
  },
  "language_info": {
   "codemirror_mode": {
    "name": "ipython",
    "version": 3
   },
   "file_extension": ".py",
   "mimetype": "text/x-python",
   "name": "python",
   "nbconvert_exporter": "python",
   "pygments_lexer": "ipython3",
   "version": "3.7.6"
  }
 },
 "nbformat": 4,
 "nbformat_minor": 4
}
