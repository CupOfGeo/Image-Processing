{
 "cells": [
  {
   "cell_type": "code",
   "execution_count": 11,
   "metadata": {},
   "outputs": [
    {
     "ename": "IndexError",
     "evalue": "boolean index did not match indexed array along dimension 0; dimension is 1200 but corresponding boolean dimension is 4032",
     "output_type": "error",
     "traceback": [
      "\u001b[0;31m---------------------------------------------------------------------------\u001b[0m",
      "\u001b[0;31mIndexError\u001b[0m                                Traceback (most recent call last)",
      "\u001b[0;32m<ipython-input-11-2811294aec09>\u001b[0m in \u001b[0;36m<module>\u001b[0;34m\u001b[0m\n\u001b[1;32m     28\u001b[0m     \u001b[0mIr\u001b[0m \u001b[0;34m=\u001b[0m \u001b[0mnp\u001b[0m\u001b[0;34m.\u001b[0m\u001b[0minterp\u001b[0m\u001b[0;34m(\u001b[0m\u001b[0mI\u001b[0m\u001b[0;34m[\u001b[0m\u001b[0;34m...\u001b[0m\u001b[0;34m,\u001b[0m\u001b[0mchannel\u001b[0m\u001b[0;34m]\u001b[0m\u001b[0;34m,\u001b[0m \u001b[0mxp\u001b[0m\u001b[0;34m=\u001b[0m\u001b[0mbins\u001b[0m\u001b[0;34m[\u001b[0m\u001b[0;34m:\u001b[0m\u001b[0;34m-\u001b[0m\u001b[0;36m1\u001b[0m\u001b[0;34m]\u001b[0m\u001b[0;34m,\u001b[0m \u001b[0mfp\u001b[0m\u001b[0;34m=\u001b[0m\u001b[0mCDF\u001b[0m\u001b[0;34m)\u001b[0m\u001b[0;34m\u001b[0m\u001b[0;34m\u001b[0m\u001b[0m\n\u001b[1;32m     29\u001b[0m \u001b[0;34m\u001b[0m\u001b[0m\n\u001b[0;32m---> 30\u001b[0;31m     \u001b[0mIE\u001b[0m\u001b[0;34m[\u001b[0m\u001b[0;34m~\u001b[0m\u001b[0mbluemask\u001b[0m\u001b[0;34m,\u001b[0m\u001b[0mchannel\u001b[0m\u001b[0;34m]\u001b[0m \u001b[0;34m=\u001b[0m \u001b[0mIr\u001b[0m\u001b[0;34m\u001b[0m\u001b[0;34m\u001b[0m\u001b[0m\n\u001b[0m\u001b[1;32m     31\u001b[0m \u001b[0;34m\u001b[0m\u001b[0m\n\u001b[1;32m     32\u001b[0m     \u001b[0;31m#print(I[...,channel]) intensity values 0 to 1\u001b[0m\u001b[0;34m\u001b[0m\u001b[0;34m\u001b[0m\u001b[0;34m\u001b[0m\u001b[0m\n",
      "\u001b[0;31mIndexError\u001b[0m: boolean index did not match indexed array along dimension 0; dimension is 1200 but corresponding boolean dimension is 4032"
     ]
    }
   ],
   "source": [
    "\"\"\"\n",
    "Joshua Stough\n",
    "DIP\n",
    "\n",
    "Histogram equalization on a color image, with plotting of the histograms.\n",
    "\"\"\"\n",
    "%matplotlib widget\n",
    "import matplotlib.pyplot as plt\n",
    "import scipy.ndimage as ndimage\n",
    "import numpy as np\n",
    "\n",
    "\n",
    "#Load an image and normalize to [0,1]\n",
    "I = plt.imread('underExposed.jpg').astype(float)\n",
    "I = I - I.ravel().min()\n",
    "I = I/I.ravel().max()\n",
    "\n",
    "\n",
    "\n",
    "#Scaled per channel\n",
    "\n",
    "IE = np.zeros(I.shape)\n",
    "cha = ['r','g','b']\n",
    "for channel in range(3):\n",
    "    hist, bins = np.histogram(I[...,channel], bins=np.arange(257) / 256)\n",
    "    CDF = np.cumsum(hist) / sum(hist)\n",
    "\n",
    "    Ir = np.interp(I[...,channel], xp=bins[:-1], fp=CDF)\n",
    "    \n",
    "    IE[...,channel] = Ir\n",
    "\n",
    "    #print(I[...,channel]) intensity values 0 to 1\n",
    "    plt.plot(bins[:-1], CDF, cha[channel]);\n",
    "\n",
    "\n",
    "\n",
    "allbins = np.unique(I.ravel())\n",
    "\n",
    "f, ax1 = plt.subplots(1,2, figsize=(10,3))\n",
    "ax1[0].imshow(I) #https://matplotlib.org/api/_as_gen/matplotlib.pyplot.imshow.html\n",
    "ax1[0].set_title('Original Image')\n",
    "\n",
    "ax1[1].hist(I[...,0].ravel(), allbins, alpha = .6, label = 'red', color = 'r')\n",
    "ax1[1].hist(I[...,1].ravel(), allbins, alpha = .6, label = 'green', color = 'g')\n",
    "ax1[1].hist(I[...,2].ravel(), allbins, alpha = .6, label = 'blue', color = 'b')\n",
    "ax1[1].legend(loc = 'upper right')\n",
    "plt.show()\n",
    "\n",
    "\n",
    "\n",
    "\n",
    "f, ax2 = plt.subplots(1,2, figsize=(10,3))\n",
    "ax2[0].imshow(IE) #https://matplotlib.org/api/_as_gen/matplotlib.pyplot.imshow.html\n",
    "ax2[0].set_title('Image Equalized Per Channel')\n",
    "\n",
    "ax2[1].hist(IE[...,0].ravel(), 250, alpha = .6, label = 'red', color = 'r')\n",
    "ax2[1].hist(IE[...,1].ravel(), 250, alpha = .6, label = 'green', color = 'g')\n",
    "ax2[1].hist(IE[...,2].ravel(), 250, alpha = .6, label = 'blue', color = 'b')\n",
    "ax2[1].legend(loc = 'upper right')\n",
    "plt.show()\n"
   ]
  },
  {
   "cell_type": "code",
   "execution_count": 5,
   "metadata": {},
   "outputs": [
    {
     "data": {
      "application/vnd.jupyter.widget-view+json": {
       "model_id": "",
       "version_major": 2,
       "version_minor": 0
      },
      "text/plain": [
       "Canvas(toolbar=Toolbar(toolitems=[('Home', 'Reset original view', 'home', 'home'), ('Back', 'Back to previous …"
      ]
     },
     "metadata": {},
     "output_type": "display_data"
    },
    {
     "data": {
      "application/vnd.jupyter.widget-view+json": {
       "model_id": "",
       "version_major": 2,
       "version_minor": 0
      },
      "text/plain": [
       "Canvas(toolbar=Toolbar(toolitems=[('Home', 'Reset original view', 'home', 'home'), ('Back', 'Back to previous …"
      ]
     },
     "metadata": {},
     "output_type": "display_data"
    },
    {
     "data": {
      "application/vnd.jupyter.widget-view+json": {
       "model_id": "",
       "version_major": 2,
       "version_minor": 0
      },
      "text/plain": [
       "Canvas(toolbar=Toolbar(toolitems=[('Home', 'Reset original view', 'home', 'home'), ('Back', 'Back to previous …"
      ]
     },
     "metadata": {},
     "output_type": "display_data"
    },
    {
     "data": {
      "application/vnd.jupyter.widget-view+json": {
       "model_id": "",
       "version_major": 2,
       "version_minor": 0
      },
      "text/plain": [
       "Canvas(toolbar=Toolbar(toolitems=[('Home', 'Reset original view', 'home', 'home'), ('Back', 'Back to previous …"
      ]
     },
     "metadata": {},
     "output_type": "display_data"
    }
   ],
   "source": [
    "#Load an image and normalize to [0,1]\n",
    "I = plt.imread('skyandsea.jpg').astype(float)\n",
    "I = I - I.ravel().min()\n",
    "I = I/I.ravel().max()\n",
    "\n",
    "\n",
    "plt.figure()\n",
    "#Scaled per channel\n",
    "\n",
    "IE = np.zeros(I.shape)\n",
    "cha = ['r','g','b']\n",
    "for channel in range(3):\n",
    "    hist, bins = np.histogram(I[...,channel], bins=np.arange(257) / 256)\n",
    "    CDF = np.cumsum(hist) / sum(hist)\n",
    "\n",
    "    Ir = np.interp(I[...,channel], xp=bins[:-1], fp=CDF)\n",
    "    \n",
    "    IE[...,channel] = Ir\n",
    "\n",
    "    #print(I[...,channel]) intensity values 0 to 1\n",
    "\n",
    "    plt.plot(bins[:-1], CDF, cha[channel]);\n",
    "\n",
    "\n",
    "\n",
    "allbins = np.unique(I.ravel())\n",
    "\n",
    "f, ax1 = plt.subplots(1,2, figsize=(10,3))\n",
    "ax1[0].imshow(I) #https://matplotlib.org/api/_as_gen/matplotlib.pyplot.imshow.html\n",
    "ax1[0].set_title('Original Image')\n",
    "\n",
    "ax1[1].hist(I[...,0].ravel(), allbins, alpha = .6, label = 'red', color = 'r')\n",
    "ax1[1].hist(I[...,1].ravel(), allbins, alpha = .6, label = 'green', color = 'g')\n",
    "ax1[1].hist(I[...,2].ravel(), allbins, alpha = .6, label = 'blue', color = 'b')\n",
    "ax1[1].legend(loc = 'upper right')\n",
    "plt.show()\n",
    "\n",
    "\n",
    "\n",
    "\n",
    "f, ax2 = plt.subplots(1,2, figsize=(10,3))\n",
    "ax2[0].imshow(IE) #https://matplotlib.org/api/_as_gen/matplotlib.pyplot.imshow.html\n",
    "ax2[0].set_title('Image Equalized Per Channel')\n",
    "\n",
    "ax2[1].hist(IE[...,0].ravel(), 250, alpha = .6, label = 'red', color = 'r')\n",
    "ax2[1].hist(IE[...,1].ravel(), 250, alpha = .6, label = 'green', color = 'g')\n",
    "ax2[1].hist(IE[...,2].ravel(), 250, alpha = .6, label = 'blue', color = 'b')\n",
    "ax2[1].legend(loc = 'upper right')\n",
    "\n",
    "\n",
    "Ig = 0.2989 * I[..., 0] + 0.5870 * I[..., 1] + 0.1140 * I[..., 2]\n",
    "f, ax2 = plt.subplots(1,2, figsize=(10,3))\n",
    "ax2[0].imshow(Ig) #https://matplotlib.org/api/_as_gen/matplotlib.pyplot.imshow.html\n",
    "ax2[0].set_title('Image g Per Channel')\n",
    "\n",
    "ax2[1].hist(Ig[...,0].ravel(), 250, alpha = .6, label = 'red', color = 'r')\n",
    "ax2[1].hist(Ig[...,1].ravel(), 250, alpha = .6, label = 'green', color = 'g')\n",
    "ax2[1].hist(Ig[...,2].ravel(), 250, alpha = .6, label = 'blue', color = 'b')\n",
    "ax2[1].legend(loc = 'upper right')\n",
    "\n",
    "plt.show()"
   ]
  },
  {
   "cell_type": "code",
   "execution_count": null,
   "metadata": {},
   "outputs": [],
   "source": []
  },
  {
   "cell_type": "code",
   "execution_count": 25,
   "metadata": {},
   "outputs": [
    {
     "data": {
      "application/vnd.jupyter.widget-view+json": {
       "model_id": "36c0ba0d4069442f850cda03edb01aa3",
       "version_major": 2,
       "version_minor": 0
      },
      "text/plain": [
       "Canvas(toolbar=Toolbar(toolitems=[('Home', 'Reset original view', 'home', 'home'), ('Back', 'Back to previous …"
      ]
     },
     "metadata": {},
     "output_type": "display_data"
    },
    {
     "data": {
      "application/vnd.jupyter.widget-view+json": {
       "model_id": "22687f74c1454520abfd36aa7a178403",
       "version_major": 2,
       "version_minor": 0
      },
      "text/plain": [
       "Canvas(toolbar=Toolbar(toolitems=[('Home', 'Reset original view', 'home', 'home'), ('Back', 'Back to previous …"
      ]
     },
     "metadata": {},
     "output_type": "display_data"
    },
    {
     "name": "stderr",
     "output_type": "stream",
     "text": [
      "/usr/remote/anaconda-3.7-2020-01-14/lib/python3.7/site-packages/ipykernel_launcher.py:54: RuntimeWarning: More than 20 figures have been opened. Figures created through the pyplot interface (`matplotlib.pyplot.figure`) are retained until explicitly closed and may consume too much memory. (To control this warning, see the rcParam `figure.max_open_warning`).\n"
     ]
    },
    {
     "data": {
      "application/vnd.jupyter.widget-view+json": {
       "model_id": "2c935ca134754974bc834dfb6c2475da",
       "version_major": 2,
       "version_minor": 0
      },
      "text/plain": [
       "Canvas(toolbar=Toolbar(toolitems=[('Home', 'Reset original view', 'home', 'home'), ('Back', 'Back to previous …"
      ]
     },
     "metadata": {},
     "output_type": "display_data"
    }
   ],
   "source": [
    "\n",
    "#Load an image and normalize to [0,1]\n",
    "I = plt.imread('outside.jpg').astype(float)\n",
    "\n",
    "I = I - I.ravel().min()\n",
    "I = I/I.ravel().max()\n",
    "\n",
    "\n",
    "\n",
    "\n",
    "plt.figure()\n",
    "#Scaled per channel\n",
    "\n",
    "\n",
    "#blue mask between .8 and .9\n",
    "bluemask = I[...,2] > .8\n",
    "\n",
    "bluemask[2000:,:] = False # touch up sunflair\n",
    "bluemask[0:1400,0:2000] = True\n",
    "\n",
    "\n",
    "IE = np.zeros(I.shape)\n",
    "cha = ['r','g','b']\n",
    "for channel in range(3):\n",
    "    \n",
    "    hist, bins = np.histogram(I[...,channel], bins=np.arange(257) / 256)\n",
    "    CDF = np.cumsum(hist) / sum(hist)\n",
    "\n",
    "    Ir = np.interp(I[...,channel], xp=bins[:-1], fp=CDF)\n",
    "    \n",
    "    IE[...,channel] = Ir\n",
    "    IE[bluemask,channel] = I[bluemask,channel]\n",
    "\n",
    "    #print(I[...,channel]) intensity values 0 to 1\n",
    "\n",
    "    plt.plot(bins[:-1], CDF, cha[channel]);\n",
    "\n",
    "\n",
    "\n",
    "allbins = np.unique(I.ravel())\n",
    "\n",
    "f, ax1 = plt.subplots(1,2, figsize=(10,3))\n",
    "ax1[0].imshow(I) #https://matplotlib.org/api/_as_gen/matplotlib.pyplot.imshow.html\n",
    "ax1[0].set_title('Original Image')\n",
    "\n",
    "ax1[1].hist(I[...,0].ravel(), allbins, alpha = .6, label = 'red', color = 'r')\n",
    "ax1[1].hist(I[...,1].ravel(), allbins, alpha = .6, label = 'green', color = 'g')\n",
    "ax1[1].hist(I[...,2].ravel(), allbins, alpha = .6, label = 'blue', color = 'b')\n",
    "ax1[1].legend(loc = 'upper right')\n",
    "plt.show()\n",
    "\n",
    "\n",
    "\n",
    "\n",
    "f, ax2 = plt.subplots(1,2, figsize=(10,3))\n",
    "ax2[0].imshow(IE) #https://matplotlib.org/api/_as_gen/matplotlib.pyplot.imshow.html\n",
    "ax2[0].set_title('Image Equalized Per Channel')\n",
    "\n",
    "ax2[1].hist(IE[...,0].ravel(), 250, alpha = .6, label = 'red', color = 'r')\n",
    "ax2[1].hist(IE[...,1].ravel(), 250, alpha = .6, label = 'green', color = 'g')\n",
    "ax2[1].hist(IE[...,2].ravel(), 250, alpha = .6, label = 'blue', color = 'b')\n",
    "ax2[1].legend(loc = 'upper right')\n",
    "plt.show()\n"
   ]
  },
  {
   "cell_type": "code",
   "execution_count": 24,
   "metadata": {},
   "outputs": [
    {
     "data": {
      "text/plain": [
       "<matplotlib.image.AxesImage at 0x7f704225a750>"
      ]
     },
     "execution_count": 24,
     "metadata": {},
     "output_type": "execute_result"
    }
   ],
   "source": [
    "plt.imshow(bluemask)"
   ]
  },
  {
   "cell_type": "code",
   "execution_count": null,
   "metadata": {},
   "outputs": [],
   "source": []
  },
  {
   "cell_type": "code",
   "execution_count": null,
   "metadata": {},
   "outputs": [],
   "source": [
    "from __future__ import print_function\n",
    "from ipywidgets import interact, interactive, fixed, interact_manual\n",
    "import ipywidgets as widgets\n",
    "#Load an image and normalize to [0,1]\n",
    "#plt.figure()\n",
    "I = plt.imread('outside.jpg').astype(float)\n",
    "\n",
    "I = I - I.ravel().min()\n",
    "I = I/I.ravel().max()\n",
    "f, axarr = plt.subplots(1,3, figsize=(15, 5))\n",
    "axarr[0].imshow(I)\n",
    "axarr[1].imshow(I)\n",
    "axarr[2].imshow(I)\n",
    "\n",
    "def thresh(r=0.5,b=0.5,g=0.5):\n",
    "#Scaled per channel\n",
    "    [ax.cla() for ax in axarr]\n",
    "    blueThresh = I[...,2] > b\n",
    "    redThresh = I[...,1] > r\n",
    "    greenThresh = I[...,0] > g\n",
    "\n",
    "    axarr[0].imshow(blueThresh.astype(float))\n",
    "    axarr[1].imshow(redThresh.astype(float))\n",
    "    axarr[2].imshow(greenThresh.astype(float))\n",
    "    \n",
    "    \n"
   ]
  },
  {
   "cell_type": "code",
   "execution_count": null,
   "metadata": {},
   "outputs": [],
   "source": [
    "interact(thresh, r=(0,1,0.1),b=(0,1,0.05),g=(0,1,0.05))"
   ]
  },
  {
   "cell_type": "code",
   "execution_count": null,
   "metadata": {},
   "outputs": [],
   "source": []
  },
  {
   "cell_type": "code",
   "execution_count": null,
   "metadata": {},
   "outputs": [],
   "source": [
    "#skimage has a match histogram "
   ]
  }
 ],
 "metadata": {
  "kernelspec": {
   "display_name": "Python 3",
   "language": "python",
   "name": "python3"
  },
  "language_info": {
   "codemirror_mode": {
    "name": "ipython",
    "version": 3
   },
   "file_extension": ".py",
   "mimetype": "text/x-python",
   "name": "python",
   "nbconvert_exporter": "python",
   "pygments_lexer": "ipython3",
   "version": "3.7.6"
  }
 },
 "nbformat": 4,
 "nbformat_minor": 4
}
