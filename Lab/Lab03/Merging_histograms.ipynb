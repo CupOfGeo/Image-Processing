{
 "cells": [
  {
   "cell_type": "code",
   "execution_count": 5,
   "metadata": {},
   "outputs": [
    {
     "data": {
      "application/vnd.jupyter.widget-view+json": {
       "model_id": "eeea4aab02e341ceb715de2fec6e94d9",
       "version_major": 2,
       "version_minor": 0
      },
      "text/plain": [
       "Canvas(toolbar=Toolbar(toolitems=[('Home', 'Reset original view', 'home', 'home'), ('Back', 'Back to previous …"
      ]
     },
     "metadata": {},
     "output_type": "display_data"
    },
    {
     "data": {
      "application/vnd.jupyter.widget-view+json": {
       "model_id": "c5398afe3cc54cf6822e2e6209c28dcb",
       "version_major": 2,
       "version_minor": 0
      },
      "text/plain": [
       "Canvas(toolbar=Toolbar(toolitems=[('Home', 'Reset original view', 'home', 'home'), ('Back', 'Back to previous …"
      ]
     },
     "metadata": {},
     "output_type": "display_data"
    }
   ],
   "source": [
    "%matplotlib widget\n",
    "import matplotlib.pyplot as plt\n",
    "import numpy as np\n",
    "from skimage import data\n",
    "from skimage import exposure\n",
    "from skimage.exposure import match_histograms\n",
    "\n",
    "match = plt.imread(\"underExposed.jpg\")\n",
    "src = plt.imread(\"skyandsea.jpg\")\n",
    "\n",
    "out = match_histograms(src, match, multichannel=True)\n",
    "\n",
    "allbins = np.unique(src.ravel())\n",
    "\n",
    "fig, ax = plt.subplots(nrows=1, ncols=3, figsize=(10, 5),sharex=True, sharey=True)\n",
    "\n",
    "ax[0].imshow(src)\n",
    "ax[0].set_title('Orginial')\n",
    "\n",
    "ax[1].imshow(match)\n",
    "ax[1].set_title('to match to')\n",
    "\n",
    "ax[2].imshow(out)\n",
    "ax[2].set_title('Output')\n",
    "\n",
    "plt.tight_layout()\n",
    "plt.show()\n",
    "\n",
    "\n",
    "fig2, ax2 = plt.subplots(nrows=1, ncols=3, figsize=(10, 5))\n",
    "for channel in range(3):\n",
    "    \n",
    "    hsrc, bsrc = np.histogram(src[...,channel], bins=np.arange(257) / 256)\n",
    "    hmatch, bmatch = np.histogram(match[...,channel], bins=np.arange(257) / 256)\n",
    "    hout, out = np.histogram(out[...,channel], bins=np.arange(257) / 256)\n",
    "\n",
    "\n",
    "ax2[0].hist(src[...,0].ravel(), allbins, alpha = .6, label = 'red', color = 'r')\n",
    "ax2[0].hist(src[...,1].ravel(), allbins, alpha = .6, label = 'green', color = 'g')\n",
    "ax2[0].hist(src[...,2].ravel(), allbins, alpha = .6, label = 'blue', color = 'b')\n",
    "ax2[0].legend(loc = 'upper right')\n",
    "\n",
    "ax2[1].hist(match[...,0].ravel(), allbins, alpha = .6, label = 'red', color = 'r')\n",
    "ax2[1].hist(match[...,1].ravel(), allbins, alpha = .6, label = 'green', color = 'g')\n",
    "ax2[1].hist(match[...,2].ravel(), allbins, alpha = .6, label = 'blue', color = 'b')\n",
    "ax2[1].legend(loc = 'upper right')\n",
    "\n",
    "ax2[2].hist(out[...,0].ravel(), allbins, alpha = .6, label = 'red', color = 'r')\n",
    "ax2[2].hist(out[...,1].ravel(), allbins, alpha = .6, label = 'green', color = 'g')\n",
    "ax2[2].hist(out[...,2].ravel(), allbins, alpha = .6, label = 'blue', color = 'b')\n",
    "ax2[2].legend(loc = 'upper right')\n",
    "plt.show()\n",
    "\n",
    "\n",
    "\n",
    "\n"
   ]
  },
  {
   "cell_type": "code",
   "execution_count": null,
   "metadata": {},
   "outputs": [],
   "source": []
  },
  {
   "cell_type": "code",
   "execution_count": 12,
   "metadata": {},
   "outputs": [
    {
     "data": {
      "application/vnd.jupyter.widget-view+json": {
       "model_id": "2c8e1b23efa3472aa2b6c5193aaf4bfe",
       "version_major": 2,
       "version_minor": 0
      },
      "text/plain": [
       "Canvas(toolbar=Toolbar(toolitems=[('Home', 'Reset original view', 'home', 'home'), ('Back', 'Back to previous …"
      ]
     },
     "metadata": {},
     "output_type": "display_data"
    },
    {
     "name": "stderr",
     "output_type": "stream",
     "text": [
      "Clipping input data to the valid range for imshow with RGB data ([0..1] for floats or [0..255] for integers).\n"
     ]
    },
    {
     "data": {
      "text/plain": [
       "<matplotlib.image.AxesImage at 0x7f616dfd6050>"
      ]
     },
     "execution_count": 12,
     "metadata": {},
     "output_type": "execute_result"
    }
   ],
   "source": [
    "import skimage.filters as skf\n",
    "Img = plt.imread(\"earth2.jpg\")\n",
    "#prewitt\n",
    "\n",
    "out1 = skf.meijering(Img)\n",
    "out2 = skf.laplace(Img)\n",
    "\n",
    "\n",
    "fig, ax = plt.subplots(nrows=1, ncols=3, figsize=(10, 5),sharex=True, sharey=True)\n",
    "\n",
    "ax[0].imshow(Img)\n",
    "ax[1].imshow(out1)\n",
    "ax[2].imshow(out2)"
   ]
  },
  {
   "cell_type": "code",
   "execution_count": null,
   "metadata": {},
   "outputs": [],
   "source": []
  }
 ],
 "metadata": {
  "kernelspec": {
   "display_name": "Python 3",
   "language": "python",
   "name": "python3"
  },
  "language_info": {
   "codemirror_mode": {
    "name": "ipython",
    "version": 3
   },
   "file_extension": ".py",
   "mimetype": "text/x-python",
   "name": "python",
   "nbconvert_exporter": "python",
   "pygments_lexer": "ipython3",
   "version": "3.7.6"
  }
 },
 "nbformat": 4,
 "nbformat_minor": 4
}
