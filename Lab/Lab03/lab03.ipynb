{
 "cells": [
  {
   "cell_type": "code",
   "execution_count": 1,
   "metadata": {},
   "outputs": [
    {
     "data": {
      "application/vnd.jupyter.widget-view+json": {
       "model_id": "e326c44b8842466296846a79c868f8ec",
       "version_major": 2,
       "version_minor": 0
      },
      "text/plain": [
       "Canvas(toolbar=Toolbar(toolitems=[('Home', 'Reset original view', 'home', 'home'), ('Back', 'Back to previous …"
      ]
     },
     "metadata": {},
     "output_type": "display_data"
    },
    {
     "data": {
      "application/vnd.jupyter.widget-view+json": {
       "model_id": "789dbff139414872b717e56a35b4015c",
       "version_major": 2,
       "version_minor": 0
      },
      "text/plain": [
       "Canvas(toolbar=Toolbar(toolitems=[('Home', 'Reset original view', 'home', 'home'), ('Back', 'Back to previous …"
      ]
     },
     "metadata": {},
     "output_type": "display_data"
    },
    {
     "data": {
      "application/vnd.jupyter.widget-view+json": {
       "model_id": "1b23bdd079d145a4ad5669cc25c6eaa5",
       "version_major": 2,
       "version_minor": 0
      },
      "text/plain": [
       "Canvas(toolbar=Toolbar(toolitems=[('Home', 'Reset original view', 'home', 'home'), ('Back', 'Back to previous …"
      ]
     },
     "metadata": {},
     "output_type": "display_data"
    }
   ],
   "source": [
    "\"\"\"\n",
    "Joshua Stough\n",
    "DIP\n",
    "\n",
    "Histogram equalization on a color image, with plotting of the histograms.\n",
    "\"\"\"\n",
    "%matplotlib widget\n",
    "import matplotlib.pyplot as plt\n",
    "import scipy.ndimage as ndimage\n",
    "import numpy as np\n",
    "\n",
    "\n",
    "#Load an image and normalize to [0,1]\n",
    "I = plt.imread('underExposed.jpg').astype(float)\n",
    "I = I - I.ravel().min()\n",
    "I = I/I.ravel().max()\n",
    "\n",
    "\n",
    "\n",
    "#Scaled per channel\n",
    "\n",
    "IE = np.zeros(I.shape)\n",
    "cha = ['r','g','b']\n",
    "for channel in range(3):\n",
    "    hist, bins = np.histogram(I[...,channel], bins=np.arange(257) / 256)\n",
    "    CDF = np.cumsum(hist) / sum(hist)\n",
    "\n",
    "    Ir = np.interp(I[...,channel], xp=bins[:-1], fp=CDF)\n",
    "    \n",
    "    IE[...,channel] = Ir\n",
    "\n",
    "    #print(I[...,channel]) intensity values 0 to 1\n",
    "    plt.plot(bins[:-1], CDF, cha[channel]);\n",
    "\n",
    "\n",
    "\n",
    "allbins = np.unique(I.ravel())\n",
    "\n",
    "f, ax1 = plt.subplots(1,2, figsize=(10,3))\n",
    "ax1[0].imshow(I) #https://matplotlib.org/api/_as_gen/matplotlib.pyplot.imshow.html\n",
    "ax1[0].set_title('Original Image')\n",
    "\n",
    "ax1[1].hist(I[...,0].ravel(), allbins = np.unique(src.ravel()), alpha = .6, label = 'red', color = 'r')\n",
    "ax1[1].hist(I[...,1].ravel(), allbins, alpha = .6, label = 'green', color = 'g')\n",
    "ax1[1].hist(I[...,2].ravel(), allbins, alpha = .6, label = 'blue', color = 'b')\n",
    "ax1[1].legend(loc = 'upper right')\n",
    "plt.show()\n",
    "\n",
    "\n",
    "\n",
    "\n",
    "f, ax2 = plt.subplots(1,2, figsize=(10,3))\n",
    "ax2[0].imshow(IE) #https://matplotlib.org/api/_as_gen/matplotlib.pyplot.imshow.html\n",
    "ax2[0].set_title('Image Equalized Per Channel')\n",
    "\n",
    "ax2[1].hist(IE[...,0].ravel(), 250, alpha = .6, label = 'red', color = 'r')\n",
    "ax2[1].hist(IE[...,1].ravel(), 250, alpha = .6, label = 'green', color = 'g')\n",
    "ax2[1].hist(IE[...,2].ravel(), 250, alpha = .6, label = 'blue', color = 'b')\n",
    "ax2[1].legend(loc = 'upper right')\n",
    "plt.show()\n"
   ]
  },
  {
   "cell_type": "code",
   "execution_count": 2,
   "metadata": {},
   "outputs": [
    {
     "data": {
      "application/vnd.jupyter.widget-view+json": {
       "model_id": "",
       "version_major": 2,
       "version_minor": 0
      },
      "text/plain": [
       "Canvas(toolbar=Toolbar(toolitems=[('Home', 'Reset original view', 'home', 'home'), ('Back', 'Back to previous …"
      ]
     },
     "metadata": {},
     "output_type": "display_data"
    },
    {
     "data": {
      "application/vnd.jupyter.widget-view+json": {
       "model_id": "",
       "version_major": 2,
       "version_minor": 0
      },
      "text/plain": [
       "Canvas(toolbar=Toolbar(toolitems=[('Home', 'Reset original view', 'home', 'home'), ('Back', 'Back to previous …"
      ]
     },
     "metadata": {},
     "output_type": "display_data"
    },
    {
     "data": {
      "application/vnd.jupyter.widget-view+json": {
       "model_id": "",
       "version_major": 2,
       "version_minor": 0
      },
      "text/plain": [
       "Canvas(toolbar=Toolbar(toolitems=[('Home', 'Reset original view', 'home', 'home'), ('Back', 'Back to previous …"
      ]
     },
     "metadata": {},
     "output_type": "display_data"
    },
    {
     "data": {
      "application/vnd.jupyter.widget-view+json": {
       "model_id": "",
       "version_major": 2,
       "version_minor": 0
      },
      "text/plain": [
       "Canvas(toolbar=Toolbar(toolitems=[('Home', 'Reset original view', 'home', 'home'), ('Back', 'Back to previous …"
      ]
     },
     "metadata": {},
     "output_type": "display_data"
    }
   ],
   "source": [
    "#Load an image and normalize to [0,1]\n",
    "I = plt.imread('skyandsea.jpg').astype(float)\n",
    "I = I - I.ravel().min()\n",
    "I = I/I.ravel().max()\n",
    "\n",
    "\n",
    "plt.figure()\n",
    "#Scaled per channel\n",
    "\n",
    "IE = np.zeros(I.shape)\n",
    "cha = ['r','g','b']\n",
    "for channel in range(3):\n",
    "    hist, bins = np.histogram(I[...,channel], bins=np.arange(257) / 256)\n",
    "    CDF = np.cumsum(hist) / sum(hist)\n",
    "\n",
    "    Ir = np.interp(I[...,channel], xp=bins[:-1], fp=CDF)\n",
    "    \n",
    "    IE[...,channel] = Ir\n",
    "\n",
    "    #print(I[...,channel]) intensity values 0 to 1\n",
    "\n",
    "    plt.plot(bins[:-1], CDF, cha[channel]);\n",
    "\n",
    "\n",
    "\n",
    "allbins = np.unique(I.ravel())\n",
    "\n",
    "f, ax1 = plt.subplots(1,2, figsize=(10,3))\n",
    "ax1[0].imshow(I) #https://matplotlib.org/api/_as_gen/matplotlib.pyplot.imshow.html\n",
    "ax1[0].set_title('Original Image')\n",
    "\n",
    "ax1[1].hist(I[...,0].ravel(), allbins, alpha = .6, label = 'red', color = 'r')\n",
    "ax1[1].hist(I[...,1].ravel(), allbins, alpha = .6, label = 'green', color = 'g')\n",
    "ax1[1].hist(I[...,2].ravel(), allbins, alpha = .6, label = 'blue', color = 'b')\n",
    "ax1[1].legend(loc = 'upper right')\n",
    "plt.show()\n",
    "\n",
    "\n",
    "\n",
    "\n",
    "f, ax2 = plt.subplots(1,2, figsize=(10,3))\n",
    "ax2[0].imshow(IE) #https://matplotlib.org/api/_as_gen/matplotlib.pyplot.imshow.html\n",
    "ax2[0].set_title('Image Equalized Per Channel')\n",
    "\n",
    "ax2[1].hist(IE[...,0].ravel(), 250, alpha = .6, label = 'red', color = 'r')\n",
    "ax2[1].hist(IE[...,1].ravel(), 250, alpha = .6, label = 'green', color = 'g')\n",
    "ax2[1].hist(IE[...,2].ravel(), 250, alpha = .6, label = 'blue', color = 'b')\n",
    "ax2[1].legend(loc = 'upper right')\n",
    "\n",
    "\n",
    "Ig = 0.2989 * I[..., 0] + 0.5870 * I[..., 1] + 0.1140 * I[..., 2]\n",
    "f, ax2 = plt.subplots(1,2, figsize=(10,3))\n",
    "ax2[0].imshow(Ig) #https://matplotlib.org/api/_as_gen/matplotlib.pyplot.imshow.html\n",
    "ax2[0].set_title('Image g Per Channel')\n",
    "\n",
    "ax2[1].hist(Ig[...,0].ravel(), 250, alpha = .6, label = 'red', color = 'r')\n",
    "ax2[1].hist(Ig[...,1].ravel(), 250, alpha = .6, label = 'green', color = 'g')\n",
    "ax2[1].hist(Ig[...,2].ravel(), 250, alpha = .6, label = 'blue', color = 'b')\n",
    "ax2[1].legend(loc = 'upper right')\n",
    "\n",
    "plt.show()"
   ]
  },
  {
   "cell_type": "code",
   "execution_count": null,
   "metadata": {},
   "outputs": [],
   "source": []
  },
  {
   "cell_type": "code",
   "execution_count": 4,
   "metadata": {},
   "outputs": [
    {
     "data": {
      "application/vnd.jupyter.widget-view+json": {
       "model_id": "ba9200d73d9a493caa6ccc6c349019fb",
       "version_major": 2,
       "version_minor": 0
      },
      "text/plain": [
       "Canvas(toolbar=Toolbar(toolitems=[('Home', 'Reset original view', 'home', 'home'), ('Back', 'Back to previous …"
      ]
     },
     "metadata": {},
     "output_type": "display_data"
    },
    {
     "data": {
      "application/vnd.jupyter.widget-view+json": {
       "model_id": "3e35a2a2613d4f9a9e4ba4f94e1f7b76",
       "version_major": 2,
       "version_minor": 0
      },
      "text/plain": [
       "Canvas(toolbar=Toolbar(toolitems=[('Home', 'Reset original view', 'home', 'home'), ('Back', 'Back to previous …"
      ]
     },
     "metadata": {},
     "output_type": "display_data"
    },
    {
     "data": {
      "application/vnd.jupyter.widget-view+json": {
       "model_id": "c562c03c6f4243238826892d3d7b9eab",
       "version_major": 2,
       "version_minor": 0
      },
      "text/plain": [
       "Canvas(toolbar=Toolbar(toolitems=[('Home', 'Reset original view', 'home', 'home'), ('Back', 'Back to previous …"
      ]
     },
     "metadata": {},
     "output_type": "display_data"
    },
    {
     "data": {
      "text/plain": [
       "<matplotlib.image.AxesImage at 0x7f825661b310>"
      ]
     },
     "execution_count": 4,
     "metadata": {},
     "output_type": "execute_result"
    }
   ],
   "source": [
    "\n",
    "#Load an image and normalize to [0,1]\n",
    "I = plt.imread('outside.jpg').astype(float)\n",
    "\n",
    "I = I - I.ravel().min()\n",
    "I = I/I.ravel().max()\n",
    "\n",
    "\n",
    "\n",
    "\n",
    "plt.figure()\n",
    "#Scaled per channel\n",
    "\n",
    "\n",
    "#blue mask between .8 and .9\n",
    "bluemask = I[...,2] > .8\n",
    "\n",
    "bluemask[2000:,:] = False # touch up the blue mask so takes just the sky\n",
    "bluemask[0:1400,0:2000] = True\n",
    "\n",
    "\n",
    "IE = np.zeros(I.shape)\n",
    "cha = ['r','g','b']\n",
    "for channel in range(3):\n",
    "    \n",
    "    hist, bins = np.histogram(I[...,channel], bins=np.arange(257) / 256)\n",
    "    CDF = np.cumsum(hist) / sum(hist)\n",
    "\n",
    "    Ir = np.interp(I[...,channel], xp=bins[:-1], fp=CDF)\n",
    "    \n",
    "    IE[...,channel] = Ir\n",
    "    IE[bluemask,channel] = I[bluemask,channel]\n",
    "\n",
    "    #print(I[...,channel]) intensity values 0 to 1\n",
    "\n",
    "    plt.plot(bins[:-1], CDF, cha[channel]);\n",
    "\n",
    "\n",
    "\n",
    "allbins = np.unique(I.ravel())\n",
    "\n",
    "f, ax1 = plt.subplots(1,2, figsize=(10,3))\n",
    "ax1[0].imshow(I) #https://matplotlib.org/api/_as_gen/matplotlib.pyplot.imshow.html\n",
    "ax1[0].set_title('Original Image')\n",
    "\n",
    "ax1[1].hist(I[...,0].ravel(), allbins, alpha = .6, label = 'red', color = 'r')\n",
    "ax1[1].hist(I[...,1].ravel(), allbins, alpha = .6, label = 'green', color = 'g')\n",
    "ax1[1].hist(I[...,2].ravel(), allbins, alpha = .6, label = 'blue', color = 'b')\n",
    "ax1[1].legend(loc = 'upper right')\n",
    "plt.show()\n",
    "\n",
    "\n",
    "\n",
    "\n",
    "f, ax2 = plt.subplots(1,2, figsize=(10,3))\n",
    "ax2[0].imshow(IE) #https://matplotlib.org/api/_as_gen/matplotlib.pyplot.imshow.html\n",
    "ax2[0].set_title('Image Equalized Per Channel')\n",
    "\n",
    "ax2[1].hist(IE[...,0].ravel(), 250, alpha = .6, label = 'red', color = 'r')\n",
    "ax2[1].hist(IE[...,1].ravel(), 250, alpha = .6, label = 'green', color = 'g')\n",
    "ax2[1].hist(IE[...,2].ravel(), 250, alpha = .6, label = 'blue', color = 'b')\n",
    "ax2[1].legend(loc = 'upper right')\n",
    "plt.show()\n",
    "\n",
    "plt.imshow(bluemask)"
   ]
  },
  {
   "cell_type": "code",
   "execution_count": 4,
   "metadata": {},
   "outputs": [
    {
     "data": {
      "application/vnd.jupyter.widget-view+json": {
       "model_id": "",
       "version_major": 2,
       "version_minor": 0
      },
      "text/plain": [
       "Canvas(toolbar=Toolbar(toolitems=[('Home', 'Reset original view', 'home', 'home'), ('Back', 'Back to previous …"
      ]
     },
     "metadata": {},
     "output_type": "display_data"
    },
    {
     "data": {
      "text/plain": [
       "Text(0.5, 1.0, 'Median')"
      ]
     },
     "execution_count": 4,
     "metadata": {},
     "output_type": "execute_result"
    }
   ],
   "source": [
    "\n",
    "#simple blur\n",
    "def myfunc(x):\n",
    "    return x.mean()\n",
    "\n",
    "def mymin(x):\n",
    "    return x.min()\n",
    "\n",
    "def mymax(x):\n",
    "    return x.max()\n",
    "\n",
    "def mymedian(x):\n",
    "    return np.median(x)\n",
    "\n",
    "I = plt.imread('outside.jpg').astype(float)\n",
    "I = I/I.max()\n",
    "\n",
    "\n",
    "Ib = np.zeros(I.shape)\n",
    "Imin = np.zeros(I.shape)\n",
    "Imax = np.zeros(I.shape)\n",
    "Imedian = np.zeros(I.shape)\n",
    "Out = np.zeros(I.shape[:2])\n",
    "\n",
    "for chan in range(3):\n",
    "    ndimage.generic_filter(I[:, :, chan], function=myfunc, size=5, output=Out, mode='reflect')\n",
    "    Ib[...,chan] = Out.copy();\n",
    "    \n",
    "    ndimage.generic_filter(I[:, :, chan], function=mymin, size=5, output=Out, mode='reflect')\n",
    "    Imin[...,chan] = Out.copy();\n",
    "    \n",
    "    #ndimage.generic_filter(I[:, :, chan], function=mymax, size=5, output=Out, mode='reflect')\n",
    "    #Imax[...,chan] = Out.copy();\n",
    "    \n",
    "    #ndimage.generic_filter(I[:, :, chan], function=mymedian, size=5, output=Out, mode='reflect')\n",
    "    #Imedian[...,chan] = Out.copy();\n",
    "    \n",
    "    \n",
    "\n",
    "f, axarr = plt.subplots(1,5, figsize=(10, 3), sharex=True, sharey=True)\n",
    "axarr[0].imshow(I)\n",
    "axarr[0].set_title('Original')\n",
    "\n",
    "axarr[1].imshow(Ib)\n",
    "axarr[1].set_title('Mean')\n",
    "\n",
    "axarr[2].imshow(Imin)\n",
    "axarr[2].set_title('Min')\n",
    "\n",
    "axarr[3].imshow(Imax)\n",
    "axarr[3].set_title('Max')\n",
    "\n",
    "\n",
    "axarr[4].imshow(Imedian)\n",
    "axarr[4].set_title('Median')\n"
   ]
  },
  {
   "cell_type": "code",
   "execution_count": 5,
   "metadata": {},
   "outputs": [],
   "source": [
    "#skimage has a match histogram "
   ]
  }
 ],
 "metadata": {
  "kernelspec": {
   "display_name": "Python 3",
   "language": "python",
   "name": "python3"
  },
  "language_info": {
   "codemirror_mode": {
    "name": "ipython",
    "version": 3
   },
   "file_extension": ".py",
   "mimetype": "text/x-python",
   "name": "python",
   "nbconvert_exporter": "python",
   "pygments_lexer": "ipython3",
   "version": "3.7.6"
  }
 },
 "nbformat": 4,
 "nbformat_minor": 4
}
