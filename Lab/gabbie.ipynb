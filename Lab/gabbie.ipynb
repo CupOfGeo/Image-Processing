{
 "cells": [
  {
   "cell_type": "code",
   "execution_count": 159,
   "metadata": {},
   "outputs": [],
   "source": [
    "def foo(lst, p):\n",
    "    i = 0\n",
    "    j = len(lst)-1 \n",
    "    while(i<j):\n",
    "        while(i<j and lst[i] < p):\n",
    "            i +=1\n",
    "        while(i<j and lst[j] >= p):\n",
    "            j-=1\n",
    "        if(i<j):\n",
    "            temp = lst[i]\n",
    "            lst[i] = lst[j]\n",
    "            lst[j] = temp\n",
    "    return lst"
   ]
  },
  {
   "cell_type": "code",
   "execution_count": 163,
   "metadata": {},
   "outputs": [
    {
     "name": "stdout",
     "output_type": "stream",
     "text": [
      "[13, 19, 24, 6, 12, 2] 0\n",
      "[13, 19, 24, 6, 12, 2] 1\n",
      "[13, 19, 24, 6, 12, 2] 2\n",
      "[2, 19, 24, 6, 12, 13] 3\n",
      "[2, 19, 24, 6, 12, 13] 4\n",
      "[2, 19, 24, 6, 12, 13] 5\n",
      "[2, 19, 24, 6, 12, 13] 6\n",
      "[2, 6, 24, 19, 12, 13] 7\n",
      "[2, 6, 24, 19, 12, 13] 8\n",
      "[2, 6, 24, 19, 12, 13] 9\n",
      "[2, 6, 24, 19, 12, 13] 10\n",
      "[2, 6, 24, 19, 12, 13] 11\n",
      "[2, 6, 24, 19, 12, 13] 12\n",
      "[2, 12, 6, 24, 19, 13] 13\n",
      "[13, 2, 12, 6, 24, 19] 14\n",
      "[13, 2, 12, 6, 24, 19] 15\n",
      "[13, 2, 12, 6, 24, 19] 16\n",
      "[13, 2, 12, 6, 24, 19] 17\n",
      "[13, 2, 12, 6, 24, 19] 18\n",
      "[13, 2, 12, 6, 24, 19] 19\n",
      "[13, 19, 2, 6, 12, 24] 20\n"
     ]
    }
   ],
   "source": [
    "for r in range(21):\n",
    "    print(foo([13,19,24,6,12,2],r), r)"
   ]
  },
  {
   "cell_type": "code",
   "execution_count": 29,
   "metadata": {},
   "outputs": [
    {
     "data": {
      "text/plain": [
       "[1, 1, 3, 4, 3, 2, 2]"
      ]
     },
     "execution_count": 29,
     "metadata": {},
     "output_type": "execute_result"
    }
   ],
   "source": [
    "foo([1,2,3,4,3,2,1],2)"
   ]
  },
  {
   "cell_type": "code",
   "execution_count": 74,
   "metadata": {},
   "outputs": [
    {
     "data": {
      "text/plain": [
       "[1, 14, 23, 19, 1, 19, 57]"
      ]
     },
     "execution_count": 74,
     "metadata": {},
     "output_type": "execute_result"
    }
   ],
   "source": [
    "foo([14,23,19,57,19,1],24)"
   ]
  },
  {
   "cell_type": "code",
   "execution_count": 161,
   "metadata": {},
   "outputs": [
    {
     "data": {
      "text/plain": [
       "[2, 4, 6, 6, 8, 5, 7]"
      ]
     },
     "execution_count": 161,
     "metadata": {},
     "output_type": "execute_result"
    }
   ],
   "source": [
    "# A Python program to print all  \n",
    "# permutations using library function \n",
    "from itertools import permutations \n",
    "\n",
    "power = []\n",
    "# Get all permutations of [1, 2, 3] \n",
    "perm = permutations([2, 4, 6,8,5,6,7]) \n",
    "# Print the obtained permutations \n",
    "for i in list(perm): \n",
    "    power.append(i) \n",
    "list(power[12])"
   ]
  },
  {
   "cell_type": "code",
   "execution_count": 162,
   "metadata": {},
   "outputs": [
    {
     "name": "stdout",
     "output_type": "stream",
     "text": [
      "(2, 4, 6, 5, 8, 6, 7)\n",
      "[2, 4, 5, 6, 8, 6, 7] 0\n",
      "(2, 4, 6, 5, 8, 6, 7)\n",
      "[2, 4, 5, 6, 8, 6, 7] 1\n",
      "(2, 4, 6, 5, 8, 6, 7)\n",
      "[2, 4, 5, 6, 8, 6, 7] 2\n",
      "(2, 4, 6, 5, 8, 6, 7)\n",
      "[2, 4, 5, 6, 8, 6, 7] 3\n",
      "(2, 4, 6, 5, 8, 6, 7)\n",
      "[2, 4, 5, 6, 8, 6, 7] 4\n",
      "(2, 4, 6, 5, 8, 6, 7)\n",
      "[2, 4, 5, 6, 8, 6, 7] 5\n",
      "(2, 4, 6, 5, 8, 6, 7)\n",
      "[2, 4, 5, 6, 8, 6, 7] 6\n",
      "(2, 4, 6, 5, 8, 6, 7)\n",
      "[2, 4, 5, 6, 8, 6, 7] 7\n",
      "(2, 4, 6, 5, 8, 6, 7)\n",
      "[2, 4, 5, 6, 8, 6, 7] 8\n",
      "(2, 4, 6, 5, 8, 6, 7)\n",
      "[2, 4, 5, 6, 8, 6, 7] 9\n",
      "\n",
      "(2, 4, 6, 5, 8, 7, 6)\n",
      "[2, 4, 6, 5, 6, 7, 8] 0\n",
      "(2, 4, 6, 5, 8, 7, 6)\n",
      "[2, 4, 6, 5, 6, 7, 8] 1\n",
      "(2, 4, 6, 5, 8, 7, 6)\n",
      "[2, 4, 6, 5, 6, 7, 8] 2\n",
      "(2, 4, 6, 5, 8, 7, 6)\n",
      "[2, 4, 6, 5, 6, 7, 8] 3\n",
      "(2, 4, 6, 5, 8, 7, 6)\n",
      "[2, 4, 6, 5, 6, 7, 8] 4\n",
      "(2, 4, 6, 5, 8, 7, 6)\n",
      "[2, 4, 6, 5, 6, 7, 8] 5\n",
      "(2, 4, 6, 5, 8, 7, 6)\n",
      "[2, 4, 6, 5, 6, 7, 8] 6\n",
      "(2, 4, 6, 5, 8, 7, 6)\n",
      "[2, 4, 6, 5, 6, 7, 8] 7\n",
      "(2, 4, 6, 5, 8, 7, 6)\n",
      "[2, 4, 6, 5, 6, 7, 8] 8\n",
      "(2, 4, 6, 5, 8, 7, 6)\n",
      "[2, 4, 6, 5, 6, 7, 8] 9\n",
      "\n",
      "(2, 4, 6, 5, 6, 8, 7)\n",
      "[2, 4, 6, 5, 6, 7, 8] 0\n",
      "(2, 4, 6, 5, 6, 8, 7)\n",
      "[2, 4, 6, 5, 6, 7, 8] 1\n",
      "(2, 4, 6, 5, 6, 8, 7)\n",
      "[2, 4, 6, 5, 6, 7, 8] 2\n",
      "(2, 4, 6, 5, 6, 8, 7)\n",
      "[2, 4, 6, 5, 6, 7, 8] 3\n",
      "(2, 4, 6, 5, 6, 8, 7)\n",
      "[2, 4, 6, 5, 6, 7, 8] 4\n",
      "(2, 4, 6, 5, 6, 8, 7)\n",
      "[2, 4, 6, 5, 6, 7, 8] 5\n",
      "(2, 4, 6, 5, 6, 8, 7)\n",
      "[2, 4, 6, 5, 6, 7, 8] 6\n",
      "(2, 4, 6, 5, 6, 8, 7)\n",
      "[2, 4, 6, 5, 6, 7, 8] 7\n",
      "(2, 4, 6, 5, 6, 8, 7)\n",
      "[2, 4, 6, 5, 6, 7, 8] 8\n",
      "(2, 4, 6, 5, 6, 8, 7)\n",
      "[2, 4, 6, 5, 6, 7, 8] 9\n",
      "\n"
     ]
    }
   ],
   "source": [
    "for r in range(len(power)):\n",
    "    for p in range(10):\n",
    "        if list(power[r]) == foo(list(power[r]),r): #original list\n",
    "            continue\n",
    "        print(power[r])\n",
    "        print(foo(list(power[r]),r), p)\n",
    "        if p== 9:\n",
    "            print()"
   ]
  },
  {
   "cell_type": "code",
   "execution_count": null,
   "metadata": {},
   "outputs": [],
   "source": []
  }
 ],
 "metadata": {
  "kernelspec": {
   "display_name": "Python 3",
   "language": "python",
   "name": "python3"
  },
  "language_info": {
   "codemirror_mode": {
    "name": "ipython",
    "version": 3
   },
   "file_extension": ".py",
   "mimetype": "text/x-python",
   "name": "python",
   "nbconvert_exporter": "python",
   "pygments_lexer": "ipython3",
   "version": "3.7.6"
  }
 },
 "nbformat": 4,
 "nbformat_minor": 4
}
