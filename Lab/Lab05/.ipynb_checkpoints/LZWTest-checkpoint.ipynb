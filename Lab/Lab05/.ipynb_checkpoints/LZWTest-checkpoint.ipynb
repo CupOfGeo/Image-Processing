{
 "cells": [
  {
   "cell_type": "markdown",
   "metadata": {},
   "source": [
    "# Testing the LZW compression code.\n",
    "Stough\n",
    "DIP 8.2.4 on LZW encoding\n",
    "\n",
    "- [Duke site on LZW](https://www2.cs.duke.edu/csed/curious/compression/lzw.html)\n",
    "- [Nice demo codes](http://rosettacode.org/wiki/LZW_compression#Python)"
   ]
  },
  {
   "cell_type": "code",
   "execution_count": 1,
   "metadata": {},
   "outputs": [],
   "source": [
    "%matplotlib widget\n",
    "import matplotlib.pyplot as plt\n",
    "import numpy as np\n",
    "\n",
    "from LZWUtil import *\n",
    "from LZWUtilNeg import *\n",
    "\n",
    "import time\n",
    "\n",
    "\n",
    "\n",
    "import scipy.ndimage as ndimage\n",
    "from scipy.ndimage import correlate\n",
    "from skimage.filters import *\n",
    "from scipy.stats import entropy\n",
    "\n",
    "\n",
    "\n",
    "BITS = 10"
   ]
  },
  {
   "cell_type": "code",
   "execution_count": 2,
   "metadata": {},
   "outputs": [
    {
     "name": "stdout",
     "output_type": "stream",
     "text": [
      "loadHuffableImage: input is multi-channel, using grayscale.\n",
      "I original size 1024.500KB, LZ encoded size 988.546KB.\n",
      "Encoding time takes     1.3168.\n"
     ]
    },
    {
     "ename": "IndexError",
     "evalue": "list index out of range",
     "output_type": "error",
     "traceback": [
      "\u001b[0;31m---------------------------------------------------------------------------\u001b[0m",
      "\u001b[0;31mIndexError\u001b[0m                                Traceback (most recent call last)",
      "\u001b[0;32m<ipython-input-2-8b601d0729fb>\u001b[0m in \u001b[0;36m<module>\u001b[0;34m\u001b[0m\n\u001b[1;32m     22\u001b[0m \u001b[0mrecI1d\u001b[0m \u001b[0;34m=\u001b[0m \u001b[0mnp\u001b[0m\u001b[0;34m.\u001b[0m\u001b[0mzeros\u001b[0m\u001b[0;34m(\u001b[0m\u001b[0mI1d\u001b[0m\u001b[0;34m.\u001b[0m\u001b[0mshape\u001b[0m\u001b[0;34m)\u001b[0m\u001b[0;34m\u001b[0m\u001b[0;34m\u001b[0m\u001b[0m\n\u001b[1;32m     23\u001b[0m \u001b[0;34m\u001b[0m\u001b[0m\n\u001b[0;32m---> 24\u001b[0;31m \u001b[0;32mfor\u001b[0m \u001b[0mi\u001b[0m\u001b[0;34m,\u001b[0m \u001b[0mx\u001b[0m \u001b[0;32min\u001b[0m \u001b[0menumerate\u001b[0m\u001b[0;34m(\u001b[0m\u001b[0mdecomp\u001b[0m\u001b[0;34m)\u001b[0m\u001b[0;34m:\u001b[0m\u001b[0;34m\u001b[0m\u001b[0;34m\u001b[0m\u001b[0m\n\u001b[0m\u001b[1;32m     25\u001b[0m     \u001b[0mrecI1d\u001b[0m\u001b[0;34m[\u001b[0m\u001b[0mi\u001b[0m\u001b[0;34m]\u001b[0m \u001b[0;34m=\u001b[0m \u001b[0mx\u001b[0m\u001b[0;34m\u001b[0m\u001b[0;34m\u001b[0m\u001b[0m\n\u001b[1;32m     26\u001b[0m \u001b[0mprint\u001b[0m\u001b[0;34m(\u001b[0m\u001b[0mi\u001b[0m\u001b[0;34m)\u001b[0m\u001b[0;34m\u001b[0m\u001b[0;34m\u001b[0m\u001b[0m\n",
      "\u001b[0;32m/nfs/unixspace/linux/accounts/student/g/gbm006/img_processing/Lab/Lab05/LZWUtilNeg.py\u001b[0m in \u001b[0;36m__iter__\u001b[0;34m(self)\u001b[0m\n\u001b[1;32m     65\u001b[0m                 \u001b[0mentry\u001b[0m \u001b[0;34m=\u001b[0m \u001b[0mself\u001b[0m\u001b[0;34m.\u001b[0m\u001b[0mtable\u001b[0m\u001b[0;34m[\u001b[0m\u001b[0mx\u001b[0m\u001b[0;34m]\u001b[0m\u001b[0;34m\u001b[0m\u001b[0;34m\u001b[0m\u001b[0m\n\u001b[1;32m     66\u001b[0m             \u001b[0;32melif\u001b[0m \u001b[0mx\u001b[0m \u001b[0;34m==\u001b[0m \u001b[0mlen\u001b[0m\u001b[0;34m(\u001b[0m\u001b[0mself\u001b[0m\u001b[0;34m.\u001b[0m\u001b[0mtable\u001b[0m\u001b[0;34m)\u001b[0m\u001b[0;34m:\u001b[0m \u001b[0;31m#x isn't yet in the table.\u001b[0m\u001b[0;34m\u001b[0m\u001b[0;34m\u001b[0m\u001b[0m\n\u001b[0;32m---> 67\u001b[0;31m                 \u001b[0mentry\u001b[0m \u001b[0;34m=\u001b[0m \u001b[0mw\u001b[0m   \u001b[0;34m[\u001b[0m\u001b[0mw\u001b[0m\u001b[0;34m[\u001b[0m\u001b[0;36m0\u001b[0m\u001b[0;34m]\u001b[0m\u001b[0;34m]\u001b[0m\u001b[0;34m\u001b[0m\u001b[0;34m\u001b[0m\u001b[0m\n\u001b[0m\u001b[1;32m     68\u001b[0m             \u001b[0;32melse\u001b[0m\u001b[0;34m:\u001b[0m\u001b[0;34m\u001b[0m\u001b[0;34m\u001b[0m\u001b[0m\n\u001b[1;32m     69\u001b[0m                 \u001b[0;32mraise\u001b[0m \u001b[0mValueError\u001b[0m\u001b[0;34m(\u001b[0m\u001b[0;34m'saw compressed index %d, unknown'\u001b[0m \u001b[0;34m%\u001b[0m \u001b[0mx\u001b[0m\u001b[0;34m)\u001b[0m\u001b[0;34m\u001b[0m\u001b[0;34m\u001b[0m\u001b[0m\n",
      "\u001b[0;31mIndexError\u001b[0m: list index out of range"
     ]
    }
   ],
   "source": [
    "I = loadHuffableImage('skyandsea.jpg')\n",
    "I1d = I.ravel()\n",
    "\n",
    "starttime = time.perf_counter()\n",
    "\n",
    "estream = LZWCompressNeg(I1d, bits=BITS)\n",
    "\n",
    "\n",
    "encodedSize = sum(1 for x in estream)\n",
    "\n",
    "endtime = time.perf_counter()\n",
    "\n",
    "print('I original size %6.3fKB, LZ encoded size %6.3fKB.' %\n",
    "      (I.size/1024, encodedSize*BITS/(8*1024)))\n",
    "\n",
    "print('Encoding time takes %10.4f.' % (endtime - starttime))\n",
    "\n",
    "\n",
    "starttime = time.perf_counter()\n",
    "\n",
    "decomp = LZWDecompressNeg(estream, bits=BITS)\n",
    "recI1d = np.zeros(I1d.shape)\n",
    "\n",
    "for i, x in enumerate(decomp):\n",
    "    recI1d[i] = x\n",
    "print(i)\n",
    "endtime = time.perf_counter()\n",
    "\n",
    "\n",
    "print('Decoding time takes %10.4f.' % (endtime - starttime))\n",
    "\n",
    "\n",
    "Ir = recI1d.reshape(I.shape)\n",
    "\n",
    "f, ax = plt.subplots(1,2, figsize=(10,3), sharex=True, sharey=True)\n",
    "ax[0].imshow(I, cmap='gray')\n",
    "ax[0].set_title('Original %6.3fKB' % (I.size/1024))\n",
    "\n",
    "ax[1].imshow(Ir, cmap='gray')\n",
    "ax[1].set_title('LZ Compressed %6.3fKB' % (encodedSize*BITS/(8*1024)))\n",
    "\n",
    "\n",
    "print('At this point you can even view the table that '\n",
    "      'encoding produced. Try estream.table.')\n",
    "\n",
    "\n",
    "#\n",
    "# I = [0 0 1 2 3 0 0 2 3 0 0 1 2 3]\n",
    "# estream = LZWCompress(I)"
   ]
  },
  {
   "cell_type": "code",
   "execution_count": null,
   "metadata": {},
   "outputs": [],
   "source": [
    "def arrInfo(arr):\n",
    "    return arr.shape, arr.min(), arr.max(), arr.dtype"
   ]
  },
  {
   "cell_type": "code",
   "execution_count": null,
   "metadata": {},
   "outputs": [],
   "source": [
    "I = plt.imread(\"happy_thanos.jpg\").astype(np.int16)\n",
    "\n",
    "\n",
    "h = np.array([-1, 1], ndmin=2).astype(np.int16)\n",
    "IfR = correlate(I[...,0].astype(np.int16), h, mode='constant', cval=0)\n",
    "IfB = correlate(I[...,1].astype(np.int16), h, mode='constant', cval=0)\n",
    "IfG = correlate(I[...,2].astype(np.int16), h, mode='constant', cval=0)\n",
    "If = np.stack((IfR,IfB,IfG),axis=-1)\n",
    "\n",
    "\n",
    "\n",
    "h = np.array([1, -1], ndmin=2).astype(np.int16)\n",
    "IaR = correlate(I[...,0].astype(np.int16), h, mode='constant', cval=0)\n",
    "IaB = correlate(I[...,1].astype(np.int16), h, mode='constant', cval=0)\n",
    "IaG = correlate(I[...,2].astype(np.int16), h, mode='constant', cval=0)\n",
    "Ia = np.stack((IaR,IaB,IaG),axis=-1)\n",
    "\n",
    "Iflt = I.copy().astype(float) / 255\n",
    "\n",
    "h = np.array([.5, .5], ndmin=2).astype(np.float)\n",
    "IavR = correlate(Iflt[...,0].astype(np.float), h, mode='constant', cval=0)\n",
    "IavB = correlate(Iflt[...,1].astype(np.float), h, mode='constant', cval=0)\n",
    "IavG = correlate(Iflt[...,2].astype(np.float), h, mode='constant', cval=0)\n",
    "Iav = np.stack((IavR,IavB,IavG),axis=-1)\n",
    "\n",
    "\n",
    "f, ax = plt.subplots(2,2,dpi=250, sharex=True, sharey=True)\n",
    "ax[0,0].imshow(I)\n",
    "ax[0,1].imshow(If-Ia.min())\n",
    "ax[1,0].imshow(Ia-Ia.min())\n",
    "ax[1,1].imshow(Iav)"
   ]
  },
  {
   "cell_type": "code",
   "execution_count": null,
   "metadata": {},
   "outputs": [],
   "source": [
    "arrInfo(Iav)"
   ]
  },
  {
   "cell_type": "code",
   "execution_count": null,
   "metadata": {},
   "outputs": [],
   "source": [
    "I_hist, I_bins = np.histogram(I.ravel(), bins=np.arange(257))\n",
    "print(entropy(I_hist, base=2))\n",
    "Ia_hist, Ia_bins = np.histogram(Ia.ravel(), bins=np.arange(257))\n",
    "print(entropy(Ia_hist, base=2))\n",
    "#the entropy is cut in half"
   ]
  },
  {
   "cell_type": "code",
   "execution_count": null,
   "metadata": {},
   "outputs": [],
   "source": [
    "Iav = (Iav*255).astype(np.uint8)\n",
    "Iav_hist, Iav_bins = np.histogram(Iav.ravel(), bins=np.arange(257))\n",
    "print(entropy(Iav_hist, base=2))"
   ]
  },
  {
   "cell_type": "code",
   "execution_count": null,
   "metadata": {},
   "outputs": [],
   "source": []
  },
  {
   "cell_type": "code",
   "execution_count": null,
   "metadata": {},
   "outputs": [],
   "source": []
  },
  {
   "cell_type": "code",
   "execution_count": null,
   "metadata": {},
   "outputs": [],
   "source": []
  },
  {
   "cell_type": "code",
   "execution_count": null,
   "metadata": {},
   "outputs": [],
   "source": []
  },
  {
   "cell_type": "code",
   "execution_count": null,
   "metadata": {},
   "outputs": [],
   "source": []
  },
  {
   "cell_type": "code",
   "execution_count": null,
   "metadata": {},
   "outputs": [],
   "source": [
    "for i in range(-10,12):\n",
    "    print(i)"
   ]
  },
  {
   "cell_type": "code",
   "execution_count": null,
   "metadata": {},
   "outputs": [],
   "source": []
  },
  {
   "cell_type": "code",
   "execution_count": null,
   "metadata": {},
   "outputs": [],
   "source": [
    "myhash = lambda window: ''.join(chr(x) for x in window)\n",
    "dict(zip([myhash([x]) for x in range(256+255)], range(256+255)))"
   ]
  },
  {
   "cell_type": "code",
   "execution_count": null,
   "metadata": {},
   "outputs": [],
   "source": []
  }
 ],
 "metadata": {
  "kernelspec": {
   "display_name": "Python 3",
   "language": "python",
   "name": "python3"
  },
  "language_info": {
   "codemirror_mode": {
    "name": "ipython",
    "version": 3
   },
   "file_extension": ".py",
   "mimetype": "text/x-python",
   "name": "python",
   "nbconvert_exporter": "python",
   "pygments_lexer": "ipython3",
   "version": "3.7.6"
  }
 },
 "nbformat": 4,
 "nbformat_minor": 4
}
