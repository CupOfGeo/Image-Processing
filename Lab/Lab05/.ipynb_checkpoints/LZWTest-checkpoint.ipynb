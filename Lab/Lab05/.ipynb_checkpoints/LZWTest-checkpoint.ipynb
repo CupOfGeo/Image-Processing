{
 "cells": [
  {
   "cell_type": "markdown",
   "metadata": {},
   "source": [
    "# Testing the LZW compression code.\n",
    "Stough\n",
    "DIP 8.2.4 on LZW encoding\n",
    "\n",
    "- [Duke site on LZW](https://www2.cs.duke.edu/csed/curious/compression/lzw.html)\n",
    "- [Nice demo codes](http://rosettacode.org/wiki/LZW_compression#Python)"
   ]
  },
  {
   "cell_type": "code",
   "execution_count": null,
   "metadata": {},
   "outputs": [],
   "source": []
  },
  {
   "cell_type": "code",
   "execution_count": 1,
   "metadata": {},
   "outputs": [],
   "source": [
    "%matplotlib widget\n",
    "import matplotlib.pyplot as plt\n",
    "import numpy as np\n",
    "\n",
    "from LZWUtil import *\n",
    "from LZWUtilNeg import *\n",
    "\n",
    "import time\n",
    "\n",
    "\n",
    "\n",
    "import scipy.ndimage as ndimage\n",
    "from scipy.ndimage import correlate\n",
    "from skimage.filters import *\n",
    "from scipy.stats import entropy\n",
    "\n",
    "\n",
    "\n",
    "BITS = 12"
   ]
  },
  {
   "cell_type": "code",
   "execution_count": 2,
   "metadata": {},
   "outputs": [
    {
     "name": "stdout",
     "output_type": "stream",
     "text": [
      "loadHuffableImage: input is multi-channel, using grayscale.\n",
      "I original size 1024.500KB, LZ encoded size 963.001KB.\n",
      "Encoding time takes    27.3695.\n",
      "1049087\n",
      "Decoding time takes    30.9668.\n"
     ]
    },
    {
     "data": {
      "application/vnd.jupyter.widget-view+json": {
       "model_id": "5c8b3a0ba1bc44b3a42d56001d75fcd7",
       "version_major": 2,
       "version_minor": 0
      },
      "text/plain": [
       "Canvas(toolbar=Toolbar(toolitems=[('Home', 'Reset original view', 'home', 'home'), ('Back', 'Back to previous …"
      ]
     },
     "metadata": {},
     "output_type": "display_data"
    },
    {
     "name": "stdout",
     "output_type": "stream",
     "text": [
      "At this point you can even view the table that encoding produced. Try estream.table.\n"
     ]
    }
   ],
   "source": [
    "I = loadHuffableImage('skyandsea.jpg')\n",
    "I1d = I.ravel()\n",
    "\n",
    "starttime = time.perf_counter()\n",
    "\n",
    "estream = LZWCompressNeg(I1d, bits=BITS) #NEG\n",
    "\n",
    "\n",
    "encodedSize = sum(1 for x in estream)\n",
    "\n",
    "endtime = time.perf_counter()\n",
    "\n",
    "print('I original size %6.3fKB, LZ encoded size %6.3fKB.' %\n",
    "      (I.size/1024, encodedSize*BITS/(8*1024)))\n",
    "\n",
    "print('Encoding time takes %10.4f.' % (endtime - starttime))\n",
    "\n",
    "\n",
    "starttime = time.perf_counter()\n",
    "\n",
    "decomp = LZWDecompressNeg(estream, bits=BITS) #NEG\n",
    "\n",
    "recI1d = np.zeros(I1d.shape)\n",
    "\n",
    "for i, x in enumerate(decomp):\n",
    "    recI1d[i] = x\n",
    "print(i)\n",
    "endtime = time.perf_counter()\n",
    "\n",
    "\n",
    "print('Decoding time takes %10.4f.' % (endtime - starttime))\n",
    "\n",
    "\n",
    "Ir = recI1d.reshape(I.shape)\n",
    "\n",
    "f, ax = plt.subplots(1,2, figsize=(10,3), sharex=True, sharey=True)\n",
    "ax[0].imshow(I, cmap='gray')\n",
    "ax[0].set_title('Original %6.3fKB' % (I.size/1024))\n",
    "\n",
    "ax[1].imshow(Ir, cmap='gray')\n",
    "ax[1].set_title('LZ Compressed %6.3fKB' % (encodedSize*BITS/(8*1024)))\n",
    "\n",
    "\n",
    "print('At this point you can even view the table that '\n",
    "      'encoding produced. Try estream.table.')\n",
    "\n",
    "\n",
    "#\n",
    "# I = [0 0 1 2 3 0 0 2 3 0 0 1 2 3]\n",
    "# estream = LZWCompress(I)"
   ]
  },
  {
   "cell_type": "code",
   "execution_count": null,
   "metadata": {},
   "outputs": [],
   "source": []
  },
  {
   "cell_type": "code",
   "execution_count": 3,
   "metadata": {},
   "outputs": [],
   "source": [
    "#estream.instream.min()\n"
   ]
  },
  {
   "cell_type": "code",
   "execution_count": 4,
   "metadata": {},
   "outputs": [],
   "source": [
    "#plt.figure()\n",
    "#plt.imshow(plt.imread(\"bacon.png\"))\n"
   ]
  },
  {
   "cell_type": "code",
   "execution_count": 5,
   "metadata": {},
   "outputs": [
    {
     "data": {
      "text/plain": [
       "((162, 788, 2), 13.0, 255.0, dtype('float32'))"
      ]
     },
     "execution_count": 5,
     "metadata": {},
     "output_type": "execute_result"
    }
   ],
   "source": [
    "def arrInfo(arr):\n",
    "    return arr.shape, arr.min(), arr.max(), arr.dtype\n",
    "\n",
    "\n",
    "I = plt.imread(\"bacon.png\")#.astype(np.int16)\n",
    "arrInfo(I[...,:2]*255)"
   ]
  },
  {
   "cell_type": "code",
   "execution_count": 6,
   "metadata": {},
   "outputs": [],
   "source": [
    "I = plt.imread(\"thanos.jpeg\").astype(np.int16)\n",
    "\n",
    "#using the pixel above by transpposing the picture then re transpoing\n",
    "T = I.copy()\n",
    "T = T.T\n",
    "h = np.array([-1, 1], ndmin=2).astype(np.int16)\n",
    "ItR = correlate(I.T[0,...].astype(np.int16), h, mode='constant', cval=0).T\n",
    "ItB = correlate(I.T[1,...].astype(np.int16), h, mode='constant', cval=0).T\n",
    "ItG = correlate(I.T[2,...].astype(np.int16), h, mode='constant', cval=0).T\n",
    "It = np.stack((ItR,ItB,ItG),axis=-1)\n",
    "\n",
    "\n",
    "\n",
    "\n",
    "h = np.array([-1, 1], ndmin=2).astype(np.int16)\n",
    "IfR = correlate(I[...,0].astype(np.int16), h, mode='constant', cval=0)\n",
    "IfB = correlate(I[...,1].astype(np.int16), h, mode='constant', cval=0)\n",
    "IfG = correlate(I[...,2].astype(np.int16), h, mode='constant', cval=0)\n",
    "If = np.stack((IfR,IfB,IfG),axis=-1)\n",
    "\n",
    "\n",
    "\n",
    "h = np.array([1, -1], ndmin=2).astype(np.int16)\n",
    "IaR = correlate(I[...,0].astype(np.int16), h, mode='constant', cval=0)\n",
    "IaB = correlate(I[...,1].astype(np.int16), h, mode='constant', cval=0)\n",
    "IaG = correlate(I[...,2].astype(np.int16), h, mode='constant', cval=0)\n",
    "Ia = np.stack((IaR,IaB,IaG),axis=-1)\n",
    "\n",
    "Iflt = I.copy().astype(float) / 255\n",
    "\n",
    "h = np.array([.5, .5], ndmin=2).astype(np.float)\n",
    "IavR = correlate(Iflt[...,0].astype(np.float), h, mode='constant', cval=0)\n",
    "IavB = correlate(Iflt[...,1].astype(np.float), h, mode='constant', cval=0)\n",
    "IavG = correlate(Iflt[...,2].astype(np.float), h, mode='constant', cval=0)\n",
    "Iav = np.stack((IavR,IavB,IavG),axis=-1)\n",
    "\n",
    "\n",
    "raw_Ia = Ia.copy()\n",
    "#clipping\n",
    "Ia = Ia-Ia.min()\n",
    "Ia[Ia > 255] = 255\n",
    "\n",
    "If = If-If.min()\n",
    "If[If > 255] = 255\n",
    "\n",
    "It = It-It.min()\n",
    "It[It > 255] = 255\n",
    "\n"
   ]
  },
  {
   "cell_type": "code",
   "execution_count": 7,
   "metadata": {},
   "outputs": [
    {
     "data": {
      "text/plain": [
       "((630, 1200, 3), -126, 79, dtype('int16'))"
      ]
     },
     "execution_count": 7,
     "metadata": {},
     "output_type": "execute_result"
    }
   ],
   "source": [
    "arrInfo(raw_Ia)"
   ]
  },
  {
   "cell_type": "code",
   "execution_count": 8,
   "metadata": {},
   "outputs": [],
   "source": [
    "def PlotWithHist(I, title):\n",
    "    f, ax2 = plt.subplots(1,2, figsize=(10,3))\n",
    "    I_hist, I_bins = np.histogram(I.ravel(), bins=np.arange(257))\n",
    "    print(\"the entorpy of\", title, \"is\",entropy(I_hist, base=2))\n",
    "    ax2[0].imshow(I) #https://matplotlib.org/api/_as_gen/matplotlib.pyplot.imshow.html\n",
    "    ax2[0].set_title(title)\n",
    "    ax2[1].hist(I[...,0].ravel(), 250, alpha = .6, label = 'red', color = 'r')\n",
    "    ax2[1].hist(I[...,1].ravel(), 250, alpha = .6, label = 'green', color = 'g')\n",
    "    ax2[1].hist(I[...,2].ravel(), 250, alpha = .6, label = 'blue', color = 'b')\n",
    "    ax2[1].legend(loc = 'upper right')"
   ]
  },
  {
   "cell_type": "code",
   "execution_count": 9,
   "metadata": {},
   "outputs": [
    {
     "data": {
      "application/vnd.jupyter.widget-view+json": {
       "model_id": "60c537a99f894d22a543e88d4563eb97",
       "version_major": 2,
       "version_minor": 0
      },
      "text/plain": [
       "Canvas(toolbar=Toolbar(toolitems=[('Home', 'Reset original view', 'home', 'home'), ('Back', 'Back to previous …"
      ]
     },
     "metadata": {},
     "output_type": "display_data"
    },
    {
     "name": "stdout",
     "output_type": "stream",
     "text": [
      "the entorpy of Original is 7.676283193723261\n"
     ]
    },
    {
     "data": {
      "application/vnd.jupyter.widget-view+json": {
       "model_id": "0cb8b261cda549cb92e5269ba5c4dfec",
       "version_major": 2,
       "version_minor": 0
      },
      "text/plain": [
       "Canvas(toolbar=Toolbar(toolitems=[('Home', 'Reset original view', 'home', 'home'), ('Back', 'Back to previous …"
      ]
     },
     "metadata": {},
     "output_type": "display_data"
    },
    {
     "name": "stdout",
     "output_type": "stream",
     "text": [
      "the entorpy of sub is 3.87646710616502\n"
     ]
    },
    {
     "data": {
      "application/vnd.jupyter.widget-view+json": {
       "model_id": "19bacbfda61b4ad7917300de55eb67f2",
       "version_major": 2,
       "version_minor": 0
      },
      "text/plain": [
       "Canvas(toolbar=Toolbar(toolitems=[('Home', 'Reset original view', 'home', 'home'), ('Back', 'Back to previous …"
      ]
     },
     "metadata": {},
     "output_type": "display_data"
    },
    {
     "name": "stdout",
     "output_type": "stream",
     "text": [
      "the entorpy of top is 4.01568206521397\n"
     ]
    },
    {
     "data": {
      "application/vnd.jupyter.widget-view+json": {
       "model_id": "5d917023c1c547a492ab1133bdada993",
       "version_major": 2,
       "version_minor": 0
      },
      "text/plain": [
       "Canvas(toolbar=Toolbar(toolitems=[('Home', 'Reset original view', 'home', 'home'), ('Back', 'Back to previous …"
      ]
     },
     "metadata": {},
     "output_type": "display_data"
    },
    {
     "name": "stdout",
     "output_type": "stream",
     "text": [
      "the entorpy of average is 0.012808536430404943\n"
     ]
    }
   ],
   "source": [
    "PlotWithHist(I,\"Original\")\n",
    "PlotWithHist(Ia, \"sub\")\n",
    "PlotWithHist(It, \"top\")\n",
    "PlotWithHist(Iav, \"average\")"
   ]
  },
  {
   "cell_type": "code",
   "execution_count": null,
   "metadata": {},
   "outputs": [],
   "source": []
  },
  {
   "cell_type": "code",
   "execution_count": 10,
   "metadata": {},
   "outputs": [
    {
     "name": "stdout",
     "output_type": "stream",
     "text": [
      "7.665050390466607\n"
     ]
    }
   ],
   "source": [
    "Iav = (Iav*255).astype(np.uint8)\n",
    "Iav_hist, Iav_bins = np.histogram(Iav.ravel(), bins=np.arange(257))\n",
    "print(entropy(Iav_hist, base=2))"
   ]
  },
  {
   "cell_type": "code",
   "execution_count": 12,
   "metadata": {},
   "outputs": [
    {
     "name": "stdout",
     "output_type": "stream",
     "text": [
      "loadHuffableImage: input is multi-channel, using grayscale.\n"
     ]
    },
    {
     "ename": "KeyError",
     "evalue": "''",
     "output_type": "error",
     "traceback": [
      "\u001b[0;31m---------------------------------------------------------------------------\u001b[0m",
      "\u001b[0;31mKeyError\u001b[0m                                  Traceback (most recent call last)",
      "\u001b[0;32m<ipython-input-12-b629f4b729cb>\u001b[0m in \u001b[0;36m<module>\u001b[0;34m\u001b[0m\n\u001b[1;32m      7\u001b[0m \u001b[0;34m\u001b[0m\u001b[0m\n\u001b[1;32m      8\u001b[0m \u001b[0;34m\u001b[0m\u001b[0m\n\u001b[0;32m----> 9\u001b[0;31m \u001b[0mencodedSize\u001b[0m \u001b[0;34m=\u001b[0m \u001b[0msum\u001b[0m\u001b[0;34m(\u001b[0m\u001b[0;36m1\u001b[0m \u001b[0;32mfor\u001b[0m \u001b[0mx\u001b[0m \u001b[0;32min\u001b[0m \u001b[0mestream\u001b[0m\u001b[0;34m)\u001b[0m\u001b[0;34m\u001b[0m\u001b[0;34m\u001b[0m\u001b[0m\n\u001b[0m\u001b[1;32m     10\u001b[0m \u001b[0;34m\u001b[0m\u001b[0m\n\u001b[1;32m     11\u001b[0m \u001b[0mendtime\u001b[0m \u001b[0;34m=\u001b[0m \u001b[0mtime\u001b[0m\u001b[0;34m.\u001b[0m\u001b[0mperf_counter\u001b[0m\u001b[0;34m(\u001b[0m\u001b[0;34m)\u001b[0m\u001b[0;34m\u001b[0m\u001b[0;34m\u001b[0m\u001b[0m\n",
      "\u001b[0;32m<ipython-input-12-b629f4b729cb>\u001b[0m in \u001b[0;36m<genexpr>\u001b[0;34m(.0)\u001b[0m\n\u001b[1;32m      7\u001b[0m \u001b[0;34m\u001b[0m\u001b[0m\n\u001b[1;32m      8\u001b[0m \u001b[0;34m\u001b[0m\u001b[0m\n\u001b[0;32m----> 9\u001b[0;31m \u001b[0mencodedSize\u001b[0m \u001b[0;34m=\u001b[0m \u001b[0msum\u001b[0m\u001b[0;34m(\u001b[0m\u001b[0;36m1\u001b[0m \u001b[0;32mfor\u001b[0m \u001b[0mx\u001b[0m \u001b[0;32min\u001b[0m \u001b[0mestream\u001b[0m\u001b[0;34m)\u001b[0m\u001b[0;34m\u001b[0m\u001b[0;34m\u001b[0m\u001b[0m\n\u001b[0m\u001b[1;32m     10\u001b[0m \u001b[0;34m\u001b[0m\u001b[0m\n\u001b[1;32m     11\u001b[0m \u001b[0mendtime\u001b[0m \u001b[0;34m=\u001b[0m \u001b[0mtime\u001b[0m\u001b[0;34m.\u001b[0m\u001b[0mperf_counter\u001b[0m\u001b[0;34m(\u001b[0m\u001b[0;34m)\u001b[0m\u001b[0;34m\u001b[0m\u001b[0;34m\u001b[0m\u001b[0m\n",
      "\u001b[0;32m~/Image-Processing/Lab/Lab05/LZWUtilNeg.py\u001b[0m in \u001b[0;36m__iter__\u001b[0;34m(self)\u001b[0m\n\u001b[1;32m     38\u001b[0m             \u001b[0mcurwindow\u001b[0m\u001b[0;34m.\u001b[0m\u001b[0mappend\u001b[0m\u001b[0;34m(\u001b[0m\u001b[0mx\u001b[0m\u001b[0;34m)\u001b[0m \u001b[0;31m#s + ch\u001b[0m\u001b[0;34m\u001b[0m\u001b[0;34m\u001b[0m\u001b[0m\n\u001b[1;32m     39\u001b[0m             \u001b[0;32mif\u001b[0m \u001b[0mmyhash\u001b[0m\u001b[0;34m(\u001b[0m\u001b[0mcurwindow\u001b[0m\u001b[0;34m)\u001b[0m \u001b[0;32mnot\u001b[0m \u001b[0;32min\u001b[0m \u001b[0mself\u001b[0m\u001b[0;34m.\u001b[0m\u001b[0mtable\u001b[0m\u001b[0;34m:\u001b[0m \u001b[0;31m#if s+ch not in table\u001b[0m\u001b[0;34m\u001b[0m\u001b[0;34m\u001b[0m\u001b[0m\n\u001b[0;32m---> 40\u001b[0;31m                 \u001b[0;32myield\u001b[0m \u001b[0mself\u001b[0m\u001b[0;34m.\u001b[0m\u001b[0mtable\u001b[0m\u001b[0;34m[\u001b[0m\u001b[0mmyhash\u001b[0m\u001b[0;34m(\u001b[0m\u001b[0mcurwindow\u001b[0m\u001b[0;34m[\u001b[0m\u001b[0;34m:\u001b[0m\u001b[0;34m-\u001b[0m\u001b[0;36m1\u001b[0m\u001b[0;34m]\u001b[0m\u001b[0;34m)\u001b[0m\u001b[0;34m]\u001b[0m \u001b[0;31m#yield s\u001b[0m\u001b[0;34m\u001b[0m\u001b[0;34m\u001b[0m\u001b[0m\n\u001b[0m\u001b[1;32m     41\u001b[0m                 \u001b[0;32mif\u001b[0m \u001b[0mlen\u001b[0m\u001b[0;34m(\u001b[0m\u001b[0mself\u001b[0m\u001b[0;34m.\u001b[0m\u001b[0mtable\u001b[0m\u001b[0;34m)\u001b[0m \u001b[0;34m<\u001b[0m \u001b[0;36m2\u001b[0m\u001b[0;34m**\u001b[0m\u001b[0mself\u001b[0m\u001b[0;34m.\u001b[0m\u001b[0mbits\u001b[0m\u001b[0;34m:\u001b[0m \u001b[0;31m#if enough space in dict\u001b[0m\u001b[0;34m\u001b[0m\u001b[0;34m\u001b[0m\u001b[0m\n\u001b[1;32m     42\u001b[0m                     \u001b[0mself\u001b[0m\u001b[0;34m.\u001b[0m\u001b[0mtable\u001b[0m\u001b[0;34m[\u001b[0m\u001b[0mmyhash\u001b[0m\u001b[0;34m(\u001b[0m\u001b[0mcurwindow\u001b[0m\u001b[0;34m)\u001b[0m\u001b[0;34m]\u001b[0m \u001b[0;34m=\u001b[0m \u001b[0mlen\u001b[0m\u001b[0;34m(\u001b[0m\u001b[0mself\u001b[0m\u001b[0;34m.\u001b[0m\u001b[0mtable\u001b[0m\u001b[0;34m)\u001b[0m \u001b[0;31m#add s+ch\u001b[0m\u001b[0;34m\u001b[0m\u001b[0;34m\u001b[0m\u001b[0m\n",
      "\u001b[0;31mKeyError\u001b[0m: ''"
     ]
    }
   ],
   "source": [
    "I = loadHuffableImage(raw_Ia)\n",
    "I1d = raw_Ia.ravel()\n",
    "\n",
    "starttime = time.perf_counter()\n",
    "\n",
    "estream = LZWCompressNeg(I1d, bits=12) #NEG\n",
    "\n",
    "\n",
    "encodedSize = sum(1 for x in estream)\n",
    "\n",
    "endtime = time.perf_counter()\n",
    "\n",
    "print('I original size %6.3fKB, LZ encoded size %6.3fKB.' %\n",
    "      (I.size/1024, encodedSize*BITS/(8*1024)))\n",
    "\n",
    "print('Encoding time takes %10.4f.' % (endtime - starttime))\n",
    "\n",
    "\n",
    "starttime = time.perf_counter()\n",
    "\n",
    "decomp = LZWDecompressNeg(estream, bits=BITS) #NEG\n",
    "\n",
    "recI1d = np.zeros(I1d.shape)\n",
    "\n",
    "for i, x in enumerate(decomp):\n",
    "    recI1d[i] = x\n",
    "print(i)\n",
    "endtime = time.perf_counter()\n",
    "\n",
    "\n",
    "print('Decoding time takes %10.4f.' % (endtime - starttime))\n",
    "\n",
    "\n",
    "Ir = recI1d.reshape(I.shape)\n",
    "\n",
    "f, ax = plt.subplots(1,2, figsize=(10,3), sharex=True, sharey=True)\n",
    "ax[0].imshow(I, cmap='gray')\n",
    "ax[0].set_title('Original %6.3fKB' % (I.size/1024))\n",
    "\n",
    "ax[1].imshow(Ir, cmap='gray')\n",
    "ax[1].set_title('LZ Compressed %6.3fKB' % (encodedSize*BITS/(8*1024)))\n",
    "\n",
    "\n",
    "print('At this point you can even view the table that '\n",
    "      'encoding produced. Try estream.table.')\n",
    "\n",
    "\n",
    "#\n",
    "# I = [0 0 1 2 3 0 0 2 3 0 0 1 2 3]\n",
    "# estream = LZWCompress(I)"
   ]
  },
  {
   "cell_type": "code",
   "execution_count": null,
   "metadata": {},
   "outputs": [],
   "source": [
    "estream.instream\n",
    "estream.table"
   ]
  },
  {
   "cell_type": "code",
   "execution_count": null,
   "metadata": {},
   "outputs": [],
   "source": []
  },
  {
   "cell_type": "code",
   "execution_count": null,
   "metadata": {},
   "outputs": [],
   "source": []
  },
  {
   "cell_type": "code",
   "execution_count": null,
   "metadata": {},
   "outputs": [],
   "source": []
  },
  {
   "cell_type": "code",
   "execution_count": null,
   "metadata": {},
   "outputs": [],
   "source": [
    "for i in range(-10,12):\n",
    "    print(i)"
   ]
  },
  {
   "cell_type": "code",
   "execution_count": null,
   "metadata": {},
   "outputs": [],
   "source": []
  },
  {
   "cell_type": "code",
   "execution_count": null,
   "metadata": {},
   "outputs": [],
   "source": [
    "myhash = lambda window: ''.join(chr(x) for x in window)\n",
    "dict(zip([myhash([x]) for x in range(256+255)], range(256+255)))"
   ]
  },
  {
   "cell_type": "code",
   "execution_count": null,
   "metadata": {},
   "outputs": [],
   "source": []
  }
 ],
 "metadata": {
  "kernelspec": {
   "display_name": "Python 3",
   "language": "python",
   "name": "python3"
  },
  "language_info": {
   "codemirror_mode": {
    "name": "ipython",
    "version": 3
   },
   "file_extension": ".py",
   "mimetype": "text/x-python",
   "name": "python",
   "nbconvert_exporter": "python",
   "pygments_lexer": "ipython3",
   "version": "3.7.6"
  }
 },
 "nbformat": 4,
 "nbformat_minor": 4
}
