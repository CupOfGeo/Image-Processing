{
 "cells": [
  {
   "cell_type": "code",
   "execution_count": 4,
   "metadata": {},
   "outputs": [],
   "source": [
    "def foo(lst, p):\n",
    "    i = 0\n",
    "    j = len(lst)-1 \n",
    "    while(i<j):\n",
    "        while(i<j and lst[i] < p):\n",
    "            i +=1\n",
    "        while(i<j and lst[j] >= p):\n",
    "            j -=1\n",
    "        if(i<j):\n",
    "            temp = lst[i]\n",
    "            lst[i] = lst[j]\n",
    "            lst[j] = temp\n",
    "    return lst"
   ]
  },
  {
   "cell_type": "code",
   "execution_count": 13,
   "metadata": {},
   "outputs": [
    {
     "data": {
      "text/plain": [
       "720"
      ]
     },
     "execution_count": 13,
     "metadata": {},
     "output_type": "execute_result"
    }
   ],
   "source": [
    "# A Python program to print all  \n",
    "# permutations using library function \n",
    "from itertools import permutations \n",
    "\n",
    "power = []\n",
    "# Get all permutations of [1, 2, 3] \n",
    "perm = permutations([1,2,3,4,6,7]) \n",
    "# Print the obtained permutations \n",
    "for i in list(perm): \n",
    "    power.append(i) \n",
    "len(power)"
   ]
  },
  {
   "cell_type": "code",
   "execution_count": 12,
   "metadata": {},
   "outputs": [
    {
     "name": "stdout",
     "output_type": "stream",
     "text": [
      "(0, 1, 2, 3, 7, 6, 4)\n",
      "[0, 1, 2, 3, 4, 6, 7] -10\n",
      "(0, 1, 2, 3, 7, 6, 4)\n",
      "[0, 1, 2, 3, 4, 6, 7] -9\n",
      "(0, 1, 2, 3, 7, 6, 4)\n",
      "[0, 1, 2, 3, 4, 6, 7] -8\n",
      "(0, 1, 2, 3, 7, 6, 4)\n",
      "[0, 1, 2, 3, 4, 6, 7] -7\n",
      "(0, 1, 2, 3, 7, 6, 4)\n",
      "[0, 1, 2, 3, 4, 6, 7] -6\n",
      "(0, 1, 2, 3, 7, 6, 4)\n",
      "[0, 1, 2, 3, 4, 6, 7] -5\n",
      "(0, 1, 2, 3, 7, 6, 4)\n",
      "[0, 1, 2, 3, 4, 6, 7] -4\n",
      "(0, 1, 2, 3, 7, 6, 4)\n",
      "[0, 1, 2, 3, 4, 6, 7] -3\n",
      "(0, 1, 2, 3, 7, 6, 4)\n",
      "[0, 1, 2, 3, 4, 6, 7] -2\n",
      "(0, 1, 2, 3, 7, 6, 4)\n",
      "[0, 1, 2, 3, 4, 6, 7] -1\n",
      "(0, 1, 2, 3, 7, 6, 4)\n",
      "[0, 1, 2, 3, 4, 6, 7] 0\n",
      "(0, 1, 2, 3, 7, 6, 4)\n",
      "[0, 1, 2, 3, 4, 6, 7] 1\n",
      "(0, 1, 2, 3, 7, 6, 4)\n",
      "[0, 1, 2, 3, 4, 6, 7] 2\n",
      "(0, 1, 2, 3, 7, 6, 4)\n",
      "[0, 1, 2, 3, 4, 6, 7] 3\n",
      "(0, 1, 2, 3, 7, 6, 4)\n",
      "[0, 1, 2, 3, 4, 6, 7] 4\n",
      "(0, 1, 2, 3, 7, 6, 4)\n",
      "[0, 1, 2, 3, 4, 6, 7] 5\n",
      "(0, 1, 2, 3, 7, 6, 4)\n",
      "[0, 1, 2, 3, 4, 6, 7] 6\n",
      "(0, 1, 2, 3, 7, 6, 4)\n",
      "[0, 1, 2, 3, 4, 6, 7] 7\n",
      "(0, 1, 2, 3, 7, 6, 4)\n",
      "[0, 1, 2, 3, 4, 6, 7] 8\n",
      "(0, 1, 2, 3, 7, 6, 4)\n",
      "[0, 1, 2, 3, 4, 6, 7] 9\n",
      "\n",
      "(0, 1, 2, 4, 3, 7, 6)\n",
      "[0, 1, 2, 4, 3, 6, 7] -10\n",
      "(0, 1, 2, 4, 3, 7, 6)\n",
      "[0, 1, 2, 4, 3, 6, 7] -9\n",
      "(0, 1, 2, 4, 3, 7, 6)\n",
      "[0, 1, 2, 4, 3, 6, 7] -8\n",
      "(0, 1, 2, 4, 3, 7, 6)\n",
      "[0, 1, 2, 4, 3, 6, 7] -7\n",
      "(0, 1, 2, 4, 3, 7, 6)\n",
      "[0, 1, 2, 4, 3, 6, 7] -6\n",
      "(0, 1, 2, 4, 3, 7, 6)\n",
      "[0, 1, 2, 4, 3, 6, 7] -5\n",
      "(0, 1, 2, 4, 3, 7, 6)\n",
      "[0, 1, 2, 4, 3, 6, 7] -4\n",
      "(0, 1, 2, 4, 3, 7, 6)\n",
      "[0, 1, 2, 4, 3, 6, 7] -3\n",
      "(0, 1, 2, 4, 3, 7, 6)\n",
      "[0, 1, 2, 4, 3, 6, 7] -2\n",
      "(0, 1, 2, 4, 3, 7, 6)\n",
      "[0, 1, 2, 4, 3, 6, 7] -1\n",
      "(0, 1, 2, 4, 3, 7, 6)\n",
      "[0, 1, 2, 4, 3, 6, 7] 0\n",
      "(0, 1, 2, 4, 3, 7, 6)\n",
      "[0, 1, 2, 4, 3, 6, 7] 1\n",
      "(0, 1, 2, 4, 3, 7, 6)\n",
      "[0, 1, 2, 4, 3, 6, 7] 2\n",
      "(0, 1, 2, 4, 3, 7, 6)\n",
      "[0, 1, 2, 4, 3, 6, 7] 3\n",
      "(0, 1, 2, 4, 3, 7, 6)\n",
      "[0, 1, 2, 4, 3, 6, 7] 4\n",
      "(0, 1, 2, 4, 3, 7, 6)\n",
      "[0, 1, 2, 4, 3, 6, 7] 5\n",
      "(0, 1, 2, 4, 3, 7, 6)\n",
      "[0, 1, 2, 4, 3, 6, 7] 6\n",
      "(0, 1, 2, 4, 3, 7, 6)\n",
      "[0, 1, 2, 4, 3, 6, 7] 7\n",
      "(0, 1, 2, 4, 3, 7, 6)\n",
      "[0, 1, 2, 4, 3, 6, 7] 8\n",
      "(0, 1, 2, 4, 3, 7, 6)\n",
      "[0, 1, 2, 4, 3, 6, 7] 9\n",
      "\n"
     ]
    }
   ],
   "source": [
    "for r in range(len(power)):\n",
    "    for p in range(-10,10):\n",
    "        if list(power[r]) == foo(list(power[r]),r): #original list\n",
    "            pass\n",
    "        else:\n",
    "            print(power[r])\n",
    "            print(foo(list(power[r]),r), p)\n",
    "            if p == 9:\n",
    "                print()"
   ]
  },
  {
   "cell_type": "code",
   "execution_count": null,
   "metadata": {},
   "outputs": [],
   "source": []
  }
 ],
 "metadata": {
  "kernelspec": {
   "display_name": "Python 3",
   "language": "python",
   "name": "python3"
  },
  "language_info": {
   "codemirror_mode": {
    "name": "ipython",
    "version": 3
   },
   "file_extension": ".py",
   "mimetype": "text/x-python",
   "name": "python",
   "nbconvert_exporter": "python",
   "pygments_lexer": "ipython3",
   "version": "3.7.6"
  }
 },
 "nbformat": 4,
 "nbformat_minor": 4
}
